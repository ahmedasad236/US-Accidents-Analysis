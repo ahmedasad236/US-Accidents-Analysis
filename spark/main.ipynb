{
 "cells": [
  {
   "cell_type": "code",
   "execution_count": 1,
   "metadata": {},
   "outputs": [],
   "source": [
    "from pyspark.sql import SparkSession"
   ]
  },
  {
   "cell_type": "code",
   "execution_count": 2,
   "metadata": {},
   "outputs": [],
   "source": [
    "from dotenv import load_dotenv\n",
    "import os\n",
    "load_dotenv()\n",
    "key_filepath = os.getenv(\"GOOGLE_APPLICATION_CREDENTIALS\")\n"
   ]
  },
  {
   "cell_type": "code",
   "execution_count": 3,
   "metadata": {},
   "outputs": [
    {
     "name": "stderr",
     "output_type": "stream",
     "text": [
      "Setting default log level to \"WARN\".\n",
      "To adjust logging level use sc.setLogLevel(newLevel). For SparkR, use setLogLevel(newLevel).\n"
     ]
    },
    {
     "name": "stdout",
     "output_type": "stream",
     "text": [
      "24/04/28 15:13:04 WARN NativeCodeLoader: Unable to load native-hadoop library for your platform... using builtin-java classes where applicable\n"
     ]
    }
   ],
   "source": [
    "spark = SparkSession.builder \\\n",
    "    .master(\"local[6]\") \\\n",
    "    .appName(\"US Accidents\") \\\n",
    "    .config(\"spark.hadoop.fs.gs.impl\", \"com.google.cloud.hadoop.fs.gcs.GoogleHadoopFileSystem\") \\\n",
    "    .config(\"spark.hadoop.google.cloud.auth.service.account.json.keyfile\",key_filepath  ) \\\n",
    "    .config(\"spark.hadoop.google.cloud.auth.service.account.enable\", \"true\") \\\n",
    "    .getOrCreate()"
   ]
  },
  {
   "cell_type": "code",
   "execution_count": 5,
   "metadata": {},
   "outputs": [
    {
     "name": "stderr",
     "output_type": "stream",
     "text": [
      "                                                                                \r"
     ]
    }
   ],
   "source": [
    "# Read data from GCS\n",
    "df = spark.read.parquet(\"gs://us-accidents-bucket/us_accidents_data/Start_Year=2016/933c14c388864f19a17c514e311a69b1-0.parquet\")"
   ]
  },
  {
   "cell_type": "code",
   "execution_count": 11,
   "metadata": {},
   "outputs": [
    {
     "name": "stderr",
     "output_type": "stream",
     "text": [
      "                                                                                \r"
     ]
    },
    {
     "data": {
      "text/plain": [
       "Row(ID='A-1', Source='Source2', Severity='3', Start_Time='2016-02-08 05:46:00', End_Time='2016-02-08 11:00:00', Start_Lat=39.865147, Start_Lng=-84.058723, Distance(mi)=0.01, Description='Right lane blocked due to accident on I-70 Eastbound at Exit 41 OH-235 State Route 4.', Street='I-70 E', City='Dayton', County='Montgomery', State='OH', Country='US', Temperature(F)=36.9, Wind_Chill(F)=None, Humidity(%)=91.0, Pressure(in)=29.68, Visibility(mi)=10.0, Wind_Direction='Calm', Wind_Speed(mph)=None, Weather_Condition='Light Rain', Crossing=False, Railway=False, Station=False, Traffic_Calming=False, Traffic_Signal=False, Sunrise_Sunset='Night')"
      ]
     },
     "execution_count": 11,
     "metadata": {},
     "output_type": "execute_result"
    }
   ],
   "source": [
    "df.head(1)[0]"
   ]
  },
  {
   "cell_type": "code",
   "execution_count": 12,
   "metadata": {},
   "outputs": [
    {
     "name": "stderr",
     "output_type": "stream",
     "text": [
      "[Stage 8:>                                                          (0 + 1) / 1]\r"
     ]
    },
    {
     "name": "stdout",
     "output_type": "stream",
     "text": [
      "A-1 Source2 3 2016-02-08 05:46:00 2016-02-08 11:00:00 39.865147 -84.058723 0.01 Right lane blocked due to accident on I-70 Eastbound at Exit 41 OH-235 State Route 4. I-70 E Dayton Montgomery OH US 36.9 None 91.0 29.68 10.0 Calm None Light Rain False False False False False Night\n"
     ]
    },
    {
     "name": "stderr",
     "output_type": "stream",
     "text": [
      "                                                                                \r"
     ]
    }
   ],
   "source": [
    "row = df.head(1)[0]\n",
    "\n",
    "# Using dot notation\n",
    "ID = row.ID\n",
    "Source = row.Source\n",
    "Severity = row.Severity\n",
    "Start_Time = row.Start_Time\n",
    "End_Time = row.End_Time\n",
    "Start_Lat = row.Start_Lat\n",
    "Start_Lng = row.Start_Lng\n",
    "Distance = row['Distance(mi)']\n",
    "Description = row.Description\n",
    "Street = row.Street\n",
    "City = row.City\n",
    "County = row.County\n",
    "State = row.State\n",
    "Country = row.Country\n",
    "Temperature = row[\"Temperature(F)\"]\n",
    "Wind_Chill = row[\"Wind_Chill(F)\"]\n",
    "Humidity = row[\"Humidity(%)\"]\n",
    "Pressure = row[\"Pressure(in)\"]\n",
    "Visibility = row[\"Visibility(mi)\"]\n",
    "Wind_Direction = row.Wind_Direction\n",
    "Wind_Speed = row[\"Wind_Speed(mph)\"]\n",
    "Weather_Condition = row.Weather_Condition\n",
    "Crossing = row.Crossing\n",
    "Railway = row.Railway\n",
    "Station = row.Station\n",
    "Traffic_Calming = row.Traffic_Calming\n",
    "Traffic_Signal = row.Traffic_Signal\n",
    "Sunrise_Sunset = row.Sunrise_Sunset\n",
    "\n",
    "# Print values to verify\n",
    "print(ID, Source, Severity, Start_Time, End_Time, Start_Lat, Start_Lng, Distance, Description, Street, City, County, State, Country, Temperature, Wind_Chill, Humidity, Pressure, Visibility, Wind_Direction, Wind_Speed, Weather_Condition, Crossing, Railway, Station, Traffic_Calming, Traffic_Signal, Sunrise_Sunset)\n"
   ]
  }
 ],
 "metadata": {
  "kernelspec": {
   "display_name": "Python 3",
   "language": "python",
   "name": "python3"
  },
  "language_info": {
   "codemirror_mode": {
    "name": "ipython",
    "version": 3
   },
   "file_extension": ".py",
   "mimetype": "text/x-python",
   "name": "python",
   "nbconvert_exporter": "python",
   "pygments_lexer": "ipython3",
   "version": "3.10.14"
  }
 },
 "nbformat": 4,
 "nbformat_minor": 2
}
