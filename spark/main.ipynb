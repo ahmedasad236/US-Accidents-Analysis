{
 "cells": [
  {
   "cell_type": "code",
   "execution_count": 1,
   "metadata": {},
   "outputs": [],
   "source": [
    "from pyspark.sql import SparkSession\n",
    "from pyspark.sql.functions import col, count, desc, avg, to_timestamp, hour, date_format, month, year, when, mean, expr, element_at\n",
    "from pyspark.sql.types import IntegerType\n",
    "from pyspark.ml.feature import VectorAssembler, OneHotEncoder, StringIndexer\n",
    "from pyspark.ml import Pipeline\n"
   ]
  },
  {
   "cell_type": "code",
   "execution_count": 2,
   "metadata": {},
   "outputs": [],
   "source": [
    "from dotenv import load_dotenv\n",
    "import os\n",
    "load_dotenv()\n",
    "key_filepath = os.getenv(\"GOOGLE_APPLICATION_CREDENTIALS\")\n"
   ]
  },
  {
   "cell_type": "code",
   "execution_count": 3,
   "metadata": {},
   "outputs": [
    {
     "name": "stderr",
     "output_type": "stream",
     "text": [
      "Setting default log level to \"WARN\".\n",
      "To adjust logging level use sc.setLogLevel(newLevel). For SparkR, use setLogLevel(newLevel).\n"
     ]
    },
    {
     "name": "stdout",
     "output_type": "stream",
     "text": [
      "24/05/10 00:53:15 WARN NativeCodeLoader: Unable to load native-hadoop library for your platform... using builtin-java classes where applicable\n"
     ]
    }
   ],
   "source": [
    "spark = SparkSession.builder \\\n",
    "    .master(\"local[*]\") \\\n",
    "    .appName(\"US Accidents\") \\\n",
    "    .config(\"spark.executor.memory\", \"10g\") \\\n",
    "    .config(\"spark.driver.memory\", \"10g\") \\\n",
    "    .config(\"spark.hadoop.fs.gs.impl\", \"com.google.cloud.hadoop.fs.gcs.GoogleHadoopFileSystem\") \\\n",
    "    .config(\"spark.hadoop.google.cloud.auth.service.account.json.keyfile\", key_filepath) \\\n",
    "    .config(\"spark.hadoop.google.cloud.auth.service.account.enable\", \"true\") \\\n",
    "    .config(\"spark.sql.legacy.timeParserPolicy\", \"LEGACY\") \\\n",
    "    .getOrCreate()"
   ]
  },
  {
   "cell_type": "code",
   "execution_count": 4,
   "metadata": {},
   "outputs": [
    {
     "name": "stderr",
     "output_type": "stream",
     "text": [
      "                                                                                \r"
     ]
    }
   ],
   "source": [
    "\n",
    "# Read Parquet files from GCS\n",
    "parquet_files = [\n",
    "                \"gs://us-accidents-bucket/us_accidents_data/Start_Year=2016/933c14c388864f19a17c514e311a69b1-0.parquet\",\n",
    "                \"gs://us-accidents-bucket/us_accidents_data/Start_Year=2017/933c14c388864f19a17c514e311a69b1-0.parquet\",\n",
    "                \"gs://us-accidents-bucket/us_accidents_data/Start_Year=2018/933c14c388864f19a17c514e311a69b1-0.parquet\",\n",
    "                \"gs://us-accidents-bucket/us_accidents_data/Start_Year=2019/933c14c388864f19a17c514e311a69b1-0.parquet\",\n",
    "                \"gs://us-accidents-bucket/us_accidents_data/Start_Year=2020/933c14c388864f19a17c514e311a69b1-0.parquet\",\n",
    "                \"gs://us-accidents-bucket/us_accidents_data/Start_Year=2021/933c14c388864f19a17c514e311a69b1-0.parquet\",\n",
    "                \"gs://us-accidents-bucket/us_accidents_data/Start_Year=2022/933c14c388864f19a17c514e311a69b1-0.parquet\",\n",
    "                \"gs://us-accidents-bucket/us_accidents_data/Start_Year=2023/933c14c388864f19a17c514e311a69b1-0.parquet\"\n",
    "                ]\n",
    "\n",
    "df_list = [spark.read.option(\"header\", \"true\").option(\"inferSchema\", \"true\").parquet(file) for file in parquet_files]\n",
    "\n",
    "merged_df = df_list[0]\n",
    "for df in df_list[1:]:\n",
    "    merged_df = merged_df.unionAll(df)"
   ]
  },
  {
   "cell_type": "code",
   "execution_count": 5,
   "metadata": {},
   "outputs": [
    {
     "name": "stdout",
     "output_type": "stream",
     "text": [
      "24/04/30 23:00:18 WARN package: Truncated the string representation of a plan since it was too large. This behavior can be adjusted by setting 'spark.sql.debug.maxToStringFields'.\n"
     ]
    },
    {
     "name": "stderr",
     "output_type": "stream",
     "text": [
      "[Stage 8:>                                                          (0 + 1) / 1]\r"
     ]
    },
    {
     "name": "stdout",
     "output_type": "stream",
     "text": [
      "+----+-------+--------+-------------------+-------------------+-----------------+------------------+------------+--------------------+--------------------+------------+----------+-----+-------+--------------+-------------+-----------+------------+--------------+--------------+---------------+-----------------+--------+-------+-------+---------------+--------------+--------------+\n",
      "|  ID| Source|Severity|         Start_Time|           End_Time|        Start_Lat|         Start_Lng|Distance(mi)|         Description|              Street|        City|    County|State|Country|Temperature(F)|Wind_Chill(F)|Humidity(%)|Pressure(in)|Visibility(mi)|Wind_Direction|Wind_Speed(mph)|Weather_Condition|Crossing|Railway|Station|Traffic_Calming|Traffic_Signal|Sunrise_Sunset|\n",
      "+----+-------+--------+-------------------+-------------------+-----------------+------------------+------------+--------------------+--------------------+------------+----------+-----+-------+--------------+-------------+-----------+------------+--------------+--------------+---------------+-----------------+--------+-------+-------+---------------+--------------+--------------+\n",
      "| A-1|Source2|       3|2016-02-08 05:46:00|2016-02-08 11:00:00|        39.865147|        -84.058723|        0.01|Right lane blocke...|              I-70 E|      Dayton|Montgomery|   OH|     US|          36.9|         null|       91.0|       29.68|          10.0|          Calm|           null|       Light Rain|   false|  false|  false|          false|         false|         Night|\n",
      "| A-2|Source2|       2|2016-02-08 06:07:59|2016-02-08 06:37:59|39.92805900000001|        -82.831184|        0.01|Accident on Brice...|            Brice Rd|Reynoldsburg|  Franklin|   OH|     US|          37.9|         null|      100.0|       29.65|          10.0|          Calm|           null|       Light Rain|   false|  false|  false|          false|         false|         Night|\n",
      "| A-3|Source2|       2|2016-02-08 06:49:27|2016-02-08 07:19:27|        39.063148|        -84.032608|        0.01|Accident on OH-32...|      State Route 32|Williamsburg|  Clermont|   OH|     US|          36.0|         33.3|      100.0|       29.67|          10.0|            SW|            3.5|         Overcast|   false|  false|  false|          false|          true|         Night|\n",
      "| A-4|Source2|       3|2016-02-08 07:23:34|2016-02-08 07:53:34|        39.747753|-84.20558199999998|        0.01|Accident on I-75 ...|              I-75 S|      Dayton|Montgomery|   OH|     US|          35.1|         31.0|       96.0|       29.64|           9.0|            SW|            4.6|    Mostly Cloudy|   false|  false|  false|          false|         false|         Night|\n",
      "| A-5|Source2|       2|2016-02-08 07:39:07|2016-02-08 08:09:07|        39.627781|        -84.188354|        0.01|Accident on McEwe...|Miamisburg Center...|      Dayton|Montgomery|   OH|     US|          36.0|         33.3|       89.0|       29.65|           6.0|            SW|            3.5|    Mostly Cloudy|   false|  false|  false|          false|          true|           Day|\n",
      "| A-6|Source2|       3|2016-02-08 07:44:26|2016-02-08 08:14:26|         40.10059|-82.92519399999998|        0.01|Accident on I-270...|      Westerville Rd| Westerville|  Franklin|   OH|     US|          37.9|         35.5|       97.0|       29.63|           7.0|           SSW|            3.5|       Light Rain|   false|  false|  false|          false|         false|           Day|\n",
      "| A-7|Source2|       2|2016-02-08 07:59:35|2016-02-08 08:29:35|        39.758274|-84.23050699999997|         0.0|Accident on Oakri...|      N Woodward Ave|      Dayton|Montgomery|   OH|     US|          34.0|         31.0|      100.0|       29.66|           7.0|           WSW|            3.5|         Overcast|   false|  false|  false|          false|         false|           Day|\n",
      "| A-8|Source2|       3|2016-02-08 07:59:58|2016-02-08 08:29:58|        39.770382|        -84.194901|        0.01|Accident on I-75 ...|           N Main St|      Dayton|Montgomery|   OH|     US|          34.0|         31.0|      100.0|       29.66|           7.0|           WSW|            3.5|         Overcast|   false|  false|  false|          false|         false|           Day|\n",
      "| A-9|Source2|       2|2016-02-08 08:00:40|2016-02-08 08:30:40|        39.778061|        -84.172005|         0.0|Accident on Notre...|      Notre Dame Ave|      Dayton|Montgomery|   OH|     US|          33.3|         null|       99.0|       29.67|           5.0|            SW|            1.2|    Mostly Cloudy|   false|  false|  false|          false|         false|           Day|\n",
      "|A-10|Source2|       3|2016-02-08 08:10:04|2016-02-08 08:40:04|         40.10059|-82.92519399999998|        0.01|Right hand should...|      Westerville Rd| Westerville|  Franklin|   OH|     US|          37.4|         33.8|      100.0|       29.62|           3.0|           SSW|            4.6|       Light Rain|   false|  false|  false|          false|         false|           Day|\n",
      "|A-11|Source2|       3|2016-02-08 08:14:42|2016-02-08 08:44:42|        39.952812|        -83.119293|        0.01|Accident on I-270...|         Outerbelt S|    Columbus|  Franklin|   OH|     US|          35.6|         30.7|       93.0|       29.64|           5.0|           WNW|            5.8|             Rain|    true|  false|  false|          false|         false|           Day|\n",
      "|A-12|Source2|       3|2016-02-08 08:21:27|2016-02-08 08:51:27|        39.932709|         -82.83091|        0.01|One lane blocked ...|              I-70 E|Reynoldsburg|  Franklin|   OH|     US|          37.4|         33.8|      100.0|       29.62|           3.0|           SSW|            4.6|       Light Rain|   false|  false|  false|          false|         false|           Day|\n",
      "|A-13|Source2|       2|2016-02-08 08:36:34|2016-02-08 09:06:34|        39.737633|-84.14993299999998|         0.0|Accident on Rever...|      Watervliet Ave|      Dayton|Montgomery|   OH|     US|          33.8|         null|      100.0|       29.63|           3.0|            SW|            2.3|         Overcast|   false|  false|  false|          false|         false|           Day|\n",
      "|A-14|Source2|       2|2016-02-08 08:37:07|2016-02-08 09:07:07|         39.79076|        -84.241547|        0.01|Accident on Salem...|           Salem Ave|      Dayton|Montgomery|   OH|     US|          36.0|         31.1|       89.0|       29.65|          10.0|            NW|            5.8|    Mostly Cloudy|   false|  false|  false|          false|          true|           Day|\n",
      "|A-15|Source2|       2|2016-02-08 08:39:43|2016-02-08 09:09:43|        39.972038|        -82.913521|        0.01|Accident on OH-16...|          E Broad St|    Columbus|  Franklin|   OH|     US|          37.4|         33.8|      100.0|       29.62|           3.0|           SSW|            4.6|       Light Rain|   false|  false|  false|          false|          true|           Day|\n",
      "|A-16|Source2|       2|2016-02-08 08:43:20|2016-02-08 09:13:20|        39.745888|         -84.17041|        0.01|Accident on Wayne...|         Glencoe Ave|      Dayton|Montgomery|   OH|     US|          33.8|         null|      100.0|       29.63|           3.0|            SW|            2.3|         Overcast|   false|  false|  false|          false|         false|           Day|\n",
      "|A-17|Source2|       2|2016-02-08 08:53:17|2016-02-08 09:23:17|        39.748329|        -84.224007|        0.01|Accident on James...|S James H McGee Blvd|      Dayton|Montgomery|   OH|     US|          35.6|         null|       99.0|       29.65|           7.0|           WSW|            2.3|    Mostly Cloudy|   false|  false|  false|          false|         false|           Day|\n",
      "|A-18|Source2|       2|2016-02-08 09:24:37|2016-02-08 09:54:37|        39.752174|        -84.239952|         0.0|Accident on Delph...|         Delphos Ave|      Dayton|Montgomery|   OH|     US|          36.0|         31.1|       89.0|       29.65|          10.0|            NW|            5.8|    Mostly Cloudy|   false|  false|  false|          false|         false|           Day|\n",
      "|A-19|Source2|       2|2016-02-08 09:25:17|2016-02-08 09:55:17|        39.740669|        -84.184135|        0.01|Accident on Stewa...|          Rubicon St|      Dayton|Montgomery|   OH|     US|          37.4|         32.1|       93.0|       29.63|          10.0|           WSW|            6.9|         Overcast|    true|  false|  false|          false|          true|           Day|\n",
      "|A-20|Source2|       2|2016-02-08 09:35:35|2016-02-08 10:05:35|        39.790703|        -84.244461|        0.01|Accident on Hillc...|     W Hillcrest Ave|      Dayton|Montgomery|   OH|     US|          36.0|         30.3|       89.0|       29.65|          10.0|          West|            6.9|    Mostly Cloudy|   false|  false|  false|          false|         false|           Day|\n",
      "+----+-------+--------+-------------------+-------------------+-----------------+------------------+------------+--------------------+--------------------+------------+----------+-----+-------+--------------+-------------+-----------+------------+--------------+--------------+---------------+-----------------+--------+-------+-------+---------------+--------------+--------------+\n",
      "only showing top 20 rows\n",
      "\n"
     ]
    },
    {
     "name": "stderr",
     "output_type": "stream",
     "text": [
      "                                                                                \r"
     ]
    }
   ],
   "source": [
    "merged_df.show()"
   ]
  },
  {
   "cell_type": "markdown",
   "metadata": {},
   "source": [
    "# Cleaning the data\n",
    "\n",
    "### Steps:\n",
    "> Removing unimportnant columns\n",
    "\n",
    "> Renaming the columns\n",
    "\n",
    "> Convert the values of the columns into easy handled values"
   ]
  },
  {
   "cell_type": "code",
   "execution_count": 5,
   "metadata": {},
   "outputs": [],
   "source": [
    "from pyspark.sql.functions import to_timestamp\n",
    "\n",
    "# Convert \"Start_Time\" and \"End_Time\" columns to datetime format\n",
    "merged_df = merged_df.withColumn(\"Start_Time\", to_timestamp(merged_df[\"Start_Time\"], \"yyyy-MM-dd HH:mm:ss\"))\n",
    "merged_df = merged_df.withColumn(\"End_Time\", to_timestamp(merged_df[\"End_Time\"], \"yyyy-MM-dd HH:mm:ss\"))\n"
   ]
  },
  {
   "cell_type": "code",
   "execution_count": 6,
   "metadata": {},
   "outputs": [],
   "source": [
    "\n",
    "# Convert \"Severity\" column from string to integer\n",
    "merged_df = merged_df.withColumn(\"Severity\", merged_df[\"Severity\"].cast(IntegerType()))\n"
   ]
  },
  {
   "cell_type": "code",
   "execution_count": 7,
   "metadata": {},
   "outputs": [],
   "source": [
    "# TODO: If the rows that have at least one null value remove them, and if they are large number \n",
    "# replace the null with the average of its column\n",
    "merged_df = merged_df.dropna()"
   ]
  },
  {
   "cell_type": "code",
   "execution_count": 39,
   "metadata": {},
   "outputs": [
    {
     "name": "stderr",
     "output_type": "stream",
     "text": [
      "                                                                                \r"
     ]
    },
    {
     "data": {
      "text/plain": [
       "5656839"
      ]
     },
     "execution_count": 39,
     "metadata": {},
     "output_type": "execute_result"
    }
   ],
   "source": [
    "merged_df.count()"
   ]
  },
  {
   "cell_type": "markdown",
   "metadata": {},
   "source": [
    "## We have dropped about 2 millions records because of nulls :)"
   ]
  },
  {
   "cell_type": "code",
   "execution_count": 8,
   "metadata": {},
   "outputs": [],
   "source": [
    "# Create a new column called Duration = End_Time - Start_Time\n",
    "# To indicate the duration of the accident\n",
    "from pyspark.sql.functions import col, unix_timestamp\n",
    "\n",
    "# Convert \"Start_Time\" and \"End_Time\" columns to Unix timestamp (seconds since the epoch)\n",
    "merged_df = merged_df.withColumn(\"Start_Time_unix\", unix_timestamp(\"Start_Time\"))\n",
    "merged_df = merged_df.withColumn(\"End_Time_unix\", unix_timestamp(\"End_Time\"))\n",
    "\n",
    "# Calculate the duration (in seconds)\n",
    "merged_df = merged_df.withColumn(\"Duration\", col(\"End_Time_unix\") - col(\"Start_Time_unix\"))\n"
   ]
  },
  {
   "cell_type": "code",
   "execution_count": 9,
   "metadata": {},
   "outputs": [],
   "source": [
    "# Add columns for start_time\n",
    "merged_df = merged_df.withColumn('Hour_Of_Acc', hour(merged_df['Start_Time']))\n",
    "merged_df = merged_df.withColumn('Day_Of_Acc', date_format(merged_df['Start_Time'], 'EEEE'))\n",
    "merged_df = merged_df.withColumn('Month_Of_Acc', month(merged_df['Start_Time']))"
   ]
  },
  {
   "cell_type": "code",
   "execution_count": 10,
   "metadata": {},
   "outputs": [],
   "source": [
    "# Use 'when' function to assign temperature categories based on the bins\n",
    "temperature_category_column = when(merged_df['Temperature(F)'] <= 50, 'Cold') \\\n",
    "    .when((merged_df['Temperature(F)'] > 50) & (merged_df['Temperature(F)'] <= 75), 'Moderate') \\\n",
    "    .otherwise('Warm')\n",
    "\n",
    "# Add the temperature category column to the DataFrame\n",
    "merged_df = merged_df.withColumn('Temperature_Category', temperature_category_column)"
   ]
  },
  {
   "cell_type": "code",
   "execution_count": 11,
   "metadata": {},
   "outputs": [],
   "source": [
    "# Convert \"Distance(mi)\" column from miles to meters\n",
    "merged_df = merged_df.withColumn(\"Distance(m)\", col(\"Distance(mi)\") * 1609.34)"
   ]
  },
  {
   "cell_type": "code",
   "execution_count": 12,
   "metadata": {},
   "outputs": [],
   "source": [
    "# Drop unnecessary or redundant columns\n",
    "\n",
    "# List of column names to drop\n",
    "columns_to_drop = ['Country', 'Start_Time', 'End_Time', 'Distance(mi)', 'Start_Time_unix', 'End_Time_unix']\n",
    "\n",
    "# Drop the unimportant columns\n",
    "merged_df = merged_df.drop(*columns_to_drop)\n",
    "\n"
   ]
  },
  {
   "cell_type": "code",
   "execution_count": 37,
   "metadata": {},
   "outputs": [
    {
     "name": "stderr",
     "output_type": "stream",
     "text": [
      "[Stage 19:>                                                         (0 + 1) / 1]\r"
     ]
    },
    {
     "name": "stdout",
     "output_type": "stream",
     "text": [
      "+----+-------+--------+---------+------------------+--------------------+--------------------+------------+----------+-----+--------------+-------------+-----------+------------+--------------+--------------+---------------+-----------------+--------+-------+-------+---------------+--------------+--------------+--------+-----------+----------+------------+--------------------+-----------+\n",
      "|  ID| Source|Severity|Start_Lat|         Start_Lng|         Description|              Street|        City|    County|State|Temperature(F)|Wind_Chill(F)|Humidity(%)|Pressure(in)|Visibility(mi)|Wind_Direction|Wind_Speed(mph)|Weather_Condition|Crossing|Railway|Station|Traffic_Calming|Traffic_Signal|Sunrise_Sunset|Duration|Hour_Of_Acc|Day_Of_Acc|Month_Of_Acc|Temperature_Category|Distance(m)|\n",
      "+----+-------+--------+---------+------------------+--------------------+--------------------+------------+----------+-----+--------------+-------------+-----------+------------+--------------+--------------+---------------+-----------------+--------+-------+-------+---------------+--------------+--------------+--------+-----------+----------+------------+--------------------+-----------+\n",
      "| A-3|Source2|       2|39.063148|        -84.032608|Accident on OH-32...|      State Route 32|Williamsburg|  Clermont|   OH|          36.0|         33.3|      100.0|       29.67|          10.0|            SW|            3.5|         Overcast|   false|  false|  false|          false|          true|         Night|    1800|          6|    Monday|           2|                Cold|    16.0934|\n",
      "| A-4|Source2|       3|39.747753|-84.20558199999998|Accident on I-75 ...|              I-75 S|      Dayton|Montgomery|   OH|          35.1|         31.0|       96.0|       29.64|           9.0|            SW|            4.6|    Mostly Cloudy|   false|  false|  false|          false|         false|         Night|    1800|          7|    Monday|           2|                Cold|    16.0934|\n",
      "| A-5|Source2|       2|39.627781|        -84.188354|Accident on McEwe...|Miamisburg Center...|      Dayton|Montgomery|   OH|          36.0|         33.3|       89.0|       29.65|           6.0|            SW|            3.5|    Mostly Cloudy|   false|  false|  false|          false|          true|           Day|    1800|          7|    Monday|           2|                Cold|    16.0934|\n",
      "| A-6|Source2|       3| 40.10059|-82.92519399999998|Accident on I-270...|      Westerville Rd| Westerville|  Franklin|   OH|          37.9|         35.5|       97.0|       29.63|           7.0|           SSW|            3.5|       Light Rain|   false|  false|  false|          false|         false|           Day|    1800|          7|    Monday|           2|                Cold|    16.0934|\n",
      "| A-7|Source2|       2|39.758274|-84.23050699999997|Accident on Oakri...|      N Woodward Ave|      Dayton|Montgomery|   OH|          34.0|         31.0|      100.0|       29.66|           7.0|           WSW|            3.5|         Overcast|   false|  false|  false|          false|         false|           Day|    1800|          7|    Monday|           2|                Cold|        0.0|\n",
      "| A-8|Source2|       3|39.770382|        -84.194901|Accident on I-75 ...|           N Main St|      Dayton|Montgomery|   OH|          34.0|         31.0|      100.0|       29.66|           7.0|           WSW|            3.5|         Overcast|   false|  false|  false|          false|         false|           Day|    1800|          7|    Monday|           2|                Cold|    16.0934|\n",
      "|A-10|Source2|       3| 40.10059|-82.92519399999998|Right hand should...|      Westerville Rd| Westerville|  Franklin|   OH|          37.4|         33.8|      100.0|       29.62|           3.0|           SSW|            4.6|       Light Rain|   false|  false|  false|          false|         false|           Day|    1800|          8|    Monday|           2|                Cold|    16.0934|\n",
      "|A-11|Source2|       3|39.952812|        -83.119293|Accident on I-270...|         Outerbelt S|    Columbus|  Franklin|   OH|          35.6|         30.7|       93.0|       29.64|           5.0|           WNW|            5.8|             Rain|    true|  false|  false|          false|         false|           Day|    1800|          8|    Monday|           2|                Cold|    16.0934|\n",
      "|A-12|Source2|       3|39.932709|         -82.83091|One lane blocked ...|              I-70 E|Reynoldsburg|  Franklin|   OH|          37.4|         33.8|      100.0|       29.62|           3.0|           SSW|            4.6|       Light Rain|   false|  false|  false|          false|         false|           Day|    1800|          8|    Monday|           2|                Cold|    16.0934|\n",
      "|A-14|Source2|       2| 39.79076|        -84.241547|Accident on Salem...|           Salem Ave|      Dayton|Montgomery|   OH|          36.0|         31.1|       89.0|       29.65|          10.0|            NW|            5.8|    Mostly Cloudy|   false|  false|  false|          false|          true|           Day|    1800|          8|    Monday|           2|                Cold|    16.0934|\n",
      "|A-15|Source2|       2|39.972038|        -82.913521|Accident on OH-16...|          E Broad St|    Columbus|  Franklin|   OH|          37.4|         33.8|      100.0|       29.62|           3.0|           SSW|            4.6|       Light Rain|   false|  false|  false|          false|          true|           Day|    1800|          8|    Monday|           2|                Cold|    16.0934|\n",
      "|A-18|Source2|       2|39.752174|        -84.239952|Accident on Delph...|         Delphos Ave|      Dayton|Montgomery|   OH|          36.0|         31.1|       89.0|       29.65|          10.0|            NW|            5.8|    Mostly Cloudy|   false|  false|  false|          false|         false|           Day|    1800|          9|    Monday|           2|                Cold|        0.0|\n",
      "|A-19|Source2|       2|39.740669|        -84.184135|Accident on Stewa...|          Rubicon St|      Dayton|Montgomery|   OH|          37.4|         32.1|       93.0|       29.63|          10.0|           WSW|            6.9|         Overcast|    true|  false|  false|          false|          true|           Day|    1800|          9|    Monday|           2|                Cold|    16.0934|\n",
      "|A-20|Source2|       2|39.790703|        -84.244461|Accident on Hillc...|     W Hillcrest Ave|      Dayton|Montgomery|   OH|          36.0|         30.3|       89.0|       29.65|          10.0|          West|            6.9|    Mostly Cloudy|   false|  false|  false|          false|         false|           Day|    1800|          9|    Monday|           2|                Cold|    16.0934|\n",
      "|A-21|Source2|       2|40.052509|-82.88233199999998|Accident on Brook...|        Brookhill Dr|    Columbus|  Franklin|   OH|          33.8|         29.6|      100.0|       29.62|           2.0|           NNW|            4.6|       Light Snow|   false|  false|  false|          false|         false|           Day|    1800|         10|    Monday|           2|                Cold|        0.0|\n",
      "|A-22|Source2|       2|39.773346|        -84.224686|Accident on Princ...|        Princeton Dr|      Dayton|Montgomery|   OH|          36.0|         30.3|       89.0|       29.65|          10.0|          West|            6.9|    Mostly Cloudy|   false|  false|  false|          false|         false|           Day|    1800|         10|    Monday|           2|                Cold|        0.0|\n",
      "|A-23|Source2|       2|39.628288|        -84.226151|Accident on OH-74...|     Springboro Pike|  Miamisburg|Montgomery|   OH|          35.1|         28.6|       89.0|       29.65|           6.0|           WSW|            8.1|         Overcast|   false|  false|  false|          false|          true|           Day|    1800|         11|    Monday|           2|                Cold|    16.0934|\n",
      "|A-24|Source2|       3|40.023487|        -82.994888|Accident on I-71 ...|         North Fwy S|    Columbus|  Franklin|   OH|          37.0|         32.4|       96.0|       29.63|           8.0|          West|            5.8|         Overcast|   false|  false|  false|          false|         false|           Day|    2700|         12|    Monday|           2|                Cold|    16.0934|\n",
      "|A-25|Source2|       2|39.761379|-84.25921600000002|Accident on Hoove...|          Hoover Ave|      Dayton|Montgomery|   OH|          37.9|         30.9|       76.0|       29.62|          10.0|           WNW|           10.4|         Overcast|   false|  false|  false|          false|          true|           Day|    2700|         12|    Monday|           2|                Cold|    16.0934|\n",
      "|A-26|Source2|       2|40.158024|        -82.641762|Accident on Count...|   Sportsman Club Rd|   Johnstown|   Licking|   OH|          37.9|         34.4|      100.0|        29.6|           5.0|          West|            4.6|       Light Snow|   false|  false|  false|          false|         false|           Day|    1800|         12|    Monday|           2|                Cold|  2124.3288|\n",
      "+----+-------+--------+---------+------------------+--------------------+--------------------+------------+----------+-----+--------------+-------------+-----------+------------+--------------+--------------+---------------+-----------------+--------+-------+-------+---------------+--------------+--------------+--------+-----------+----------+------------+--------------------+-----------+\n",
      "only showing top 20 rows\n",
      "\n"
     ]
    },
    {
     "name": "stderr",
     "output_type": "stream",
     "text": [
      "                                                                                \r"
     ]
    }
   ],
   "source": [
    "merged_df.show()"
   ]
  },
  {
   "cell_type": "code",
   "execution_count": 42,
   "metadata": {},
   "outputs": [
    {
     "data": {
      "text/plain": [
       "['ID',\n",
       " 'Source',\n",
       " 'Severity',\n",
       " 'Start_Time',\n",
       " 'End_Time',\n",
       " 'Start_Lat',\n",
       " 'Start_Lng',\n",
       " 'Description',\n",
       " 'Street',\n",
       " 'City',\n",
       " 'County',\n",
       " 'State',\n",
       " 'Temperature(F)',\n",
       " 'Wind_Chill(F)',\n",
       " 'Humidity(%)',\n",
       " 'Pressure(in)',\n",
       " 'Visibility(mi)',\n",
       " 'Wind_Direction',\n",
       " 'Wind_Speed(mph)',\n",
       " 'Weather_Condition',\n",
       " 'Crossing',\n",
       " 'Railway',\n",
       " 'Station',\n",
       " 'Traffic_Calming',\n",
       " 'Traffic_Signal',\n",
       " 'Sunrise_Sunset',\n",
       " 'Distance(m)',\n",
       " 'Start_Time_unix',\n",
       " 'End_Time_unix',\n",
       " 'Duration']"
      ]
     },
     "execution_count": 42,
     "metadata": {},
     "output_type": "execute_result"
    }
   ],
   "source": [
    "merged_df.columns"
   ]
  },
  {
   "cell_type": "markdown",
   "metadata": {},
   "source": [
    "# Predictive Analytics\n",
    "\n",
    "1. [Regression]➔ Predicting accident Duration as indicator of impact on\n",
    "traffic flow.\n",
    "\n",
    "2. [classification]➔ Predicting the severity of an accident based on the\n",
    "factors involved."
   ]
  },
  {
   "cell_type": "markdown",
   "metadata": {},
   "source": [
    "### Based on the EDA phase we will use the following features in our model:\n",
    "- Start_Lat\n",
    "- Start_Lng\n",
    "- Duration\n",
    "- Hour_Of_Acc\n",
    "- Day_Of_Acc\n",
    "- Month_Of_Acc\n",
    "- Temperature\n",
    "- Distance\n",
    "- State\n",
    "- Crossing\n",
    "- Railway\n",
    "- Traffic_Calming\n",
    "- Traffic_Signal\n",
    "- Sunrise_Sunset\n",
    "- Wind_Direction\n",
    "- Wind_Speed(mph)\n",
    "\n",
    "\n",
    "### Note: \n",
    "\n",
    "The severity of the accident, a number between 1 and 4, where 1 indicates the least impact on traffic (i.e., short delay as a result of the accident) and 4 indicates a significant impact on traffic (i.e., long delay)."
   ]
  },
  {
   "cell_type": "code",
   "execution_count": 13,
   "metadata": {},
   "outputs": [
    {
     "name": "stdout",
     "output_type": "stream",
     "text": [
      "24/05/10 00:53:54 WARN package: Truncated the string representation of a plan since it was too large. This behavior can be adjusted by setting 'spark.sql.debug.maxToStringFields'.\n"
     ]
    },
    {
     "name": "stderr",
     "output_type": "stream",
     "text": [
      "[Stage 8:>                                                          (0 + 1) / 1]\r"
     ]
    },
    {
     "name": "stdout",
     "output_type": "stream",
     "text": [
      "+---------+----------+--------+-----------+----------+------------+--------------+--------------+-----------+-----+------------+--------+-------+--------------+---------------+---------------+--------------+--------+\n",
      "|Start_Lat| Start_Lng|Duration|Hour_Of_Acc|Day_Of_Acc|Month_Of_Acc|Temperature(F)|Sunrise_Sunset|Distance(m)|State|        City|Crossing|Railway|Wind_Direction|Wind_Speed(mph)|Traffic_Calming|Traffic_Signal|Severity|\n",
      "+---------+----------+--------+-----------+----------+------------+--------------+--------------+-----------+-----+------------+--------+-------+--------------+---------------+---------------+--------------+--------+\n",
      "|39.063148|-84.032608|    1800|          6|    Monday|           2|          36.0|         Night|    16.0934|   OH|Williamsburg|   false|  false|            SW|            3.5|          false|          true|       2|\n",
      "+---------+----------+--------+-----------+----------+------------+--------------+--------------+-----------+-----+------------+--------+-------+--------------+---------------+---------------+--------------+--------+\n",
      "only showing top 1 row\n",
      "\n"
     ]
    },
    {
     "name": "stderr",
     "output_type": "stream",
     "text": [
      "                                                                                \r"
     ]
    }
   ],
   "source": [
    "\n",
    "columns_to_keep = [\n",
    "    \"Start_Lat\",\"Start_Lng\",\"Duration\",\n",
    "    \"Hour_Of_Acc\",\"Day_Of_Acc\",\"Month_Of_Acc\",\n",
    "    \"Temperature(F)\",\"Sunrise_Sunset\",\"Distance(m)\",\n",
    "    \"State\", \"City\", \"Crossing\",\"Railway\",\n",
    "    'Wind_Direction', 'Wind_Speed(mph)',\n",
    "    \"Traffic_Calming\", \"Traffic_Signal\", \"Severity\"\n",
    "]\n",
    "\n",
    "# Selecting only the desired columns\n",
    "data_df = merged_df.select(columns_to_keep)\n",
    "\n",
    "# Showing the resulting DataFrame\n",
    "data_df.show(1)"
   ]
  },
  {
   "cell_type": "markdown",
   "metadata": {},
   "source": [
    "## 1. Logistic Regression\n",
    "\n",
    "➔ Predicting the severity of an accident based on the factors"
   ]
  },
  {
   "cell_type": "code",
   "execution_count": 14,
   "metadata": {},
   "outputs": [],
   "source": [
    "from pyspark.ml.feature import StringIndexer, VectorAssembler\n",
    "from pyspark.ml.classification import LogisticRegression\n",
    "from pyspark.ml import Pipeline\n",
    "from pyspark.ml.evaluation import MulticlassClassificationEvaluator\n",
    "from pyspark.sql.functions import col"
   ]
  },
  {
   "cell_type": "code",
   "execution_count": 15,
   "metadata": {},
   "outputs": [
    {
     "name": "stderr",
     "output_type": "stream",
     "text": [
      "                                                                                \r"
     ]
    }
   ],
   "source": [
    "# Convert string columns to numerical representations\n",
    "string_columns = [\"Day_Of_Acc\", \"Sunrise_Sunset\", \"State\", \"City\", \"Wind_Direction\"]\n",
    "indexers = [StringIndexer(inputCol=column, outputCol=column+\"_index\").fit(data_df) for column in string_columns]"
   ]
  },
  {
   "cell_type": "code",
   "execution_count": 16,
   "metadata": {},
   "outputs": [],
   "source": [
    "# Assemble features\n",
    "numerical_columns = [\"Duration\", \"Hour_Of_Acc\", \"Month_Of_Acc\", \"Temperature(F)\", \"Distance(m)\"]\n",
    "boolean_columns = [\"Crossing\", \"Railway\", \"Traffic_Calming\", \"Traffic_Signal\"]\n",
    "assembler = VectorAssembler(inputCols=numerical_columns + [column+\"_index\" for column in string_columns] + boolean_columns, outputCol=\"features\")"
   ]
  },
  {
   "cell_type": "code",
   "execution_count": 17,
   "metadata": {},
   "outputs": [],
   "source": [
    "# Split the data into training and testing sets\n",
    "(training_data, test_data) = data_df.randomSplit([0.75, 0.25], seed=42)\n",
    "\n",
    "# Instantiate logistic regression model\n",
    "lgr = LogisticRegression(featuresCol=\"features\", labelCol=\"Severity\")"
   ]
  },
  {
   "cell_type": "code",
   "execution_count": null,
   "metadata": {},
   "outputs": [],
   "source": [
    "# Create a pipeline\n",
    "pipeline = Pipeline(stages=indexers + [assembler, lgr])\n",
    "\n",
    "# Train the model\n",
    "model = pipeline.fit(training_data)\n",
    "\n",
    "# Make predictions\n",
    "predictions = model.transform(test_data)"
   ]
  },
  {
   "cell_type": "code",
   "execution_count": 19,
   "metadata": {},
   "outputs": [
    {
     "name": "stderr",
     "output_type": "stream",
     "text": [
      "[Stage 412:======================================================>(61 + 1) / 62]\r"
     ]
    },
    {
     "name": "stdout",
     "output_type": "stream",
     "text": [
      "Accuracy: 0.8408217891358007\n"
     ]
    },
    {
     "name": "stderr",
     "output_type": "stream",
     "text": [
      "                                                                                \r"
     ]
    }
   ],
   "source": [
    "# Evaluate the model\n",
    "evaluator = MulticlassClassificationEvaluator(labelCol=\"Severity\", predictionCol=\"prediction\", metricName=\"accuracy\")\n",
    "accuracy = evaluator.evaluate(predictions)\n",
    "print(\"Accuracy:\", accuracy)"
   ]
  },
  {
   "cell_type": "code",
   "execution_count": 20,
   "metadata": {},
   "outputs": [
    {
     "name": "stderr",
     "output_type": "stream",
     "text": [
      "[Stage 414:=====================================================> (60 + 2) / 62]\r"
     ]
    },
    {
     "name": "stdout",
     "output_type": "stream",
     "text": [
      "F1 Score: 0.7685677937765466\n"
     ]
    },
    {
     "name": "stderr",
     "output_type": "stream",
     "text": [
      "                                                                                \r"
     ]
    }
   ],
   "source": [
    "evaluator = MulticlassClassificationEvaluator(labelCol=\"Severity\", predictionCol=\"prediction\", metricName=\"f1\")\n",
    "f1_score = evaluator.evaluate(predictions)\n",
    "print(\"F1 Score:\", f1_score)\n"
   ]
  },
  {
   "cell_type": "markdown",
   "metadata": {},
   "source": [
    "### 1.2 Logistic Regression with Map Reduce"
   ]
  },
  {
   "cell_type": "code",
   "execution_count": 17,
   "metadata": {},
   "outputs": [],
   "source": [
    "# Create a Pipeline to chain the StringIndexer transformations\n",
    "indexer_pipeline = Pipeline(stages=indexers)\n",
    "\n",
    "# Use the Pipeline to transform the data\n",
    "stages = indexer_pipeline.fit(data_df).transform(data_df)\n",
    "\n",
    "# Combine StringIndexer transformations using list comprehension\n",
    "stages = data_df\n",
    "\n",
    "for indexer in indexers:\n",
    "  stages = indexer.transform(stages)"
   ]
  },
  {
   "cell_type": "code",
   "execution_count": 41,
   "metadata": {},
   "outputs": [
    {
     "name": "stderr",
     "output_type": "stream",
     "text": [
      "[Stage 45:>                                                         (0 + 1) / 1]\r"
     ]
    },
    {
     "name": "stdout",
     "output_type": "stream",
     "text": [
      "+---------+----------+--------+-----------+----------+------------+--------------+--------------+-----------+-----+------------+--------+-------+--------------+---------------+---------------+--------------+--------+----------------+--------------------+-----------+----------+--------------------+\n",
      "|Start_Lat| Start_Lng|Duration|Hour_Of_Acc|Day_Of_Acc|Month_Of_Acc|Temperature(F)|Sunrise_Sunset|Distance(m)|State|        City|Crossing|Railway|Wind_Direction|Wind_Speed(mph)|Traffic_Calming|Traffic_Signal|Severity|Day_Of_Acc_index|Sunrise_Sunset_index|State_index|City_index|Wind_Direction_index|\n",
      "+---------+----------+--------+-----------+----------+------------+--------------+--------------+-----------+-----+------------+--------+-------+--------------+---------------+---------------+--------------+--------+----------------+--------------------+-----------+----------+--------------------+\n",
      "|39.063148|-84.032608|    1800|          6|    Monday|           2|          36.0|         Night|    16.0934|   OH|Williamsburg|   false|  false|            SW|            3.5|          false|          true|       2|             4.0|                 1.0|       18.0|     519.0|                 8.0|\n",
      "+---------+----------+--------+-----------+----------+------------+--------------+--------------+-----------+-----+------------+--------+-------+--------------+---------------+---------------+--------------+--------+----------------+--------------------+-----------+----------+--------------------+\n",
      "only showing top 1 row\n",
      "\n"
     ]
    },
    {
     "name": "stderr",
     "output_type": "stream",
     "text": [
      "                                                                                \r"
     ]
    }
   ],
   "source": [
    "stages.show(1)"
   ]
  },
  {
   "cell_type": "code",
   "execution_count": 18,
   "metadata": {},
   "outputs": [
    {
     "name": "stderr",
     "output_type": "stream",
     "text": [
      "[Stage 24:>                                                         (0 + 1) / 1]\r"
     ]
    },
    {
     "name": "stdout",
     "output_type": "stream",
     "text": [
      "+---------+----------+--------+-----------+------------+--------------+-----------+--------+-------+---------------+---------------+--------------+--------+----------------+--------------------+-----------+----------+--------------------+\n",
      "|Start_Lat| Start_Lng|Duration|Hour_Of_Acc|Month_Of_Acc|Temperature(F)|Distance(m)|Crossing|Railway|Wind_Speed(mph)|Traffic_Calming|Traffic_Signal|Severity|Day_Of_Acc_index|Sunrise_Sunset_index|State_index|City_index|Wind_Direction_index|\n",
      "+---------+----------+--------+-----------+------------+--------------+-----------+--------+-------+---------------+---------------+--------------+--------+----------------+--------------------+-----------+----------+--------------------+\n",
      "|39.063148|-84.032608|    1800|          6|           2|          36.0|    16.0934|   false|  false|            3.5|          false|          true|       2|             4.0|                 1.0|       18.0|     519.0|                 8.0|\n",
      "+---------+----------+--------+-----------+------------+--------------+-----------+--------+-------+---------------+---------------+--------------+--------+----------------+--------------------+-----------+----------+--------------------+\n",
      "only showing top 1 row\n",
      "\n"
     ]
    },
    {
     "name": "stderr",
     "output_type": "stream",
     "text": [
      "                                                                                \r"
     ]
    }
   ],
   "source": [
    "new_data = stages.drop('Day_Of_Acc', 'Sunrise_Sunset', 'City', 'State', 'Wind_Direction')\n",
    "new_data.show(1)"
   ]
  },
  {
   "cell_type": "code",
   "execution_count": 19,
   "metadata": {},
   "outputs": [],
   "source": [
    "# Split the data into training and testing sets\n",
    "(training_data_mr, test_data_mr) = new_data.randomSplit([0.75, 0.25], seed=42)"
   ]
  },
  {
   "cell_type": "code",
   "execution_count": 20,
   "metadata": {},
   "outputs": [],
   "source": [
    "from logistic_regression_mr import LogisticRegression\n",
    "\n",
    "# 1. convert the data into rdd\n",
    "training_data_mr = training_data_mr.rdd.map(lambda row: (row[0:12] + row[13:-1], row[12]))"
   ]
  },
  {
   "cell_type": "code",
   "execution_count": 21,
   "metadata": {},
   "outputs": [
    {
     "name": "stderr",
     "output_type": "stream",
     "text": [
      "[Stage 25:>                                                         (0 + 1) / 1]\r"
     ]
    },
    {
     "name": "stdout",
     "output_type": "stream",
     "text": [
      "((33.183228, -117.296371, 2673, 21, 12, 44.1, 16.0934, False, False, 4.6, False, False, 4.0, 1.0, 0.0, 376.0), 2)\n"
     ]
    },
    {
     "name": "stderr",
     "output_type": "stream",
     "text": [
      "                                                                                \r"
     ]
    }
   ],
   "source": [
    "print(training_data_mr.first())"
   ]
  },
  {
   "cell_type": "code",
   "execution_count": 22,
   "metadata": {},
   "outputs": [],
   "source": [
    "learning_rate = 0.001  \n",
    "num_iterations = 5   \n",
    "model = LogisticRegression(learning_rate, num_iterations)"
   ]
  },
  {
   "cell_type": "code",
   "execution_count": 23,
   "metadata": {},
   "outputs": [
    {
     "name": "stderr",
     "output_type": "stream",
     "text": [
      "                                                                                \r"
     ]
    },
    {
     "name": "stdout",
     "output_type": "stream",
     "text": [
      "16\n"
     ]
    },
    {
     "name": "stderr",
     "output_type": "stream",
     "text": [
      "[Stage 27:>                                                        (0 + 8) / 62]\r"
     ]
    },
    {
     "name": "stderr",
     "output_type": "stream",
     "text": [
      "                                                                                \r"
     ]
    },
    {
     "name": "stdout",
     "output_type": "stream",
     "text": [
      "Iteration 0 => Cost: 39.814399\n"
     ]
    },
    {
     "name": "stderr",
     "output_type": "stream",
     "text": [
      "[Stage 36:===========>                                            (13 + 8) / 62]\r"
     ]
    }
   ],
   "source": [
    "cost_history = model.fit(training_data_mr)"
   ]
  },
  {
   "cell_type": "markdown",
   "metadata": {},
   "source": [
    "## 2. Linear Regression\n",
    "➔ Predicting accident Duration as indicator of impact on traffic flow. "
   ]
  },
  {
   "cell_type": "code",
   "execution_count": 34,
   "metadata": {},
   "outputs": [],
   "source": [
    "lr_data_df = data_df"
   ]
  },
  {
   "cell_type": "code",
   "execution_count": 61,
   "metadata": {},
   "outputs": [
    {
     "name": "stderr",
     "output_type": "stream",
     "text": [
      "                                                                                \r"
     ]
    }
   ],
   "source": [
    "# Convert string columns to numerical representations\n",
    "string_columns = [\"Day_Of_Acc\", \"Sunrise_Sunset\", \"Wind_Direction\"]\n",
    "indexers = [StringIndexer(inputCol=column, outputCol=column+\"_index\").fit(lr_data_df) for column in string_columns]\n",
    "indexed_df = lr_data_df\n",
    "for indexer in indexers:\n",
    "    indexed_df = indexer.transform(indexed_df)\n",
    "\n",
    "# Assemble features\n",
    "numerical_columns = [\"Severity\", \"Hour_Of_Acc\", \"Month_Of_Acc\", \"Temperature(F)\", \"Distance(m)\"]\n",
    "boolean_columns = [\"Crossing\", \"Railway\", \"Traffic_Calming\", \"Traffic_Signal\"]\n",
    "assembler = VectorAssembler(inputCols=numerical_columns + [column+\"_index\" for column in string_columns] + boolean_columns, outputCol=\"features\")\n",
    "indexed_df = assembler.transform(indexed_df)\n",
    "\n",
    "# Split the data into training and testing sets\n",
    "(training__lr_data, test_lr_data) = indexed_df.randomSplit([0.75, 0.25], seed=42)"
   ]
  },
  {
   "cell_type": "code",
   "execution_count": 62,
   "metadata": {},
   "outputs": [
    {
     "name": "stderr",
     "output_type": "stream",
     "text": [
      "                                                                                \r"
     ]
    }
   ],
   "source": [
    "from pyspark.ml.regression import LinearRegression\n",
    "from pyspark.ml.evaluation import RegressionEvaluator\n",
    "\n",
    "# Train the linear regression model\n",
    "lr = LinearRegression(featuresCol=\"features\", labelCol=\"Duration\", regParam=0.5)\n",
    "lr_model = lr.fit(training__lr_data)\n",
    "\n",
    "# Make predictions on the test data\n",
    "predictions = lr_model.transform(test_lr_data)"
   ]
  },
  {
   "cell_type": "code",
   "execution_count": 63,
   "metadata": {},
   "outputs": [
    {
     "name": "stderr",
     "output_type": "stream",
     "text": [
      "[Stage 519:>                                                       (0 + 8) / 62]\r"
     ]
    },
    {
     "name": "stderr",
     "output_type": "stream",
     "text": [
      "[Stage 519:======================================================>(61 + 1) / 62]\r"
     ]
    },
    {
     "name": "stdout",
     "output_type": "stream",
     "text": [
      "Root Mean Squared Error (RMSE) on test data = 906596\n"
     ]
    },
    {
     "name": "stderr",
     "output_type": "stream",
     "text": [
      "                                                                                \r"
     ]
    }
   ],
   "source": [
    "# Evaluate the model\n",
    "evaluator = RegressionEvaluator(labelCol=\"Duration\", predictionCol=\"prediction\", metricName=\"rmse\")\n",
    "rmse = evaluator.evaluate(predictions)\n",
    "print(\"Root Mean Squared Error (RMSE) on test data = %g\" % rmse)"
   ]
  },
  {
   "cell_type": "code",
   "execution_count": 64,
   "metadata": {},
   "outputs": [
    {
     "name": "stderr",
     "output_type": "stream",
     "text": [
      "[Stage 521:>                                                        (0 + 1) / 1]\r"
     ]
    },
    {
     "name": "stdout",
     "output_type": "stream",
     "text": [
      "+--------+------------------+--------+-----------+------------+--------------+-----------+----------------+--------------------+--------------------+--------+-------+---------------+--------------+\n",
      "|Duration|        prediction|Severity|Hour_Of_Acc|Month_Of_Acc|Temperature(F)|Distance(m)|Day_Of_Acc_index|Sunrise_Sunset_index|Wind_Direction_index|Crossing|Railway|Traffic_Calming|Traffic_Signal|\n",
      "+--------+------------------+--------+-----------+------------+--------------+-----------+----------------+--------------------+--------------------+--------+-------+---------------+--------------+\n",
      "|    1800| 43095.00317027075|       3|         23|          12|          39.2|    16.0934|             6.0|                 1.0|                15.0|   false|  false|          false|         false|\n",
      "|    2700|35048.282267715076|       2|         18|           7|          82.0|        0.0|             4.0|                 0.0|                 5.0|   false|  false|          false|         false|\n",
      "|    2086|3217.0734889120413|       2|          7|          12|          39.2|    16.0934|             1.0|                 0.0|                17.0|   false|  false|          false|          true|\n",
      "|    2665|24956.690947135707|       2|          9|          12|          42.8|    16.0934|             6.0|                 0.0|                19.0|   false|  false|          false|         false|\n",
      "|    2682|  8745.01503385891|       2|          7|          12|          43.0|    16.0934|             1.0|                 0.0|                 0.0|   false|  false|          false|         false|\n",
      "|    2700| 46949.61087462138|       2|         23|           7|          73.0|        0.0|             3.0|                 1.0|                 4.0|   false|  false|          false|         false|\n",
      "|    2669|39756.962151314125|       2|         16|          12|          61.0|        0.0|             4.0|                 1.0|                 4.0|   false|  false|          false|         false|\n",
      "|    2682|28216.483260882167|       2|         16|          12|          58.0|    16.0934|             4.0|                 0.0|                16.0|   false|  false|          false|         false|\n",
      "|    2264| 13163.41009806394|       2|          9|          12|          53.0|    16.0934|             1.0|                 0.0|                 0.0|   false|  false|          false|         false|\n",
      "|    2673|26560.019410796922|       2|         21|          12|          52.0|    16.0934|             1.0|                 1.0|                16.0|   false|  false|          false|          true|\n",
      "|    1800| 33721.09162986628|       2|         11|           7|          75.0|        0.0|             3.0|                 0.0|                12.0|   false|  false|          false|         false|\n",
      "|    3761|  37799.4589509137|       2|          9|           7|          88.0|        0.0|             3.0|                 0.0|                10.0|   false|  false|          false|         false|\n",
      "|    2684| 39548.75494783882|       3|          0|          12|          42.8|    16.0934|             3.0|                 1.0|                18.0|   false|  false|          false|         false|\n",
      "|    3531| 36043.55156107745|       3|          4|          12|          41.0|    16.0934|             6.0|                 1.0|                 5.0|   false|  false|          false|         false|\n",
      "|    2646| 37009.92717514414|       2|          4|          12|          44.2|        0.0|             4.0|                 1.0|                15.0|   false|  false|          false|         false|\n",
      "|    3570| 37801.84146876117|       2|          4|          12|          37.8|        0.0|             6.0|                 1.0|                17.0|   false|  false|          false|         false|\n",
      "|    2682| 40539.77474359588|       2|         20|          12|          50.0|    16.0934|             4.0|                 1.0|                13.0|   false|  false|          false|         false|\n",
      "|    1767| 40798.72217154185|       2|          3|          12|          46.0|        0.0|             4.0|                 1.0|                21.0|   false|  false|          false|         false|\n",
      "|    3554|30119.818959503886|       2|          2|          12|          42.1|    16.0934|             4.0|                 1.0|                 4.0|   false|  false|          false|         false|\n",
      "|    2673| 40114.24164519649|       2|          4|          12|          41.0|    16.0934|             5.0|                 1.0|                21.0|   false|  false|          false|         false|\n",
      "+--------+------------------+--------+-----------+------------+--------------+-----------+----------------+--------------------+--------------------+--------+-------+---------------+--------------+\n",
      "only showing top 20 rows\n",
      "\n"
     ]
    },
    {
     "name": "stderr",
     "output_type": "stream",
     "text": [
      "                                                                                \r"
     ]
    }
   ],
   "source": [
    "# Define feature_cols\n",
    "feature_cols = numerical_columns + [column+\"_index\" for column in string_columns] + boolean_columns\n",
    "\n",
    "# Show some predictions\n",
    "predictions.select(\"Duration\", \"prediction\", *feature_cols).show()"
   ]
  },
  {
   "cell_type": "markdown",
   "metadata": {},
   "source": [
    "## 3. Random Forest"
   ]
  },
  {
   "cell_type": "code",
   "execution_count": 65,
   "metadata": {},
   "outputs": [],
   "source": [
    "from pyspark.ml.classification import RandomForestClassifier\n",
    "from pyspark.ml.evaluation import MulticlassClassificationEvaluator\n",
    "from pyspark.ml.tuning import CrossValidator, ParamGridBuilder"
   ]
  },
  {
   "cell_type": "code",
   "execution_count": 112,
   "metadata": {},
   "outputs": [],
   "source": [
    "rf = RandomForestClassifier(labelCol=\"Severity\", featuresCol=\"features\", maxBins=11730)\n",
    "\n",
    "# Split the data into training and test sets\n",
    "train_data, test_data = data_df.randomSplit([0.8, 0.2], seed=42)"
   ]
  },
  {
   "cell_type": "code",
   "execution_count": 113,
   "metadata": {},
   "outputs": [
    {
     "name": "stderr",
     "output_type": "stream",
     "text": [
      "                                                                                \r"
     ]
    },
    {
     "name": "stdout",
     "output_type": "stream",
     "text": [
      "24/05/09 21:47:57 WARN DAGScheduler: Broadcasting large task binary with size 1201.4 KiB\n"
     ]
    },
    {
     "name": "stderr",
     "output_type": "stream",
     "text": [
      "                                                                                \r"
     ]
    },
    {
     "name": "stdout",
     "output_type": "stream",
     "text": [
      "24/05/09 21:49:04 WARN DAGScheduler: Broadcasting large task binary with size 1327.5 KiB\n"
     ]
    },
    {
     "name": "stderr",
     "output_type": "stream",
     "text": [
      "                                                                                \r"
     ]
    },
    {
     "name": "stdout",
     "output_type": "stream",
     "text": [
      "24/05/09 21:49:21 WARN DAGScheduler: Broadcasting large task binary with size 2.6 MiB\n"
     ]
    },
    {
     "name": "stderr",
     "output_type": "stream",
     "text": [
      "                                                                                \r"
     ]
    },
    {
     "name": "stdout",
     "output_type": "stream",
     "text": [
      "24/05/09 21:49:38 WARN DAGScheduler: Broadcasting large task binary with size 3.6 MiB\n"
     ]
    },
    {
     "name": "stderr",
     "output_type": "stream",
     "text": [
      "                                                                                \r"
     ]
    },
    {
     "name": "stdout",
     "output_type": "stream",
     "text": [
      "24/05/09 21:50:08 WARN DAGScheduler: Broadcasting large task binary with size 5.6 MiB\n"
     ]
    },
    {
     "name": "stderr",
     "output_type": "stream",
     "text": [
      "                                                                                \r"
     ]
    }
   ],
   "source": [
    "# Create a pipeline\n",
    "pipeline = Pipeline(stages=indexers + [assembler, rf])\n",
    "\n",
    "# Train the model\n",
    "model = pipeline.fit(training_data)\n",
    "\n",
    "# Make predictions\n",
    "predictions = model.transform(test_data)"
   ]
  },
  {
   "cell_type": "code",
   "execution_count": 114,
   "metadata": {},
   "outputs": [
    {
     "name": "stdout",
     "output_type": "stream",
     "text": [
      "24/05/09 21:50:57 WARN DAGScheduler: Broadcasting large task binary with size 3.3 MiB\n"
     ]
    },
    {
     "name": "stderr",
     "output_type": "stream",
     "text": [
      "[Stage 589:======================================================>(61 + 1) / 62]\r"
     ]
    },
    {
     "name": "stdout",
     "output_type": "stream",
     "text": [
      "Accuracy: 0.8406899831395097\n"
     ]
    },
    {
     "name": "stderr",
     "output_type": "stream",
     "text": [
      "                                                                                \r"
     ]
    }
   ],
   "source": [
    "# Evaluate the model\n",
    "evaluator = MulticlassClassificationEvaluator(labelCol=\"Severity\", predictionCol=\"prediction\", metricName=\"accuracy\")\n",
    "accuracy = evaluator.evaluate(predictions)\n",
    "print(\"Accuracy:\", accuracy)"
   ]
  },
  {
   "cell_type": "code",
   "execution_count": 115,
   "metadata": {},
   "outputs": [
    {
     "name": "stdout",
     "output_type": "stream",
     "text": [
      "24/05/09 21:51:50 WARN DAGScheduler: Broadcasting large task binary with size 3.3 MiB\n"
     ]
    },
    {
     "name": "stderr",
     "output_type": "stream",
     "text": [
      "[Stage 591:======================================================>(61 + 1) / 62]\r"
     ]
    },
    {
     "name": "stdout",
     "output_type": "stream",
     "text": [
      "F1 Score: 0.7680208605030131\n"
     ]
    },
    {
     "name": "stderr",
     "output_type": "stream",
     "text": [
      "                                                                                \r"
     ]
    }
   ],
   "source": [
    "evaluator = MulticlassClassificationEvaluator(labelCol=\"Severity\", predictionCol=\"prediction\", metricName=\"f1\")\n",
    "f1_score = evaluator.evaluate(predictions)\n",
    "print(\"F1 Score:\", f1_score)"
   ]
  },
  {
   "cell_type": "markdown",
   "metadata": {},
   "source": [
    "## 4. Naive Bayes"
   ]
  },
  {
   "cell_type": "code",
   "execution_count": 18,
   "metadata": {},
   "outputs": [
    {
     "name": "stderr",
     "output_type": "stream",
     "text": [
      "                                                                                \r"
     ]
    }
   ],
   "source": [
    "from pyspark.ml.classification import NaiveBayes\n",
    "from pyspark.ml.feature import MinMaxScaler\n",
    "\n",
    "# Scale features to ensure nonnegative values\n",
    "scaler = MinMaxScaler(inputCol=\"features\", outputCol=\"scaled_features\")\n",
    "\n",
    "# Instantiate Naive Bayes model\n",
    "nb = NaiveBayes(featuresCol=\"scaled_features\", labelCol=\"Severity\")\n",
    "\n",
    "# Create a pipeline\n",
    "pipeline = Pipeline(stages=indexers + [assembler, scaler, nb])\n",
    "\n",
    "# Train the model\n",
    "model = pipeline.fit(training_data)\n",
    "\n",
    "# Make predictions\n",
    "predictions = model.transform(test_data)\n"
   ]
  },
  {
   "cell_type": "code",
   "execution_count": 19,
   "metadata": {},
   "outputs": [
    {
     "name": "stderr",
     "output_type": "stream",
     "text": [
      "[Stage 30:>                                                        (0 + 8) / 62]\r"
     ]
    },
    {
     "name": "stdout",
     "output_type": "stream",
     "text": [
      "24/05/09 23:11:52 WARN InstanceBuilder$NativeBLAS: Failed to load implementation from:dev.ludovic.netlib.blas.JNIBLAS\n",
      "24/05/09 23:11:52 WARN InstanceBuilder$NativeBLAS: Failed to load implementation from:dev.ludovic.netlib.blas.ForeignLinkerBLAS\n"
     ]
    },
    {
     "name": "stderr",
     "output_type": "stream",
     "text": [
      "[Stage 30:=======================================================>(61 + 1) / 62]\r"
     ]
    },
    {
     "name": "stdout",
     "output_type": "stream",
     "text": [
      "Accuracy: 0.011417897007984124\n"
     ]
    },
    {
     "name": "stderr",
     "output_type": "stream",
     "text": [
      "                                                                                \r"
     ]
    }
   ],
   "source": [
    "# Evaluate the model\n",
    "evaluator = MulticlassClassificationEvaluator(labelCol=\"Severity\", predictionCol=\"prediction\", metricName=\"accuracy\")\n",
    "accuracy = evaluator.evaluate(predictions)\n",
    "print(\"Accuracy:\", accuracy)"
   ]
  },
  {
   "cell_type": "code",
   "execution_count": 20,
   "metadata": {},
   "outputs": [
    {
     "name": "stderr",
     "output_type": "stream",
     "text": [
      "[Stage 32:=======================================================>(61 + 1) / 62]\r"
     ]
    },
    {
     "name": "stdout",
     "output_type": "stream",
     "text": [
      "F1 Score: 0.0002577932869698937\n"
     ]
    },
    {
     "name": "stderr",
     "output_type": "stream",
     "text": [
      "                                                                                \r"
     ]
    }
   ],
   "source": [
    "evaluator = MulticlassClassificationEvaluator(labelCol=\"Severity\", predictionCol=\"prediction\", metricName=\"f1\")\n",
    "f1_score = evaluator.evaluate(predictions)\n",
    "print(\"F1 Score:\", f1_score)"
   ]
  },
  {
   "cell_type": "markdown",
   "metadata": {},
   "source": [
    "# 2. Descriptive Analytics"
   ]
  },
  {
   "cell_type": "markdown",
   "metadata": {},
   "source": [
    "- ## Clustering\n",
    "\n",
    "In the context of clustering accident locations based on latitude information, clusters represent groups of accident locations that have similar latitude coordinates.\n",
    "\n",
    "When applying clustering algorithm like K-means to accident data, the algorithm partitions the accident locations into a predefined number of clusters, with each cluster representing a group of locations that are close to each other in terms of latitude and longitude.\n",
    "\n",
    "The meaning of these clusters can vary depending on factors such as geographical characteristics, traffic patterns, road conditions, or other contextual information. However, generally, clusters can help identify areas where accidents are more concentrated"
   ]
  },
  {
   "cell_type": "markdown",
   "metadata": {},
   "source": [
    "### 1. Preprocess"
   ]
  },
  {
   "cell_type": "code",
   "execution_count": 14,
   "metadata": {},
   "outputs": [],
   "source": [
    "from pyspark.ml.feature import VectorAssembler\n",
    "\n",
    "# Step 1: Preprocessing\n",
    "# Select relevant features (latitude and longitude)\n",
    "latlong_data = merged_df.select('Start_Lat', 'Start_Lng')\n",
    "\n",
    "# Assemble features into a vector\n",
    "assembler = VectorAssembler(inputCols=['Start_Lat', 'Start_Lng'], outputCol='features')\n",
    "latlong_data = assembler.transform(latlong_data)"
   ]
  },
  {
   "cell_type": "markdown",
   "metadata": {},
   "source": [
    "### 2. Choose the number of clusters"
   ]
  },
  {
   "cell_type": "code",
   "execution_count": 16,
   "metadata": {},
   "outputs": [
    {
     "name": "stderr",
     "output_type": "stream",
     "text": [
      "                                                                                \r"
     ]
    },
    {
     "data": {
      "image/png": "[encoded data removed]",
      "text/plain": [
       "<Figure size 640x480 with 1 Axes>"
      ]
     },
     "metadata": {},
     "output_type": "display_data"
    }
   ],
   "source": [
    "from pyspark.ml.clustering import KMeans\n",
    "from pyspark.ml.evaluation import ClusteringEvaluator\n",
    "import matplotlib.pyplot as plt\n",
    "\n",
    "# Step 2: Choose the Number of Clusters\n",
    "\n",
    "wcss = []\n",
    "\n",
    "# Use the Elbow Method to determine the optimal number of clusters\n",
    "for k in range(2, 11):\n",
    "    kmeans = KMeans(k=k, seed=42)\n",
    "    model = kmeans.fit(latlong_data)\n",
    "    predictions = model.transform(latlong_data)\n",
    "    evaluator = ClusteringEvaluator()\n",
    "    silhouette = evaluator.evaluate(predictions)\n",
    "    wcss.append(silhouette)\n",
    "\n",
    "# Look for a point where the silhouette score stops increasing significantly with increasing k. This point typically resembles an elbow shape in the plot, hence the name \"elbow method.\"\n",
    "plt.plot(range(2, 11), wcss)\n",
    "plt.title('Elbow Method for Optimal k')\n",
    "plt.xlabel('Number of Clusters')\n",
    "plt.ylabel('Within-Cluster Sum of Squares (WCSS)')\n",
    "plt.show()"
   ]
  },
  {
   "cell_type": "code",
   "execution_count": 17,
   "metadata": {},
   "outputs": [
    {
     "name": "stderr",
     "output_type": "stream",
     "text": [
      "                                                                                \r"
     ]
    }
   ],
   "source": [
    "# Step 3: Apply KMeans with the chosen k\n",
    "optimal_k = 9 # Choose the optimal number of clusters based on the plot\n",
    "kmeans = KMeans(k=optimal_k, seed=42)\n",
    "model = kmeans.fit(latlong_data)\n",
    "\n",
    "# Get cluster centers\n",
    "cluster_centers = model.clusterCenters()"
   ]
  },
  {
   "cell_type": "code",
   "execution_count": 25,
   "metadata": {},
   "outputs": [
    {
     "name": "stderr",
     "output_type": "stream",
     "text": [
      "/home/asaad/.local/lib/python3.10/site-packages/IPython/core/pylabtools.py:170: UserWarning: Creating legend with loc=\"best\" can be slow with large amounts of data.\n",
      "  fig.canvas.print_figure(bytes_io, **kw)\n"
     ]
    },
    {
     "data": {
      "image/png": "[encoded data removed]",
      "text/plain": [
       "<Figure size 1000x600 with 1 Axes>"
      ]
     },
     "metadata": {},
     "output_type": "display_data"
    }
   ],
   "source": [
    "import matplotlib.pyplot as plt\n",
    "import pandas as pd\n",
    "\n",
    "\n",
    "# Convert cluster_centers to Pandas DataFrame\n",
    "centers_df = pd.DataFrame(cluster_centers, columns=['x', 'y'])\n",
    "\n",
    "# Extract x and y coordinates of cluster centers\n",
    "center_x = centers_df['x']\n",
    "center_y = centers_df['y']\n",
    "\n",
    "# Convert latlong_data to Pandas DataFrame\n",
    "latlong_df = latlong_data.toPandas()\n",
    "\n",
    "# Apply KMeans to latlong_data and get predictions\n",
    "predictions = model.transform(latlong_data).select('prediction').collect()\n",
    "predictions = [row['prediction'] for row in predictions]\n",
    "\n",
    "# Convert predictions to a NumPy array for indexing\n",
    "predictions = np.array(predictions)\n",
    "\n",
    "# Plot the data points for each cluster\n",
    "plt.figure(figsize=(10, 6))\n",
    "for i in range(optimal_k):\n",
    "    cluster_points = latlong_df[predictions == i]  # Extract data points for current cluster\n",
    "    plt.scatter(cluster_points['Start_Lat'], cluster_points['Start_Lng'], label=f'Cluster {i+1}')\n",
    "\n",
    "# Overlay cluster centers on the plot\n",
    "plt.scatter(center_x, center_y, color='red', marker='x', label='Cluster Centers')\n",
    "\n",
    "plt.title('Scatter Plot of Clusters with Centers')\n",
    "plt.xlabel('Latitude')\n",
    "plt.ylabel('Longitude')\n",
    "plt.legend()\n",
    "plt.grid(True)\n",
    "plt.show()\n"
   ]
  },
  {
   "cell_type": "markdown",
   "metadata": {},
   "source": [
    "## Association Rules"
   ]
  },
  {
   "cell_type": "code",
   "execution_count": 26,
   "metadata": {},
   "outputs": [],
   "source": [
    "from pyspark.ml.feature import StringIndexer\n",
    "from pyspark.ml.fpm import FPGrowth"
   ]
  },
  {
   "cell_type": "code",
   "execution_count": 30,
   "metadata": {},
   "outputs": [
    {
     "name": "stderr",
     "output_type": "stream",
     "text": [
      "[Stage 20:>                                                         (0 + 1) / 1]\r"
     ]
    },
    {
     "name": "stdout",
     "output_type": "stream",
     "text": [
      "+-----------------+------------+-----------+--------------+----------+--------+\n",
      "|Weather_Condition|    Crossing|    Railway|Sunrise_Sunset|Day_Of_Acc|Severity|\n",
      "+-----------------+------------+-----------+--------------+----------+--------+\n",
      "|         Overcast|not crossing|not railway|         Night|    Monday|       2|\n",
      "+-----------------+------------+-----------+--------------+----------+--------+\n",
      "only showing top 1 row\n",
      "\n"
     ]
    },
    {
     "name": "stderr",
     "output_type": "stream",
     "text": [
      "                                                                                \r"
     ]
    }
   ],
   "source": [
    "selected_columns = ['Weather_Condition', 'Crossing', 'Railway', 'Sunrise_Sunset', 'Day_Of_Acc', 'Severity']\n",
    "\n",
    "df_selected = merged_df.select(selected_columns)\n",
    "\n",
    "df_selected = df_selected.withColumn('Crossing', when(df_selected['Crossing'], 'crossing').otherwise('not crossing'))\n",
    "\n",
    "df_selected = df_selected.withColumn('Railway', when(df_selected['Railway'], 'railway').otherwise('not railway'))\n",
    "df_selected.show(1)\n",
    "\n",
    "\n"
   ]
  },
  {
   "cell_type": "code",
   "execution_count": 31,
   "metadata": {},
   "outputs": [
    {
     "name": "stderr",
     "output_type": "stream",
     "text": [
      "                                                                                \r"
     ]
    }
   ],
   "source": [
    "# Indexing categorical columns\n",
    "indexers = [StringIndexer(inputCol=column, outputCol=column+\"_index\").fit(df_selected) for column in selected_columns]\n",
    "indexed_df = df_selected\n",
    "for indexer in indexers:\n",
    "    indexed_df = indexer.transform(indexed_df)"
   ]
  },
  {
   "cell_type": "code",
   "execution_count": 36,
   "metadata": {},
   "outputs": [
    {
     "name": "stderr",
     "output_type": "stream",
     "text": [
      "[Stage 40:>                                                         (0 + 1) / 1]\r"
     ]
    },
    {
     "name": "stdout",
     "output_type": "stream",
     "text": [
      "+-----------------------+--------------+-------------+--------------------+----------------+--------------+\n",
      "|Weather_Condition_index|Crossing_index|Railway_index|Sunrise_Sunset_index|Day_Of_Acc_index|Severity_index|\n",
      "+-----------------------+--------------+-------------+--------------------+----------------+--------------+\n",
      "|                    7.0|           0.0|          0.0|                 1.0|             4.0|           0.0|\n",
      "+-----------------------+--------------+-------------+--------------------+----------------+--------------+\n",
      "only showing top 1 row\n",
      "\n"
     ]
    },
    {
     "name": "stderr",
     "output_type": "stream",
     "text": [
      "                                                                                \r"
     ]
    }
   ],
   "source": [
    "indexed_df.show(1)"
   ]
  },
  {
   "cell_type": "code",
   "execution_count": 32,
   "metadata": {},
   "outputs": [],
   "source": [
    "# Selecting indexed columns\n",
    "indexed_columns = [column+\"_index\" for column in selected_columns]\n",
    "indexed_df = indexed_df.select(indexed_columns)"
   ]
  },
  {
   "cell_type": "code",
   "execution_count": 37,
   "metadata": {},
   "outputs": [
    {
     "name": "stderr",
     "output_type": "stream",
     "text": [
      "[Stage 41:>                                                         (0 + 1) / 1]\r"
     ]
    },
    {
     "name": "stdout",
     "output_type": "stream",
     "text": [
      "+-----------------------+--------------+-------------+--------------------+----------------+--------------+\n",
      "|Weather_Condition_index|Crossing_index|Railway_index|Sunrise_Sunset_index|Day_Of_Acc_index|Severity_index|\n",
      "+-----------------------+--------------+-------------+--------------------+----------------+--------------+\n",
      "|                    7.0|           0.0|          0.0|                 1.0|             4.0|           0.0|\n",
      "+-----------------------+--------------+-------------+--------------------+----------------+--------------+\n",
      "only showing top 1 row\n",
      "\n"
     ]
    },
    {
     "name": "stderr",
     "output_type": "stream",
     "text": [
      "                                                                                \r"
     ]
    }
   ],
   "source": [
    "indexed_df.show(1)"
   ]
  },
  {
   "cell_type": "code",
   "execution_count": null,
   "metadata": {},
   "outputs": [],
   "source": [
    "from pyspark.ml.fpm import FPGrowth\n",
    "from pyspark.sql.functions import array\n",
    "\n",
    "# Combine the columns into an array\n",
    "combined_col = array('Weather_Condition_index', 'Crossing_index', 'Railway_index', 'Sunrise_Sunset_index', 'Day_Of_Acc_index', 'Severity_index')\n",
    "\n",
    "# Generating frequent itemsets using FPGrowth\n",
    "fp_growth = FPGrowth(itemsCol=\"items\", minSupport=0.01, minConfidence=0.5)\n",
    "model = fp_growth.fit(indexed_df.withColumn(\"items\", combined_col))\n"
   ]
  }
 ],
 "metadata": {
  "kernelspec": {
   "display_name": "Python 3",
   "language": "python",
   "name": "python3"
  },
  "language_info": {
   "codemirror_mode": {
    "name": "ipython",
    "version": 3
   },
   "file_extension": ".py",
   "mimetype": "text/x-python",
   "name": "python",
   "nbconvert_exporter": "python",
   "pygments_lexer": "ipython3",
   "version": "3.10.14"
  }
 },
 "nbformat": 4,
 "nbformat_minor": 2
}
