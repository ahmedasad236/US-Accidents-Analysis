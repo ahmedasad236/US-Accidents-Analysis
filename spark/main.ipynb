{
 "cells": [
  {
   "cell_type": "code",
   "execution_count": 1,
   "metadata": {},
   "outputs": [],
   "source": [
    "from pyspark.sql import SparkSession"
   ]
  },
  {
   "cell_type": "code",
   "execution_count": 2,
   "metadata": {},
   "outputs": [],
   "source": [
    "from dotenv import load_dotenv\n",
    "import os\n",
    "load_dotenv()\n",
    "key_filepath = os.getenv(\"GOOGLE_APPLICATION_CREDENTIALS\")\n"
   ]
  },
  {
   "cell_type": "code",
   "execution_count": 3,
   "metadata": {},
   "outputs": [
    {
     "name": "stderr",
     "output_type": "stream",
     "text": [
      "Setting default log level to \"WARN\".\n",
      "To adjust logging level use sc.setLogLevel(newLevel). For SparkR, use setLogLevel(newLevel).\n"
     ]
    },
    {
     "name": "stdout",
     "output_type": "stream",
     "text": [
      "24/04/30 22:59:58 WARN NativeCodeLoader: Unable to load native-hadoop library for your platform... using builtin-java classes where applicable\n"
     ]
    }
   ],
   "source": [
    "spark = SparkSession.builder \\\n",
    "    .master(\"local[8]\") \\\n",
    "    .appName(\"US Accidents\") \\\n",
    "    .config(\"spark.hadoop.fs.gs.impl\", \"com.google.cloud.hadoop.fs.gcs.GoogleHadoopFileSystem\") \\\n",
    "    .config(\"spark.hadoop.google.cloud.auth.service.account.json.keyfile\",key_filepath  ) \\\n",
    "    .config(\"spark.hadoop.google.cloud.auth.service.account.enable\", \"true\") \\\n",
    "    .getOrCreate()"
   ]
  },
  {
   "cell_type": "code",
   "execution_count": 35,
   "metadata": {},
   "outputs": [],
   "source": [
    "spark.conf.set(\"spark.sql.legacy.timeParserPolicy\", \"LEGACY\")"
   ]
  },
  {
   "cell_type": "code",
   "execution_count": 4,
   "metadata": {},
   "outputs": [
    {
     "name": "stderr",
     "output_type": "stream",
     "text": [
      "                                                                                \r"
     ]
    }
   ],
   "source": [
    "\n",
    "# Read Parquet files from GCS\n",
    "parquet_files = [\n",
    "                \"gs://us-accidents-bucket/us_accidents_data/Start_Year=2016/933c14c388864f19a17c514e311a69b1-0.parquet\",\n",
    "                \"gs://us-accidents-bucket/us_accidents_data/Start_Year=2017/933c14c388864f19a17c514e311a69b1-0.parquet\",\n",
    "                \"gs://us-accidents-bucket/us_accidents_data/Start_Year=2018/933c14c388864f19a17c514e311a69b1-0.parquet\",\n",
    "                \"gs://us-accidents-bucket/us_accidents_data/Start_Year=2019/933c14c388864f19a17c514e311a69b1-0.parquet\",\n",
    "                \"gs://us-accidents-bucket/us_accidents_data/Start_Year=2020/933c14c388864f19a17c514e311a69b1-0.parquet\",\n",
    "                \"gs://us-accidents-bucket/us_accidents_data/Start_Year=2021/933c14c388864f19a17c514e311a69b1-0.parquet\",\n",
    "                \"gs://us-accidents-bucket/us_accidents_data/Start_Year=2022/933c14c388864f19a17c514e311a69b1-0.parquet\",\n",
    "                \"gs://us-accidents-bucket/us_accidents_data/Start_Year=2023/933c14c388864f19a17c514e311a69b1-0.parquet\"\n",
    "                ]\n",
    "\n",
    "df_list = [spark.read.option(\"header\", \"true\").option(\"inferSchema\", \"true\").parquet(file) for file in parquet_files]\n",
    "\n",
    "merged_df = df_list[0]\n",
    "for df in df_list[1:]:\n",
    "    merged_df = merged_df.unionAll(df)\n",
    "\n"
   ]
  },
  {
   "cell_type": "code",
   "execution_count": 5,
   "metadata": {},
   "outputs": [
    {
     "name": "stdout",
     "output_type": "stream",
     "text": [
      "24/04/30 23:00:18 WARN package: Truncated the string representation of a plan since it was too large. This behavior can be adjusted by setting 'spark.sql.debug.maxToStringFields'.\n"
     ]
    },
    {
     "name": "stderr",
     "output_type": "stream",
     "text": [
      "[Stage 8:>                                                          (0 + 1) / 1]\r"
     ]
    },
    {
     "name": "stdout",
     "output_type": "stream",
     "text": [
      "+----+-------+--------+-------------------+-------------------+-----------------+------------------+------------+--------------------+--------------------+------------+----------+-----+-------+--------------+-------------+-----------+------------+--------------+--------------+---------------+-----------------+--------+-------+-------+---------------+--------------+--------------+\n",
      "|  ID| Source|Severity|         Start_Time|           End_Time|        Start_Lat|         Start_Lng|Distance(mi)|         Description|              Street|        City|    County|State|Country|Temperature(F)|Wind_Chill(F)|Humidity(%)|Pressure(in)|Visibility(mi)|Wind_Direction|Wind_Speed(mph)|Weather_Condition|Crossing|Railway|Station|Traffic_Calming|Traffic_Signal|Sunrise_Sunset|\n",
      "+----+-------+--------+-------------------+-------------------+-----------------+------------------+------------+--------------------+--------------------+------------+----------+-----+-------+--------------+-------------+-----------+------------+--------------+--------------+---------------+-----------------+--------+-------+-------+---------------+--------------+--------------+\n",
      "| A-1|Source2|       3|2016-02-08 05:46:00|2016-02-08 11:00:00|        39.865147|        -84.058723|        0.01|Right lane blocke...|              I-70 E|      Dayton|Montgomery|   OH|     US|          36.9|         null|       91.0|       29.68|          10.0|          Calm|           null|       Light Rain|   false|  false|  false|          false|         false|         Night|\n",
      "| A-2|Source2|       2|2016-02-08 06:07:59|2016-02-08 06:37:59|39.92805900000001|        -82.831184|        0.01|Accident on Brice...|            Brice Rd|Reynoldsburg|  Franklin|   OH|     US|          37.9|         null|      100.0|       29.65|          10.0|          Calm|           null|       Light Rain|   false|  false|  false|          false|         false|         Night|\n",
      "| A-3|Source2|       2|2016-02-08 06:49:27|2016-02-08 07:19:27|        39.063148|        -84.032608|        0.01|Accident on OH-32...|      State Route 32|Williamsburg|  Clermont|   OH|     US|          36.0|         33.3|      100.0|       29.67|          10.0|            SW|            3.5|         Overcast|   false|  false|  false|          false|          true|         Night|\n",
      "| A-4|Source2|       3|2016-02-08 07:23:34|2016-02-08 07:53:34|        39.747753|-84.20558199999998|        0.01|Accident on I-75 ...|              I-75 S|      Dayton|Montgomery|   OH|     US|          35.1|         31.0|       96.0|       29.64|           9.0|            SW|            4.6|    Mostly Cloudy|   false|  false|  false|          false|         false|         Night|\n",
      "| A-5|Source2|       2|2016-02-08 07:39:07|2016-02-08 08:09:07|        39.627781|        -84.188354|        0.01|Accident on McEwe...|Miamisburg Center...|      Dayton|Montgomery|   OH|     US|          36.0|         33.3|       89.0|       29.65|           6.0|            SW|            3.5|    Mostly Cloudy|   false|  false|  false|          false|          true|           Day|\n",
      "| A-6|Source2|       3|2016-02-08 07:44:26|2016-02-08 08:14:26|         40.10059|-82.92519399999998|        0.01|Accident on I-270...|      Westerville Rd| Westerville|  Franklin|   OH|     US|          37.9|         35.5|       97.0|       29.63|           7.0|           SSW|            3.5|       Light Rain|   false|  false|  false|          false|         false|           Day|\n",
      "| A-7|Source2|       2|2016-02-08 07:59:35|2016-02-08 08:29:35|        39.758274|-84.23050699999997|         0.0|Accident on Oakri...|      N Woodward Ave|      Dayton|Montgomery|   OH|     US|          34.0|         31.0|      100.0|       29.66|           7.0|           WSW|            3.5|         Overcast|   false|  false|  false|          false|         false|           Day|\n",
      "| A-8|Source2|       3|2016-02-08 07:59:58|2016-02-08 08:29:58|        39.770382|        -84.194901|        0.01|Accident on I-75 ...|           N Main St|      Dayton|Montgomery|   OH|     US|          34.0|         31.0|      100.0|       29.66|           7.0|           WSW|            3.5|         Overcast|   false|  false|  false|          false|         false|           Day|\n",
      "| A-9|Source2|       2|2016-02-08 08:00:40|2016-02-08 08:30:40|        39.778061|        -84.172005|         0.0|Accident on Notre...|      Notre Dame Ave|      Dayton|Montgomery|   OH|     US|          33.3|         null|       99.0|       29.67|           5.0|            SW|            1.2|    Mostly Cloudy|   false|  false|  false|          false|         false|           Day|\n",
      "|A-10|Source2|       3|2016-02-08 08:10:04|2016-02-08 08:40:04|         40.10059|-82.92519399999998|        0.01|Right hand should...|      Westerville Rd| Westerville|  Franklin|   OH|     US|          37.4|         33.8|      100.0|       29.62|           3.0|           SSW|            4.6|       Light Rain|   false|  false|  false|          false|         false|           Day|\n",
      "|A-11|Source2|       3|2016-02-08 08:14:42|2016-02-08 08:44:42|        39.952812|        -83.119293|        0.01|Accident on I-270...|         Outerbelt S|    Columbus|  Franklin|   OH|     US|          35.6|         30.7|       93.0|       29.64|           5.0|           WNW|            5.8|             Rain|    true|  false|  false|          false|         false|           Day|\n",
      "|A-12|Source2|       3|2016-02-08 08:21:27|2016-02-08 08:51:27|        39.932709|         -82.83091|        0.01|One lane blocked ...|              I-70 E|Reynoldsburg|  Franklin|   OH|     US|          37.4|         33.8|      100.0|       29.62|           3.0|           SSW|            4.6|       Light Rain|   false|  false|  false|          false|         false|           Day|\n",
      "|A-13|Source2|       2|2016-02-08 08:36:34|2016-02-08 09:06:34|        39.737633|-84.14993299999998|         0.0|Accident on Rever...|      Watervliet Ave|      Dayton|Montgomery|   OH|     US|          33.8|         null|      100.0|       29.63|           3.0|            SW|            2.3|         Overcast|   false|  false|  false|          false|         false|           Day|\n",
      "|A-14|Source2|       2|2016-02-08 08:37:07|2016-02-08 09:07:07|         39.79076|        -84.241547|        0.01|Accident on Salem...|           Salem Ave|      Dayton|Montgomery|   OH|     US|          36.0|         31.1|       89.0|       29.65|          10.0|            NW|            5.8|    Mostly Cloudy|   false|  false|  false|          false|          true|           Day|\n",
      "|A-15|Source2|       2|2016-02-08 08:39:43|2016-02-08 09:09:43|        39.972038|        -82.913521|        0.01|Accident on OH-16...|          E Broad St|    Columbus|  Franklin|   OH|     US|          37.4|         33.8|      100.0|       29.62|           3.0|           SSW|            4.6|       Light Rain|   false|  false|  false|          false|          true|           Day|\n",
      "|A-16|Source2|       2|2016-02-08 08:43:20|2016-02-08 09:13:20|        39.745888|         -84.17041|        0.01|Accident on Wayne...|         Glencoe Ave|      Dayton|Montgomery|   OH|     US|          33.8|         null|      100.0|       29.63|           3.0|            SW|            2.3|         Overcast|   false|  false|  false|          false|         false|           Day|\n",
      "|A-17|Source2|       2|2016-02-08 08:53:17|2016-02-08 09:23:17|        39.748329|        -84.224007|        0.01|Accident on James...|S James H McGee Blvd|      Dayton|Montgomery|   OH|     US|          35.6|         null|       99.0|       29.65|           7.0|           WSW|            2.3|    Mostly Cloudy|   false|  false|  false|          false|         false|           Day|\n",
      "|A-18|Source2|       2|2016-02-08 09:24:37|2016-02-08 09:54:37|        39.752174|        -84.239952|         0.0|Accident on Delph...|         Delphos Ave|      Dayton|Montgomery|   OH|     US|          36.0|         31.1|       89.0|       29.65|          10.0|            NW|            5.8|    Mostly Cloudy|   false|  false|  false|          false|         false|           Day|\n",
      "|A-19|Source2|       2|2016-02-08 09:25:17|2016-02-08 09:55:17|        39.740669|        -84.184135|        0.01|Accident on Stewa...|          Rubicon St|      Dayton|Montgomery|   OH|     US|          37.4|         32.1|       93.0|       29.63|          10.0|           WSW|            6.9|         Overcast|    true|  false|  false|          false|          true|           Day|\n",
      "|A-20|Source2|       2|2016-02-08 09:35:35|2016-02-08 10:05:35|        39.790703|        -84.244461|        0.01|Accident on Hillc...|     W Hillcrest Ave|      Dayton|Montgomery|   OH|     US|          36.0|         30.3|       89.0|       29.65|          10.0|          West|            6.9|    Mostly Cloudy|   false|  false|  false|          false|         false|           Day|\n",
      "+----+-------+--------+-------------------+-------------------+-----------------+------------------+------------+--------------------+--------------------+------------+----------+-----+-------+--------------+-------------+-----------+------------+--------------+--------------+---------------+-----------------+--------+-------+-------+---------------+--------------+--------------+\n",
      "only showing top 20 rows\n",
      "\n"
     ]
    },
    {
     "name": "stderr",
     "output_type": "stream",
     "text": [
      "                                                                                \r"
     ]
    }
   ],
   "source": [
    "merged_df.show()"
   ]
  },
  {
   "cell_type": "markdown",
   "metadata": {},
   "source": [
    "# Cleaning the data\n",
    "\n",
    "### Steps:\n",
    "> Removing unimportnant columns\n",
    "\n",
    "> Renaming the columns\n",
    "\n",
    "> Convert the values of the columns into easy handled values"
   ]
  },
  {
   "cell_type": "code",
   "execution_count": 6,
   "metadata": {},
   "outputs": [],
   "source": [
    "# Iterate through each column in the DataFrame\n",
    "#for col in merged_df.columns:\n",
    "    # Get the unique values for the current column\n",
    "    #unique_values = merged_df.select(col).distinct().collect()\n",
    "    \n",
    "    # Print the column name and its unique values\n",
    "    #print(f\"Column: {col}, has {len(unique_values)} distinct values\")\n",
    "    # for val in unique_values:\n",
    "    #     print(val[col])\n",
    "    # print()"
   ]
  },
  {
   "cell_type": "code",
   "execution_count": 7,
   "metadata": {},
   "outputs": [],
   "source": [
    "# List of column names to drop\n",
    "columns_to_drop = ['Country']\n",
    "\n",
    "# Drop the unimportant columns\n",
    "cleaned_df = merged_df.drop(*columns_to_drop)\n"
   ]
  },
  {
   "cell_type": "code",
   "execution_count": 8,
   "metadata": {},
   "outputs": [],
   "source": [
    "from pyspark.sql.functions import to_timestamp\n",
    "\n",
    "# Convert \"Start_Time\" and \"End_Time\" columns to datetime format\n",
    "cleaned_df = cleaned_df.withColumn(\"Start_Time\", to_timestamp(cleaned_df[\"Start_Time\"], \"yyyy-MM-dd HH:mm:ss\"))\n",
    "cleaned_df = cleaned_df.withColumn(\"End_Time\", to_timestamp(cleaned_df[\"End_Time\"], \"yyyy-MM-dd HH:mm:ss\"))\n"
   ]
  },
  {
   "cell_type": "code",
   "execution_count": 9,
   "metadata": {},
   "outputs": [],
   "source": [
    "from pyspark.sql.functions import col\n",
    "\n",
    "# Convert \"Distance(mi)\" column from miles to meters\n",
    "cleaned_df = cleaned_df.withColumn(\"Distance(m)\", col(\"Distance(mi)\") * 1609.34)\n",
    "\n",
    "# Drop the original \"Distance(mi)\" column if needed\n",
    "cleaned_df = cleaned_df.drop(\"Distance(mi)\")\n"
   ]
  },
  {
   "cell_type": "code",
   "execution_count": 37,
   "metadata": {},
   "outputs": [],
   "source": [
    "from pyspark.sql.types import IntegerType\n",
    "\n",
    "# Convert \"Severity\" column from string to integer\n",
    "cleaned_df = cleaned_df.withColumn(\"Severity\", cleaned_df[\"Severity\"].cast(IntegerType()))\n"
   ]
  },
  {
   "cell_type": "code",
   "execution_count": 38,
   "metadata": {},
   "outputs": [],
   "source": [
    "# TODO: If the rows that have at least one null value remove them, and if they are large number \n",
    "# replace the null with the average of its column\n",
    "cleaned_df = cleaned_df.dropna()"
   ]
  },
  {
   "cell_type": "code",
   "execution_count": 39,
   "metadata": {},
   "outputs": [
    {
     "name": "stderr",
     "output_type": "stream",
     "text": [
      "                                                                                \r"
     ]
    },
    {
     "data": {
      "text/plain": [
       "5656839"
      ]
     },
     "execution_count": 39,
     "metadata": {},
     "output_type": "execute_result"
    }
   ],
   "source": [
    "cleaned_df.count()"
   ]
  },
  {
   "cell_type": "markdown",
   "metadata": {},
   "source": [
    "## We have dropped about 2 millions records because of nulls :)"
   ]
  },
  {
   "cell_type": "code",
   "execution_count": 40,
   "metadata": {},
   "outputs": [],
   "source": [
    "# Create a new column called Duration = End_Time - Start_Time\n",
    "# To indicate the duration of the accident\n",
    "from pyspark.sql.functions import col, unix_timestamp\n",
    "\n",
    "# Convert \"Start_Time\" and \"End_Time\" columns to Unix timestamp (seconds since the epoch)\n",
    "cleaned_df = cleaned_df.withColumn(\"Start_Time_unix\", unix_timestamp(\"Start_Time\"))\n",
    "cleaned_df = cleaned_df.withColumn(\"End_Time_unix\", unix_timestamp(\"End_Time\"))\n",
    "\n",
    "# Calculate the duration (in seconds)\n",
    "cleaned_df = cleaned_df.withColumn(\"Duration\", col(\"End_Time_unix\") - col(\"Start_Time_unix\"))\n"
   ]
  },
  {
   "cell_type": "code",
   "execution_count": 41,
   "metadata": {},
   "outputs": [
    {
     "name": "stderr",
     "output_type": "stream",
     "text": [
      "[Stage 19:>                                                         (0 + 1) / 1]\r"
     ]
    },
    {
     "name": "stdout",
     "output_type": "stream",
     "text": [
      "+----+-------+--------+-------------------+-------------------+---------+------------------+--------------------+--------------------+------------+----------+-----+--------------+-------------+-----------+------------+--------------+--------------+---------------+-----------------+--------+-------+-------+---------------+--------------+--------------+-----------+---------------+-------------+--------+\n",
      "|  ID| Source|Severity|         Start_Time|           End_Time|Start_Lat|         Start_Lng|         Description|              Street|        City|    County|State|Temperature(F)|Wind_Chill(F)|Humidity(%)|Pressure(in)|Visibility(mi)|Wind_Direction|Wind_Speed(mph)|Weather_Condition|Crossing|Railway|Station|Traffic_Calming|Traffic_Signal|Sunrise_Sunset|Distance(m)|Start_Time_unix|End_Time_unix|Duration|\n",
      "+----+-------+--------+-------------------+-------------------+---------+------------------+--------------------+--------------------+------------+----------+-----+--------------+-------------+-----------+------------+--------------+--------------+---------------+-----------------+--------+-------+-------+---------------+--------------+--------------+-----------+---------------+-------------+--------+\n",
      "| A-3|Source2|       2|2016-02-08 06:49:27|2016-02-08 07:19:27|39.063148|        -84.032608|Accident on OH-32...|      State Route 32|Williamsburg|  Clermont|   OH|          36.0|         33.3|      100.0|       29.67|          10.0|            SW|            3.5|         Overcast|   false|  false|  false|          false|          true|         Night|    16.0934|     1454914167|   1454915967|    1800|\n",
      "| A-4|Source2|       3|2016-02-08 07:23:34|2016-02-08 07:53:34|39.747753|-84.20558199999998|Accident on I-75 ...|              I-75 S|      Dayton|Montgomery|   OH|          35.1|         31.0|       96.0|       29.64|           9.0|            SW|            4.6|    Mostly Cloudy|   false|  false|  false|          false|         false|         Night|    16.0934|     1454916214|   1454918014|    1800|\n",
      "| A-5|Source2|       2|2016-02-08 07:39:07|2016-02-08 08:09:07|39.627781|        -84.188354|Accident on McEwe...|Miamisburg Center...|      Dayton|Montgomery|   OH|          36.0|         33.3|       89.0|       29.65|           6.0|            SW|            3.5|    Mostly Cloudy|   false|  false|  false|          false|          true|           Day|    16.0934|     1454917147|   1454918947|    1800|\n",
      "| A-6|Source2|       3|2016-02-08 07:44:26|2016-02-08 08:14:26| 40.10059|-82.92519399999998|Accident on I-270...|      Westerville Rd| Westerville|  Franklin|   OH|          37.9|         35.5|       97.0|       29.63|           7.0|           SSW|            3.5|       Light Rain|   false|  false|  false|          false|         false|           Day|    16.0934|     1454917466|   1454919266|    1800|\n",
      "| A-7|Source2|       2|2016-02-08 07:59:35|2016-02-08 08:29:35|39.758274|-84.23050699999997|Accident on Oakri...|      N Woodward Ave|      Dayton|Montgomery|   OH|          34.0|         31.0|      100.0|       29.66|           7.0|           WSW|            3.5|         Overcast|   false|  false|  false|          false|         false|           Day|        0.0|     1454918375|   1454920175|    1800|\n",
      "| A-8|Source2|       3|2016-02-08 07:59:58|2016-02-08 08:29:58|39.770382|        -84.194901|Accident on I-75 ...|           N Main St|      Dayton|Montgomery|   OH|          34.0|         31.0|      100.0|       29.66|           7.0|           WSW|            3.5|         Overcast|   false|  false|  false|          false|         false|           Day|    16.0934|     1454918398|   1454920198|    1800|\n",
      "|A-10|Source2|       3|2016-02-08 08:10:04|2016-02-08 08:40:04| 40.10059|-82.92519399999998|Right hand should...|      Westerville Rd| Westerville|  Franklin|   OH|          37.4|         33.8|      100.0|       29.62|           3.0|           SSW|            4.6|       Light Rain|   false|  false|  false|          false|         false|           Day|    16.0934|     1454919004|   1454920804|    1800|\n",
      "|A-11|Source2|       3|2016-02-08 08:14:42|2016-02-08 08:44:42|39.952812|        -83.119293|Accident on I-270...|         Outerbelt S|    Columbus|  Franklin|   OH|          35.6|         30.7|       93.0|       29.64|           5.0|           WNW|            5.8|             Rain|    true|  false|  false|          false|         false|           Day|    16.0934|     1454919282|   1454921082|    1800|\n",
      "|A-12|Source2|       3|2016-02-08 08:21:27|2016-02-08 08:51:27|39.932709|         -82.83091|One lane blocked ...|              I-70 E|Reynoldsburg|  Franklin|   OH|          37.4|         33.8|      100.0|       29.62|           3.0|           SSW|            4.6|       Light Rain|   false|  false|  false|          false|         false|           Day|    16.0934|     1454919687|   1454921487|    1800|\n",
      "|A-14|Source2|       2|2016-02-08 08:37:07|2016-02-08 09:07:07| 39.79076|        -84.241547|Accident on Salem...|           Salem Ave|      Dayton|Montgomery|   OH|          36.0|         31.1|       89.0|       29.65|          10.0|            NW|            5.8|    Mostly Cloudy|   false|  false|  false|          false|          true|           Day|    16.0934|     1454920627|   1454922427|    1800|\n",
      "|A-15|Source2|       2|2016-02-08 08:39:43|2016-02-08 09:09:43|39.972038|        -82.913521|Accident on OH-16...|          E Broad St|    Columbus|  Franklin|   OH|          37.4|         33.8|      100.0|       29.62|           3.0|           SSW|            4.6|       Light Rain|   false|  false|  false|          false|          true|           Day|    16.0934|     1454920783|   1454922583|    1800|\n",
      "|A-18|Source2|       2|2016-02-08 09:24:37|2016-02-08 09:54:37|39.752174|        -84.239952|Accident on Delph...|         Delphos Ave|      Dayton|Montgomery|   OH|          36.0|         31.1|       89.0|       29.65|          10.0|            NW|            5.8|    Mostly Cloudy|   false|  false|  false|          false|         false|           Day|        0.0|     1454923477|   1454925277|    1800|\n",
      "|A-19|Source2|       2|2016-02-08 09:25:17|2016-02-08 09:55:17|39.740669|        -84.184135|Accident on Stewa...|          Rubicon St|      Dayton|Montgomery|   OH|          37.4|         32.1|       93.0|       29.63|          10.0|           WSW|            6.9|         Overcast|    true|  false|  false|          false|          true|           Day|    16.0934|     1454923517|   1454925317|    1800|\n",
      "|A-20|Source2|       2|2016-02-08 09:35:35|2016-02-08 10:05:35|39.790703|        -84.244461|Accident on Hillc...|     W Hillcrest Ave|      Dayton|Montgomery|   OH|          36.0|         30.3|       89.0|       29.65|          10.0|          West|            6.9|    Mostly Cloudy|   false|  false|  false|          false|         false|           Day|    16.0934|     1454924135|   1454925935|    1800|\n",
      "|A-21|Source2|       2|2016-02-08 10:11:15|2016-02-08 10:41:15|40.052509|-82.88233199999998|Accident on Brook...|        Brookhill Dr|    Columbus|  Franklin|   OH|          33.8|         29.6|      100.0|       29.62|           2.0|           NNW|            4.6|       Light Snow|   false|  false|  false|          false|         false|           Day|        0.0|     1454926275|   1454928075|    1800|\n",
      "|A-22|Source2|       2|2016-02-08 10:24:27|2016-02-08 10:54:27|39.773346|        -84.224686|Accident on Princ...|        Princeton Dr|      Dayton|Montgomery|   OH|          36.0|         30.3|       89.0|       29.65|          10.0|          West|            6.9|    Mostly Cloudy|   false|  false|  false|          false|         false|           Day|        0.0|     1454927067|   1454928867|    1800|\n",
      "|A-23|Source2|       2|2016-02-08 11:53:19|2016-02-08 12:23:19|39.628288|        -84.226151|Accident on OH-74...|     Springboro Pike|  Miamisburg|Montgomery|   OH|          35.1|         28.6|       89.0|       29.65|           6.0|           WSW|            8.1|         Overcast|   false|  false|  false|          false|          true|           Day|    16.0934|     1454932399|   1454934199|    1800|\n",
      "|A-24|Source2|       3|2016-02-08 12:00:00|2016-02-08 12:45:00|40.023487|        -82.994888|Accident on I-71 ...|         North Fwy S|    Columbus|  Franklin|   OH|          37.0|         32.4|       96.0|       29.63|           8.0|          West|            5.8|         Overcast|   false|  false|  false|          false|         false|           Day|    16.0934|     1454932800|   1454935500|    2700|\n",
      "|A-25|Source2|       2|2016-02-08 12:16:44|2016-02-08 13:01:44|39.761379|-84.25921600000002|Accident on Hoove...|          Hoover Ave|      Dayton|Montgomery|   OH|          37.9|         30.9|       76.0|       29.62|          10.0|           WNW|           10.4|         Overcast|   false|  false|  false|          false|          true|           Day|    16.0934|     1454933804|   1454936504|    2700|\n",
      "|A-26|Source2|       2|2016-02-08 12:41:08|2016-02-08 13:11:08|40.158024|        -82.641762|Accident on Count...|   Sportsman Club Rd|   Johnstown|   Licking|   OH|          37.9|         34.4|      100.0|        29.6|           5.0|          West|            4.6|       Light Snow|   false|  false|  false|          false|         false|           Day|  2124.3288|     1454935268|   1454937068|    1800|\n",
      "+----+-------+--------+-------------------+-------------------+---------+------------------+--------------------+--------------------+------------+----------+-----+--------------+-------------+-----------+------------+--------------+--------------+---------------+-----------------+--------+-------+-------+---------------+--------------+--------------+-----------+---------------+-------------+--------+\n",
      "only showing top 20 rows\n",
      "\n"
     ]
    },
    {
     "name": "stderr",
     "output_type": "stream",
     "text": [
      "                                                                                \r"
     ]
    }
   ],
   "source": [
    "cleaned_df.show()"
   ]
  },
  {
   "cell_type": "code",
   "execution_count": 42,
   "metadata": {},
   "outputs": [
    {
     "data": {
      "text/plain": [
       "['ID',\n",
       " 'Source',\n",
       " 'Severity',\n",
       " 'Start_Time',\n",
       " 'End_Time',\n",
       " 'Start_Lat',\n",
       " 'Start_Lng',\n",
       " 'Description',\n",
       " 'Street',\n",
       " 'City',\n",
       " 'County',\n",
       " 'State',\n",
       " 'Temperature(F)',\n",
       " 'Wind_Chill(F)',\n",
       " 'Humidity(%)',\n",
       " 'Pressure(in)',\n",
       " 'Visibility(mi)',\n",
       " 'Wind_Direction',\n",
       " 'Wind_Speed(mph)',\n",
       " 'Weather_Condition',\n",
       " 'Crossing',\n",
       " 'Railway',\n",
       " 'Station',\n",
       " 'Traffic_Calming',\n",
       " 'Traffic_Signal',\n",
       " 'Sunrise_Sunset',\n",
       " 'Distance(m)',\n",
       " 'Start_Time_unix',\n",
       " 'End_Time_unix',\n",
       " 'Duration']"
      ]
     },
     "execution_count": 42,
     "metadata": {},
     "output_type": "execute_result"
    }
   ],
   "source": [
    "cleaned_df.columns"
   ]
  },
  {
   "cell_type": "markdown",
   "metadata": {},
   "source": [
    "# Predictive Analytics\n",
    "\n",
    "1. [classification]➔ Predicting the severity of an accident based on the\n",
    "factors involved.\n",
    "\n",
    "2. [Regression]➔ Predicting accident Duration as indicator of impact on\n",
    "traffic flow."
   ]
  },
  {
   "cell_type": "markdown",
   "metadata": {},
   "source": [
    "## Classification\n",
    "\n",
    "We will discard some columns that will not affect directly in predicting the severity\n",
    "\n",
    "- ID\n",
    "- Description\n",
    "\n",
    "Also the severity will be dropped from features and set as the target variable "
   ]
  },
  {
   "cell_type": "code",
   "execution_count": 43,
   "metadata": {},
   "outputs": [],
   "source": [
    "from pyspark.ml.evaluation import BinaryClassificationEvaluator\n",
    "from pyspark.ml.feature import VectorAssembler\n",
    "from pyspark.ml.classification import LogisticRegression"
   ]
  },
  {
   "cell_type": "code",
   "execution_count": 44,
   "metadata": {},
   "outputs": [],
   "source": [
    "dropped_columns = [\"Description\", \"ID\"]\n",
    "\n",
    "classification_df = cleaned_df.drop(*dropped_columns)"
   ]
  },
  {
   "cell_type": "code",
   "execution_count": 45,
   "metadata": {},
   "outputs": [],
   "source": [
    "from pyspark.ml.feature import VectorAssembler, OneHotEncoder\n",
    "\n",
    "# Define the columns to be included in the feature vector\n",
    "input_columns = ['Source', 'Start_Time', 'End_Time', 'Street', 'City', 'County', 'State', 'Wind_Direction', 'Weather_Condition', 'Sunrise_Sunset']\n",
    "\n",
    "# Apply one-hot encoding to string index columns\n",
    "encoders = [OneHotEncoder(inputCol=column+\"_index\", outputCol=column+\"_encoded\") for column in input_columns if classification_df.schema[column].dataType == \"string\"]\n",
    "\n",
    "# Assemble the remaining columns (numeric columns) into a vector\n",
    "numeric_columns = [column for column in classification_df.columns if column not in input_columns]\n",
    "assembler = VectorAssembler(inputCols=numeric_columns, outputCol=\"numeric_features\")\n",
    "\n",
    "# Combine all features into a single vector\n",
    "final_assembler = VectorAssembler(inputCols=[column+\"_encoded\" for column in input_columns if classification_df.schema[column].dataType == \"string\"] + [\"numeric_features\"], outputCol=\"features\")\n",
    "\n",
    "# Pipeline stages\n",
    "stages =  encoders + [assembler, final_assembler]\n",
    "\n",
    "# Create a pipeline\n",
    "from pyspark.ml import Pipeline\n",
    "pipeline = Pipeline(stages=stages)\n",
    "\n",
    "# Fit the pipeline to the data\n",
    "pipeline_model = pipeline.fit(classification_df)\n",
    "\n",
    "# Transform the data\n",
    "output = pipeline_model.transform(classification_df)\n"
   ]
  },
  {
   "cell_type": "code",
   "execution_count": 49,
   "metadata": {},
   "outputs": [
    {
     "name": "stderr",
     "output_type": "stream",
     "text": [
      "[Stage 23:>                                                         (0 + 1) / 1]\r"
     ]
    },
    {
     "name": "stdout",
     "output_type": "stream",
     "text": [
      "+--------+--------------------+\n",
      "|Severity|            features|\n",
      "+--------+--------------------+\n",
      "|       2|[2.0,39.063148,-8...|\n",
      "|       3|[3.0,39.747753,-8...|\n",
      "|       2|[2.0,39.627781,-8...|\n",
      "|       3|[3.0,40.10059,-82...|\n",
      "|       2|[2.0,39.758274,-8...|\n",
      "|       3|[3.0,39.770382,-8...|\n",
      "|       3|[3.0,40.10059,-82...|\n",
      "|       3|[3.0,39.952812,-8...|\n",
      "|       3|[3.0,39.932709,-8...|\n",
      "|       2|[2.0,39.79076,-84...|\n",
      "|       2|[2.0,39.972038,-8...|\n",
      "|       2|[2.0,39.752174,-8...|\n",
      "|       2|[2.0,39.740669,-8...|\n",
      "|       2|[2.0,39.790703,-8...|\n",
      "|       2|[2.0,40.052509,-8...|\n",
      "|       2|[2.0,39.773346,-8...|\n",
      "|       2|[2.0,39.628288,-8...|\n",
      "|       3|[3.0,40.023487,-8...|\n",
      "|       2|[2.0,39.761379,-8...|\n",
      "|       2|[2.0,40.158024,-8...|\n",
      "+--------+--------------------+\n",
      "only showing top 20 rows\n",
      "\n"
     ]
    },
    {
     "name": "stderr",
     "output_type": "stream",
     "text": [
      "                                                                                \r"
     ]
    }
   ],
   "source": [
    "# Show the features column\n",
    "finalised_data = output.select(\"Severity\",\"features\")\n",
    "finalised_data.show()"
   ]
  },
  {
   "cell_type": "code",
   "execution_count": 50,
   "metadata": {},
   "outputs": [],
   "source": [
    "train, test = finalised_data.randomSplit([0.7, 0.3])"
   ]
  },
  {
   "cell_type": "code",
   "execution_count": 56,
   "metadata": {},
   "outputs": [
    {
     "name": "stderr",
     "output_type": "stream",
     "text": [
      "[Stage 108:======================================>                (43 + 8) / 62]\r"
     ]
    },
    {
     "name": "stdout",
     "output_type": "stream",
     "text": [
      "24/04/30 23:58:30 WARN MemoryStore: Not enough space to cache rdd_812_44 in memory! (computed 17.0 MiB so far)\n",
      "24/04/30 23:58:31 WARN BlockManager: Persisting block rdd_812_44 to disk instead.\n"
     ]
    },
    {
     "name": "stderr",
     "output_type": "stream",
     "text": [
      "[Stage 108:========================================>              (46 + 8) / 62]\r"
     ]
    },
    {
     "name": "stdout",
     "output_type": "stream",
     "text": [
      "24/04/30 23:58:31 WARN MemoryStore: Not enough space to cache rdd_812_42 in memory! (computed 17.0 MiB so far)\n",
      "24/04/30 23:58:31 WARN BlockManager: Persisting block rdd_812_42 to disk instead.\n"
     ]
    },
    {
     "name": "stderr",
     "output_type": "stream",
     "text": [
      "[Stage 108:===========================================>           (49 + 8) / 62]\r"
     ]
    },
    {
     "name": "stdout",
     "output_type": "stream",
     "text": [
      "24/04/30 23:58:48 WARN MemoryStore: Not enough space to cache rdd_812_49 in memory! (computed 17.0 MiB so far)\n",
      "24/04/30 23:58:48 WARN BlockManager: Persisting block rdd_812_49 to disk instead.\n",
      "24/04/30 23:58:48 WARN MemoryStore: Not enough space to cache rdd_812_49 in memory! (computed 17.0 MiB so far)\n"
     ]
    },
    {
     "name": "stderr",
     "output_type": "stream",
     "text": [
      "[Stage 108:============================================>          (50 + 8) / 62]\r"
     ]
    },
    {
     "name": "stdout",
     "output_type": "stream",
     "text": [
      "24/04/30 23:58:49 WARN MemoryStore: Not enough space to cache rdd_812_54 in memory! (computed 17.0 MiB so far)\n",
      "24/04/30 23:58:49 WARN BlockManager: Persisting block rdd_812_54 to disk instead.\n",
      "24/04/30 23:58:49 WARN MemoryStore: Not enough space to cache rdd_812_54 in memory! (computed 17.0 MiB so far)\n"
     ]
    },
    {
     "name": "stderr",
     "output_type": "stream",
     "text": [
      "                                                                                \r"
     ]
    },
    {
     "name": "stdout",
     "output_type": "stream",
     "text": [
      "24/04/30 23:58:53 WARN MemoryStore: Not enough space to cache rdd_812_19 in memory! (computed 2.6 MiB so far)\n",
      "24/04/30 23:58:53 WARN MemoryStore: Failed to reserve initial memory threshold of 1024.0 KiB for computing block rdd_812_25 in memory.\n",
      "24/04/30 23:58:53 WARN MemoryStore: Not enough space to cache rdd_812_25 in memory! (computed 384.0 B so far)\n",
      "24/04/30 23:58:53 WARN MemoryStore: Failed to reserve initial memory threshold of 1024.0 KiB for computing block rdd_812_16 in memory.\n",
      "24/04/30 23:58:53 WARN MemoryStore: Not enough space to cache rdd_812_16 in memory! (computed 384.0 B so far)\n",
      "24/04/30 23:58:53 WARN MemoryStore: Not enough space to cache rdd_812_24 in memory! (computed 9.7 MiB so far)\n",
      "24/04/30 23:58:53 WARN MemoryStore: Failed to reserve initial memory threshold of 1024.0 KiB for computing block rdd_812_27 in memory.\n",
      "24/04/30 23:58:53 WARN MemoryStore: Not enough space to cache rdd_812_21 in memory! (computed 3.5 MiB so far)\n",
      "24/04/30 23:58:53 WARN MemoryStore: Failed to reserve initial memory threshold of 1024.0 KiB for computing block rdd_812_28 in memory.\n",
      "24/04/30 23:58:53 WARN MemoryStore: Not enough space to cache rdd_812_28 in memory! (computed 384.0 B so far)\n",
      "24/04/30 23:58:53 WARN MemoryStore: Failed to reserve initial memory threshold of 1024.0 KiB for computing block rdd_812_26 in memory.\n",
      "24/04/30 23:58:53 WARN MemoryStore: Not enough space to cache rdd_812_27 in memory! (computed 384.0 B so far)\n",
      "24/04/30 23:58:53 WARN MemoryStore: Not enough space to cache rdd_812_20 in memory! (computed 3.7 MiB so far)\n",
      "24/04/30 23:58:53 WARN MemoryStore: Not enough space to cache rdd_812_26 in memory! (computed 384.0 B so far)\n",
      "24/04/30 23:58:53 WARN MemoryStore: Not enough space to cache rdd_812_29 in memory! (computed 12.0 MiB so far)\n",
      "24/04/30 23:58:53 WARN MemoryStore: Not enough space to cache rdd_812_23 in memory! (computed 13.2 MiB so far)\n",
      "24/04/30 23:58:54 WARN MemoryStore: Not enough space to cache rdd_812_30 in memory! (computed 7.3 MiB so far)\n",
      "24/04/30 23:58:54 WARN MemoryStore: Not enough space to cache rdd_812_31 in memory! (computed 14.3 MiB so far)\n",
      "24/04/30 23:58:54 WARN MemoryStore: Not enough space to cache rdd_812_49 in memory! (computed 17.0 MiB so far)\n",
      "24/04/30 23:58:54 WARN MemoryStore: Not enough space to cache rdd_812_54 in memory! (computed 17.0 MiB so far)\n"
     ]
    },
    {
     "name": "stderr",
     "output_type": "stream",
     "text": [
      "                                                                                \r"
     ]
    },
    {
     "name": "stdout",
     "output_type": "stream",
     "text": [
      "24/04/30 23:58:54 WARN MemoryStore: Failed to reserve initial memory threshold of 1024.0 KiB for computing block rdd_812_25 in memory.\n",
      "24/04/30 23:58:54 WARN MemoryStore: Not enough space to cache rdd_812_25 in memory! (computed 384.0 B so far)\n",
      "24/04/30 23:58:54 WARN MemoryStore: Failed to reserve initial memory threshold of 1024.0 KiB for computing block rdd_812_24 in memory.\n",
      "24/04/30 23:58:54 WARN MemoryStore: Not enough space to cache rdd_812_24 in memory! (computed 384.0 B so far)\n",
      "24/04/30 23:58:54 WARN MemoryStore: Failed to reserve initial memory threshold of 1024.0 KiB for computing block rdd_812_23 in memory.\n",
      "24/04/30 23:58:54 WARN MemoryStore: Not enough space to cache rdd_812_23 in memory! (computed 384.0 B so far)\n",
      "24/04/30 23:58:54 WARN MemoryStore: Not enough space to cache rdd_812_20 in memory! (computed 1024.6 KiB so far)\n",
      "24/04/30 23:58:54 WARN MemoryStore: Not enough space to cache rdd_812_21 in memory! (computed 3.5 MiB so far)\n",
      "24/04/30 23:58:54 WARN MemoryStore: Failed to reserve initial memory threshold of 1024.0 KiB for computing block rdd_812_29 in memory.\n",
      "24/04/30 23:58:54 WARN MemoryStore: Not enough space to cache rdd_812_29 in memory! (computed 384.0 B so far)\n",
      "24/04/30 23:58:54 WARN MemoryStore: Not enough space to cache rdd_812_27 in memory! (computed 1024.6 KiB so far)\n",
      "24/04/30 23:58:54 WARN MemoryStore: Not enough space to cache rdd_812_30 in memory! (computed 1024.6 KiB so far)\n",
      "24/04/30 23:58:54 WARN MemoryStore: Not enough space to cache rdd_812_26 in memory! (computed 9.7 MiB so far)\n",
      "24/04/30 23:58:54 WARN MemoryStore: Not enough space to cache rdd_812_28 in memory! (computed 1024.6 KiB so far)\n",
      "24/04/30 23:58:54 WARN MemoryStore: Not enough space to cache rdd_812_31 in memory! (computed 14.3 MiB so far)\n",
      "24/04/30 23:58:55 WARN MemoryStore: Not enough space to cache rdd_812_54 in memory! (computed 1024.6 KiB so far)\n",
      "24/04/30 23:58:55 WARN MemoryStore: Not enough space to cache rdd_812_49 in memory! (computed 17.0 MiB so far)\n"
     ]
    },
    {
     "name": "stderr",
     "output_type": "stream",
     "text": [
      "                                                                                \r"
     ]
    },
    {
     "name": "stdout",
     "output_type": "stream",
     "text": [
      "24/04/30 23:58:55 WARN MemoryStore: Not enough space to cache rdd_812_20 in memory! (computed 1024.6 KiB so far)\n",
      "24/04/30 23:58:55 WARN MemoryStore: Failed to reserve initial memory threshold of 1024.0 KiB for computing block rdd_812_24 in memory.\n",
      "24/04/30 23:58:55 WARN MemoryStore: Failed to reserve initial memory threshold of 1024.0 KiB for computing block rdd_812_21 in memory.\n",
      "24/04/30 23:58:55 WARN MemoryStore: Failed to reserve initial memory threshold of 1024.0 KiB for computing block rdd_812_27 in memory.\n",
      "24/04/30 23:58:55 WARN MemoryStore: Not enough space to cache rdd_812_21 in memory! (computed 384.0 B so far)\n",
      "24/04/30 23:58:55 WARN MemoryStore: Not enough space to cache rdd_812_27 in memory! (computed 384.0 B so far)\n",
      "24/04/30 23:58:55 WARN MemoryStore: Not enough space to cache rdd_812_24 in memory! (computed 384.0 B so far)\n",
      "24/04/30 23:58:55 WARN MemoryStore: Failed to reserve initial memory threshold of 1024.0 KiB for computing block rdd_812_25 in memory.\n",
      "24/04/30 23:58:55 WARN MemoryStore: Failed to reserve initial memory threshold of 1024.0 KiB for computing block rdd_812_28 in memory.\n",
      "24/04/30 23:58:55 WARN MemoryStore: Not enough space to cache rdd_812_25 in memory! (computed 384.0 B so far)\n",
      "24/04/30 23:58:55 WARN MemoryStore: Not enough space to cache rdd_812_28 in memory! (computed 384.0 B so far)\n",
      "24/04/30 23:58:55 WARN MemoryStore: Not enough space to cache rdd_812_23 in memory! (computed 13.2 MiB so far)\n",
      "24/04/30 23:58:55 WARN MemoryStore: Not enough space to cache rdd_812_26 in memory! (computed 1024.6 KiB so far)\n",
      "24/04/30 23:58:55 WARN MemoryStore: Failed to reserve initial memory threshold of 1024.0 KiB for computing block rdd_812_31 in memory.\n",
      "24/04/30 23:58:55 WARN MemoryStore: Not enough space to cache rdd_812_31 in memory! (computed 384.0 B so far)\n",
      "24/04/30 23:58:55 WARN MemoryStore: Not enough space to cache rdd_812_30 in memory! (computed 1024.6 KiB so far)\n",
      "24/04/30 23:58:55 WARN MemoryStore: Not enough space to cache rdd_812_29 in memory! (computed 12.0 MiB so far)\n"
     ]
    },
    {
     "name": "stderr",
     "output_type": "stream",
     "text": [
      "                                                                                \r"
     ]
    },
    {
     "name": "stdout",
     "output_type": "stream",
     "text": [
      "24/04/30 23:58:55 WARN MemoryStore: Not enough space to cache rdd_812_54 in memory! (computed 1024.6 KiB so far)\n",
      "24/04/30 23:58:55 WARN MemoryStore: Not enough space to cache rdd_812_49 in memory! (computed 17.0 MiB so far)\n",
      "24/04/30 23:58:56 WARN MemoryStore: Failed to reserve initial memory threshold of 1024.0 KiB for computing block rdd_812_20 in memory.\n",
      "24/04/30 23:58:56 WARN MemoryStore: Failed to reserve initial memory threshold of 1024.0 KiB for computing block rdd_812_21 in memory.\n",
      "24/04/30 23:58:56 WARN MemoryStore: Failed to reserve initial memory threshold of 1024.0 KiB for computing block rdd_812_25 in memory.\n",
      "24/04/30 23:58:56 WARN MemoryStore: Not enough space to cache rdd_812_21 in memory! (computed 384.0 B so far)\n",
      "24/04/30 23:58:56 WARN MemoryStore: Not enough space to cache rdd_812_20 in memory! (computed 384.0 B so far)\n",
      "24/04/30 23:58:56 WARN MemoryStore: Failed to reserve initial memory threshold of 1024.0 KiB for computing block rdd_812_26 in memory.\n",
      "24/04/30 23:58:56 WARN MemoryStore: Not enough space to cache rdd_812_24 in memory! (computed 1024.6 KiB so far)\n",
      "24/04/30 23:58:56 WARN MemoryStore: Failed to reserve initial memory threshold of 1024.0 KiB for computing block rdd_812_27 in memory.\n",
      "24/04/30 23:58:56 WARN MemoryStore: Not enough space to cache rdd_812_26 in memory! (computed 384.0 B so far)\n",
      "24/04/30 23:58:56 WARN MemoryStore: Not enough space to cache rdd_812_25 in memory! (computed 384.0 B so far)\n",
      "24/04/30 23:58:56 WARN MemoryStore: Not enough space to cache rdd_812_27 in memory! (computed 384.0 B so far)\n",
      "24/04/30 23:58:56 WARN MemoryStore: Not enough space to cache rdd_812_23 in memory! (computed 13.2 MiB so far)\n",
      "24/04/30 23:58:56 WARN MemoryStore: Failed to reserve initial memory threshold of 1024.0 KiB for computing block rdd_812_29 in memory.\n",
      "24/04/30 23:58:56 WARN MemoryStore: Not enough space to cache rdd_812_28 in memory! (computed 1024.6 KiB so far)\n",
      "24/04/30 23:58:56 WARN MemoryStore: Not enough space to cache rdd_812_29 in memory! (computed 384.0 B so far)\n",
      "24/04/30 23:58:56 WARN MemoryStore: Not enough space to cache rdd_812_30 in memory! (computed 1024.6 KiB so far)\n",
      "24/04/30 23:58:56 WARN MemoryStore: Not enough space to cache rdd_812_31 in memory! (computed 1024.6 KiB so far)\n",
      "24/04/30 23:58:56 WARN MemoryStore: Not enough space to cache rdd_812_49 in memory! (computed 17.0 MiB so far)\n",
      "24/04/30 23:58:56 WARN MemoryStore: Not enough space to cache rdd_812_54 in memory! (computed 1024.6 KiB so far)\n",
      "24/04/30 23:58:56 WARN MemoryStore: Failed to reserve initial memory threshold of 1024.0 KiB for computing block rdd_812_23 in memory.\n",
      "24/04/30 23:58:56 WARN MemoryStore: Not enough space to cache rdd_812_23 in memory! (computed 384.0 B so far)\n",
      "24/04/30 23:58:56 WARN MemoryStore: Failed to reserve initial memory threshold of 1024.0 KiB for computing block rdd_812_24 in memory.\n",
      "24/04/30 23:58:56 WARN MemoryStore: Not enough space to cache rdd_812_24 in memory! (computed 384.0 B so far)\n",
      "24/04/30 23:58:56 WARN MemoryStore: Not enough space to cache rdd_812_21 in memory! (computed 1024.6 KiB so far)\n",
      "24/04/30 23:58:56 WARN MemoryStore: Not enough space to cache rdd_812_20 in memory! (computed 3.7 MiB so far)\n",
      "24/04/30 23:58:56 WARN MemoryStore: Failed to reserve initial memory threshold of 1024.0 KiB for computing block rdd_812_26 in memory.\n",
      "24/04/30 23:58:56 WARN MemoryStore: Not enough space to cache rdd_812_26 in memory! (computed 384.0 B so far)\n",
      "24/04/30 23:58:56 WARN MemoryStore: Failed to reserve initial memory threshold of 1024.0 KiB for computing block rdd_812_25 in memory.\n",
      "24/04/30 23:58:56 WARN MemoryStore: Failed to reserve initial memory threshold of 1024.0 KiB for computing block rdd_812_28 in memory.\n",
      "24/04/30 23:58:56 WARN MemoryStore: Not enough space to cache rdd_812_27 in memory! (computed 1024.6 KiB so far)\n",
      "24/04/30 23:58:56 WARN MemoryStore: Not enough space to cache rdd_812_28 in memory! (computed 384.0 B so far)\n",
      "24/04/30 23:58:56 WARN MemoryStore: Not enough space to cache rdd_812_25 in memory! (computed 384.0 B so far)\n",
      "24/04/30 23:58:56 WARN MemoryStore: Not enough space to cache rdd_812_30 in memory! (computed 1024.6 KiB so far)\n",
      "24/04/30 23:58:56 WARN MemoryStore: Not enough space to cache rdd_812_31 in memory! (computed 1024.6 KiB so far)\n",
      "24/04/30 23:58:56 WARN MemoryStore: Not enough space to cache rdd_812_29 in memory! (computed 12.0 MiB so far)\n",
      "24/04/30 23:58:57 WARN MemoryStore: Not enough space to cache rdd_812_49 in memory! (computed 17.0 MiB so far)\n",
      "24/04/30 23:58:57 WARN MemoryStore: Not enough space to cache rdd_812_54 in memory! (computed 17.0 MiB so far)\n"
     ]
    },
    {
     "name": "stderr",
     "output_type": "stream",
     "text": [
      "                                                                                \r"
     ]
    },
    {
     "name": "stdout",
     "output_type": "stream",
     "text": [
      "24/04/30 23:58:57 WARN MemoryStore: Failed to reserve initial memory threshold of 1024.0 KiB for computing block rdd_812_25 in memory.\n",
      "24/04/30 23:58:57 WARN MemoryStore: Failed to reserve initial memory threshold of 1024.0 KiB for computing block rdd_812_21 in memory.\n",
      "24/04/30 23:58:57 WARN MemoryStore: Failed to reserve initial memory threshold of 1024.0 KiB for computing block rdd_812_23 in memory.\n",
      "24/04/30 23:58:57 WARN MemoryStore: Not enough space to cache rdd_812_25 in memory! (computed 384.0 B so far)\n",
      "24/04/30 23:58:57 WARN MemoryStore: Not enough space to cache rdd_812_21 in memory! (computed 384.0 B so far)\n",
      "24/04/30 23:58:57 WARN MemoryStore: Not enough space to cache rdd_812_20 in memory! (computed 3.7 MiB so far)\n",
      "24/04/30 23:58:57 WARN MemoryStore: Not enough space to cache rdd_812_24 in memory! (computed 1024.6 KiB so far)\n",
      "24/04/30 23:58:57 WARN MemoryStore: Not enough space to cache rdd_812_23 in memory! (computed 384.0 B so far)\n",
      "24/04/30 23:58:57 WARN MemoryStore: Failed to reserve initial memory threshold of 1024.0 KiB for computing block rdd_812_27 in memory.\n",
      "24/04/30 23:58:57 WARN MemoryStore: Not enough space to cache rdd_812_27 in memory! (computed 384.0 B so far)\n",
      "24/04/30 23:58:57 WARN MemoryStore: Not enough space to cache rdd_812_28 in memory! (computed 1024.6 KiB so far)\n",
      "24/04/30 23:58:57 WARN MemoryStore: Not enough space to cache rdd_812_29 in memory! (computed 1024.6 KiB so far)\n",
      "24/04/30 23:58:57 WARN MemoryStore: Failed to reserve initial memory threshold of 1024.0 KiB for computing block rdd_812_31 in memory.\n",
      "24/04/30 23:58:57 WARN MemoryStore: Not enough space to cache rdd_812_31 in memory! (computed 384.0 B so far)\n",
      "24/04/30 23:58:57 WARN MemoryStore: Not enough space to cache rdd_812_30 in memory! (computed 1024.6 KiB so far)\n",
      "24/04/30 23:58:57 WARN MemoryStore: Not enough space to cache rdd_812_26 in memory! (computed 9.7 MiB so far)\n",
      "24/04/30 23:58:57 WARN MemoryStore: Not enough space to cache rdd_812_54 in memory! (computed 1024.6 KiB so far)\n",
      "24/04/30 23:58:57 WARN MemoryStore: Not enough space to cache rdd_812_49 in memory! (computed 17.0 MiB so far)\n",
      "24/04/30 23:58:58 WARN MemoryStore: Not enough space to cache rdd_812_21 in memory! (computed 3.5 MiB so far)\n",
      "24/04/30 23:58:58 WARN MemoryStore: Failed to reserve initial memory threshold of 1024.0 KiB for computing block rdd_812_24 in memory.\n",
      "24/04/30 23:58:58 WARN MemoryStore: Not enough space to cache rdd_812_24 in memory! (computed 384.0 B so far)\n",
      "24/04/30 23:58:58 WARN MemoryStore: Failed to reserve initial memory threshold of 1024.0 KiB for computing block rdd_812_23 in memory.\n",
      "24/04/30 23:58:58 WARN MemoryStore: Failed to reserve initial memory threshold of 1024.0 KiB for computing block rdd_812_26 in memory.\n",
      "24/04/30 23:58:58 WARN MemoryStore: Not enough space to cache rdd_812_23 in memory! (computed 384.0 B so far)\n",
      "24/04/30 23:58:58 WARN MemoryStore: Not enough space to cache rdd_812_26 in memory! (computed 384.0 B so far)\n",
      "24/04/30 23:58:58 WARN MemoryStore: Not enough space to cache rdd_812_25 in memory! (computed 1024.6 KiB so far)\n",
      "24/04/30 23:58:58 WARN MemoryStore: Not enough space to cache rdd_812_20 in memory! (computed 3.7 MiB so far)\n",
      "24/04/30 23:58:58 WARN MemoryStore: Failed to reserve initial memory threshold of 1024.0 KiB for computing block rdd_812_27 in memory.\n",
      "24/04/30 23:58:58 WARN MemoryStore: Not enough space to cache rdd_812_27 in memory! (computed 384.0 B so far)\n",
      "24/04/30 23:58:58 WARN MemoryStore: Failed to reserve initial memory threshold of 1024.0 KiB for computing block rdd_812_28 in memory.\n",
      "24/04/30 23:58:58 WARN MemoryStore: Not enough space to cache rdd_812_28 in memory! (computed 384.0 B so far)\n",
      "24/04/30 23:58:58 WARN MemoryStore: Not enough space to cache rdd_812_30 in memory! (computed 1024.6 KiB so far)\n",
      "24/04/30 23:58:58 WARN MemoryStore: Failed to reserve initial memory threshold of 1024.0 KiB for computing block rdd_812_31 in memory.\n",
      "24/04/30 23:58:58 WARN MemoryStore: Not enough space to cache rdd_812_31 in memory! (computed 384.0 B so far)\n",
      "24/04/30 23:58:58 WARN MemoryStore: Not enough space to cache rdd_812_29 in memory! (computed 12.0 MiB so far)\n",
      "24/04/30 23:58:58 WARN MemoryStore: Not enough space to cache rdd_812_49 in memory! (computed 17.0 MiB so far)\n",
      "24/04/30 23:58:58 WARN MemoryStore: Not enough space to cache rdd_812_54 in memory! (computed 1024.6 KiB so far)\n"
     ]
    },
    {
     "name": "stderr",
     "output_type": "stream",
     "text": [
      "                                                                                \r"
     ]
    },
    {
     "name": "stdout",
     "output_type": "stream",
     "text": [
      "24/04/30 23:58:58 WARN MemoryStore: Failed to reserve initial memory threshold of 1024.0 KiB for computing block rdd_812_23 in memory.\n",
      "24/04/30 23:58:58 WARN MemoryStore: Not enough space to cache rdd_812_23 in memory! (computed 384.0 B so far)\n",
      "24/04/30 23:58:58 WARN MemoryStore: Not enough space to cache rdd_812_21 in memory! (computed 1024.6 KiB so far)\n",
      "24/04/30 23:58:58 WARN MemoryStore: Failed to reserve initial memory threshold of 1024.0 KiB for computing block rdd_812_25 in memory.\n",
      "24/04/30 23:58:58 WARN MemoryStore: Failed to reserve initial memory threshold of 1024.0 KiB for computing block rdd_812_24 in memory.\n",
      "24/04/30 23:58:58 WARN MemoryStore: Not enough space to cache rdd_812_20 in memory! (computed 3.7 MiB so far)\n",
      "24/04/30 23:58:58 WARN MemoryStore: Not enough space to cache rdd_812_24 in memory! (computed 384.0 B so far)\n",
      "24/04/30 23:58:58 WARN MemoryStore: Not enough space to cache rdd_812_26 in memory! (computed 1024.6 KiB so far)\n",
      "24/04/30 23:58:58 WARN MemoryStore: Not enough space to cache rdd_812_25 in memory! (computed 384.0 B so far)\n",
      "24/04/30 23:58:58 WARN MemoryStore: Not enough space to cache rdd_812_27 in memory! (computed 1024.6 KiB so far)\n",
      "24/04/30 23:58:58 WARN MemoryStore: Not enough space to cache rdd_812_28 in memory! (computed 1024.6 KiB so far)\n",
      "24/04/30 23:58:58 WARN MemoryStore: Failed to reserve initial memory threshold of 1024.0 KiB for computing block rdd_812_30 in memory.\n",
      "24/04/30 23:58:58 WARN MemoryStore: Not enough space to cache rdd_812_30 in memory! (computed 384.0 B so far)\n",
      "24/04/30 23:58:58 WARN MemoryStore: Not enough space to cache rdd_812_31 in memory! (computed 1024.6 KiB so far)\n",
      "24/04/30 23:58:58 WARN MemoryStore: Not enough space to cache rdd_812_29 in memory! (computed 12.0 MiB so far)\n",
      "24/04/30 23:58:59 WARN MemoryStore: Not enough space to cache rdd_812_49 in memory! (computed 17.0 MiB so far)\n",
      "24/04/30 23:58:59 WARN MemoryStore: Not enough space to cache rdd_812_54 in memory! (computed 1024.6 KiB so far)\n"
     ]
    },
    {
     "name": "stderr",
     "output_type": "stream",
     "text": [
      "                                                                                \r"
     ]
    },
    {
     "name": "stdout",
     "output_type": "stream",
     "text": [
      "24/04/30 23:58:59 WARN MemoryStore: Failed to reserve initial memory threshold of 1024.0 KiB for computing block rdd_812_25 in memory.\n",
      "24/04/30 23:58:59 WARN MemoryStore: Not enough space to cache rdd_812_24 in memory! (computed 1024.6 KiB so far)\n",
      "24/04/30 23:58:59 WARN MemoryStore: Failed to reserve initial memory threshold of 1024.0 KiB for computing block rdd_812_21 in memory.\n",
      "24/04/30 23:58:59 WARN MemoryStore: Failed to reserve initial memory threshold of 1024.0 KiB for computing block rdd_812_23 in memory.\n",
      "24/04/30 23:58:59 WARN MemoryStore: Not enough space to cache rdd_812_21 in memory! (computed 384.0 B so far)\n",
      "24/04/30 23:58:59 WARN MemoryStore: Not enough space to cache rdd_812_25 in memory! (computed 384.0 B so far)\n",
      "24/04/30 23:58:59 WARN MemoryStore: Not enough space to cache rdd_812_23 in memory! (computed 384.0 B so far)\n",
      "24/04/30 23:58:59 WARN MemoryStore: Not enough space to cache rdd_812_20 in memory! (computed 3.7 MiB so far)\n",
      "24/04/30 23:58:59 WARN MemoryStore: Failed to reserve initial memory threshold of 1024.0 KiB for computing block rdd_812_27 in memory.\n",
      "24/04/30 23:58:59 WARN MemoryStore: Not enough space to cache rdd_812_26 in memory! (computed 1024.6 KiB so far)\n",
      "24/04/30 23:58:59 WARN MemoryStore: Failed to reserve initial memory threshold of 1024.0 KiB for computing block rdd_812_30 in memory.\n",
      "24/04/30 23:58:59 WARN MemoryStore: Not enough space to cache rdd_812_30 in memory! (computed 384.0 B so far)\n",
      "24/04/30 23:58:59 WARN MemoryStore: Failed to reserve initial memory threshold of 1024.0 KiB for computing block rdd_812_29 in memory.\n",
      "24/04/30 23:58:59 WARN MemoryStore: Not enough space to cache rdd_812_27 in memory! (computed 384.0 B so far)\n",
      "24/04/30 23:58:59 WARN MemoryStore: Not enough space to cache rdd_812_29 in memory! (computed 384.0 B so far)\n",
      "24/04/30 23:58:59 WARN MemoryStore: Not enough space to cache rdd_812_28 in memory! (computed 8.3 MiB so far)\n",
      "24/04/30 23:58:59 WARN MemoryStore: Not enough space to cache rdd_812_31 in memory! (computed 1024.6 KiB so far)\n"
     ]
    },
    {
     "name": "stderr",
     "output_type": "stream",
     "text": [
      "[Stage 126:==========================================>            (48 + 8) / 62]\r"
     ]
    },
    {
     "name": "stdout",
     "output_type": "stream",
     "text": [
      "24/04/30 23:59:00 WARN MemoryStore: Not enough space to cache rdd_812_49 in memory! (computed 17.0 MiB so far)\n",
      "24/04/30 23:59:00 WARN MemoryStore: Not enough space to cache rdd_812_54 in memory! (computed 1024.6 KiB so far)\n"
     ]
    },
    {
     "name": "stderr",
     "output_type": "stream",
     "text": [
      "                                                                                \r"
     ]
    },
    {
     "name": "stdout",
     "output_type": "stream",
     "text": [
      "24/04/30 23:59:00 WARN MemoryStore: Failed to reserve initial memory threshold of 1024.0 KiB for computing block rdd_812_24 in memory.\n",
      "24/04/30 23:59:00 WARN MemoryStore: Not enough space to cache rdd_812_24 in memory! (computed 384.0 B so far)\n",
      "24/04/30 23:59:00 WARN MemoryStore: Not enough space to cache rdd_812_20 in memory! (computed 3.7 MiB so far)\n",
      "24/04/30 23:59:00 WARN MemoryStore: Not enough space to cache rdd_812_21 in memory! (computed 1024.6 KiB so far)\n",
      "24/04/30 23:59:00 WARN MemoryStore: Failed to reserve initial memory threshold of 1024.0 KiB for computing block rdd_812_26 in memory.\n",
      "24/04/30 23:59:00 WARN MemoryStore: Not enough space to cache rdd_812_26 in memory! (computed 384.0 B so far)\n",
      "24/04/30 23:59:00 WARN MemoryStore: Not enough space to cache rdd_812_23 in memory! (computed 1024.6 KiB so far)\n",
      "24/04/30 23:59:00 WARN MemoryStore: Failed to reserve initial memory threshold of 1024.0 KiB for computing block rdd_812_28 in memory.\n",
      "24/04/30 23:59:00 WARN MemoryStore: Failed to reserve initial memory threshold of 1024.0 KiB for computing block rdd_812_29 in memory.\n",
      "24/04/30 23:59:00 WARN MemoryStore: Failed to reserve initial memory threshold of 1024.0 KiB for computing block rdd_812_30 in memory.\n",
      "24/04/30 23:59:00 WARN MemoryStore: Failed to reserve initial memory threshold of 1024.0 KiB for computing block rdd_812_27 in memory.\n",
      "24/04/30 23:59:00 WARN MemoryStore: Not enough space to cache rdd_812_30 in memory! (computed 384.0 B so far)\n",
      "24/04/30 23:59:00 WARN MemoryStore: Not enough space to cache rdd_812_28 in memory! (computed 384.0 B so far)\n",
      "24/04/30 23:59:00 WARN MemoryStore: Not enough space to cache rdd_812_27 in memory! (computed 384.0 B so far)\n",
      "24/04/30 23:59:00 WARN MemoryStore: Not enough space to cache rdd_812_29 in memory! (computed 384.0 B so far)\n",
      "24/04/30 23:59:00 WARN MemoryStore: Not enough space to cache rdd_812_25 in memory! (computed 12.7 MiB so far)\n",
      "24/04/30 23:59:00 WARN MemoryStore: Not enough space to cache rdd_812_31 in memory! (computed 1024.6 KiB so far)\n",
      "24/04/30 23:59:00 WARN MemoryStore: Not enough space to cache rdd_812_49 in memory! (computed 17.0 MiB so far)\n",
      "24/04/30 23:59:00 WARN MemoryStore: Not enough space to cache rdd_812_54 in memory! (computed 1024.6 KiB so far)\n"
     ]
    },
    {
     "name": "stderr",
     "output_type": "stream",
     "text": [
      "                                                                                \r"
     ]
    },
    {
     "name": "stdout",
     "output_type": "stream",
     "text": [
      "24/04/30 23:59:01 WARN MemoryStore: Not enough space to cache rdd_812_20 in memory! (computed 1024.6 KiB so far)\n",
      "24/04/30 23:59:01 WARN MemoryStore: Not enough space to cache rdd_812_21 in memory! (computed 3.5 MiB so far)\n",
      "24/04/30 23:59:01 WARN MemoryStore: Failed to reserve initial memory threshold of 1024.0 KiB for computing block rdd_812_26 in memory.\n",
      "24/04/30 23:59:01 WARN MemoryStore: Failed to reserve initial memory threshold of 1024.0 KiB for computing block rdd_812_23 in memory.\n",
      "24/04/30 23:59:01 WARN MemoryStore: Not enough space to cache rdd_812_26 in memory! (computed 384.0 B so far)\n",
      "24/04/30 23:59:01 WARN MemoryStore: Not enough space to cache rdd_812_23 in memory! (computed 384.0 B so far)\n",
      "24/04/30 23:59:01 WARN MemoryStore: Failed to reserve initial memory threshold of 1024.0 KiB for computing block rdd_812_25 in memory.\n",
      "24/04/30 23:59:01 WARN MemoryStore: Failed to reserve initial memory threshold of 1024.0 KiB for computing block rdd_812_28 in memory.\n",
      "24/04/30 23:59:01 WARN MemoryStore: Not enough space to cache rdd_812_25 in memory! (computed 384.0 B so far)\n",
      "24/04/30 23:59:01 WARN MemoryStore: Not enough space to cache rdd_812_24 in memory! (computed 1024.6 KiB so far)\n",
      "24/04/30 23:59:01 WARN MemoryStore: Not enough space to cache rdd_812_28 in memory! (computed 384.0 B so far)\n",
      "24/04/30 23:59:01 WARN MemoryStore: Failed to reserve initial memory threshold of 1024.0 KiB for computing block rdd_812_27 in memory.\n",
      "24/04/30 23:59:01 WARN MemoryStore: Not enough space to cache rdd_812_27 in memory! (computed 384.0 B so far)\n",
      "24/04/30 23:59:01 WARN MemoryStore: Not enough space to cache rdd_812_29 in memory! (computed 1024.6 KiB so far)\n",
      "24/04/30 23:59:01 WARN MemoryStore: Not enough space to cache rdd_812_30 in memory! (computed 7.3 MiB so far)\n",
      "24/04/30 23:59:01 WARN MemoryStore: Not enough space to cache rdd_812_31 in memory! (computed 1024.6 KiB so far)\n",
      "24/04/30 23:59:01 WARN MemoryStore: Not enough space to cache rdd_812_49 in memory! (computed 17.0 MiB so far)\n",
      "24/04/30 23:59:01 WARN MemoryStore: Not enough space to cache rdd_812_54 in memory! (computed 1024.6 KiB so far)\n"
     ]
    },
    {
     "name": "stderr",
     "output_type": "stream",
     "text": [
      "                                                                                \r"
     ]
    },
    {
     "name": "stdout",
     "output_type": "stream",
     "text": [
      "24/04/30 23:59:01 WARN MemoryStore: Not enough space to cache rdd_812_21 in memory! (computed 1024.6 KiB so far)\n",
      "24/04/30 23:59:01 WARN MemoryStore: Not enough space to cache rdd_812_20 in memory! (computed 3.7 MiB so far)\n",
      "24/04/30 23:59:02 WARN MemoryStore: Failed to reserve initial memory threshold of 1024.0 KiB for computing block rdd_812_24 in memory.\n",
      "24/04/30 23:59:02 WARN MemoryStore: Failed to reserve initial memory threshold of 1024.0 KiB for computing block rdd_812_26 in memory.\n",
      "24/04/30 23:59:02 WARN MemoryStore: Failed to reserve initial memory threshold of 1024.0 KiB for computing block rdd_812_28 in memory.\n",
      "24/04/30 23:59:02 WARN MemoryStore: Not enough space to cache rdd_812_26 in memory! (computed 384.0 B so far)\n",
      "24/04/30 23:59:02 WARN MemoryStore: Not enough space to cache rdd_812_28 in memory! (computed 384.0 B so far)\n",
      "24/04/30 23:59:02 WARN MemoryStore: Failed to reserve initial memory threshold of 1024.0 KiB for computing block rdd_812_23 in memory.\n",
      "24/04/30 23:59:02 WARN MemoryStore: Not enough space to cache rdd_812_23 in memory! (computed 384.0 B so far)\n",
      "24/04/30 23:59:02 WARN MemoryStore: Not enough space to cache rdd_812_24 in memory! (computed 384.0 B so far)\n",
      "24/04/30 23:59:02 WARN MemoryStore: Failed to reserve initial memory threshold of 1024.0 KiB for computing block rdd_812_25 in memory.\n",
      "24/04/30 23:59:02 WARN MemoryStore: Not enough space to cache rdd_812_25 in memory! (computed 384.0 B so far)\n",
      "24/04/30 23:59:02 WARN MemoryStore: Not enough space to cache rdd_812_27 in memory! (computed 1024.6 KiB so far)\n",
      "24/04/30 23:59:02 WARN MemoryStore: Not enough space to cache rdd_812_30 in memory! (computed 1024.6 KiB so far)\n",
      "24/04/30 23:59:02 WARN MemoryStore: Not enough space to cache rdd_812_31 in memory! (computed 1024.6 KiB so far)\n",
      "24/04/30 23:59:02 WARN MemoryStore: Not enough space to cache rdd_812_29 in memory! (computed 12.0 MiB so far)\n",
      "24/04/30 23:59:02 WARN MemoryStore: Not enough space to cache rdd_812_54 in memory! (computed 1024.6 KiB so far)\n",
      "24/04/30 23:59:02 WARN MemoryStore: Not enough space to cache rdd_812_49 in memory! (computed 17.0 MiB so far)\n"
     ]
    },
    {
     "name": "stderr",
     "output_type": "stream",
     "text": [
      "                                                                                \r"
     ]
    },
    {
     "name": "stdout",
     "output_type": "stream",
     "text": [
      "24/04/30 23:59:02 WARN MemoryStore: Failed to reserve initial memory threshold of 1024.0 KiB for computing block rdd_812_21 in memory.\n",
      "24/04/30 23:59:02 WARN MemoryStore: Not enough space to cache rdd_812_21 in memory! (computed 384.0 B so far)\n",
      "24/04/30 23:59:02 WARN MemoryStore: Failed to reserve initial memory threshold of 1024.0 KiB for computing block rdd_812_25 in memory.\n",
      "24/04/30 23:59:02 WARN MemoryStore: Failed to reserve initial memory threshold of 1024.0 KiB for computing block rdd_812_26 in memory.\n",
      "24/04/30 23:59:02 WARN MemoryStore: Not enough space to cache rdd_812_25 in memory! (computed 384.0 B so far)\n",
      "24/04/30 23:59:02 WARN MemoryStore: Not enough space to cache rdd_812_20 in memory! (computed 3.7 MiB so far)\n",
      "24/04/30 23:59:02 WARN MemoryStore: Not enough space to cache rdd_812_26 in memory! (computed 384.0 B so far)\n",
      "24/04/30 23:59:02 WARN MemoryStore: Not enough space to cache rdd_812_23 in memory! (computed 1024.6 KiB so far)\n",
      "24/04/30 23:59:02 WARN MemoryStore: Failed to reserve initial memory threshold of 1024.0 KiB for computing block rdd_812_24 in memory.\n",
      "24/04/30 23:59:02 WARN MemoryStore: Not enough space to cache rdd_812_24 in memory! (computed 384.0 B so far)\n",
      "24/04/30 23:59:02 WARN MemoryStore: Not enough space to cache rdd_812_28 in memory! (computed 1024.6 KiB so far)\n",
      "24/04/30 23:59:02 WARN MemoryStore: Failed to reserve initial memory threshold of 1024.0 KiB for computing block rdd_812_29 in memory.\n",
      "24/04/30 23:59:02 WARN MemoryStore: Not enough space to cache rdd_812_29 in memory! (computed 384.0 B so far)\n",
      "24/04/30 23:59:02 WARN MemoryStore: Not enough space to cache rdd_812_27 in memory! (computed 8.2 MiB so far)\n",
      "24/04/30 23:59:02 WARN MemoryStore: Not enough space to cache rdd_812_30 in memory! (computed 1024.6 KiB so far)\n",
      "24/04/30 23:59:02 WARN MemoryStore: Not enough space to cache rdd_812_31 in memory! (computed 1024.6 KiB so far)\n",
      "24/04/30 23:59:03 WARN MemoryStore: Not enough space to cache rdd_812_54 in memory! (computed 1024.6 KiB so far)\n",
      "24/04/30 23:59:03 WARN MemoryStore: Not enough space to cache rdd_812_49 in memory! (computed 17.0 MiB so far)\n"
     ]
    },
    {
     "name": "stderr",
     "output_type": "stream",
     "text": [
      "                                                                                \r"
     ]
    },
    {
     "name": "stdout",
     "output_type": "stream",
     "text": [
      "24/04/30 23:59:03 WARN MemoryStore: Not enough space to cache rdd_812_20 in memory! (computed 3.7 MiB so far)\n",
      "24/04/30 23:59:03 WARN MemoryStore: Failed to reserve initial memory threshold of 1024.0 KiB for computing block rdd_812_25 in memory.\n",
      "24/04/30 23:59:03 WARN MemoryStore: Failed to reserve initial memory threshold of 1024.0 KiB for computing block rdd_812_24 in memory.\n",
      "24/04/30 23:59:03 WARN MemoryStore: Failed to reserve initial memory threshold of 1024.0 KiB for computing block rdd_812_21 in memory.\n",
      "24/04/30 23:59:03 WARN MemoryStore: Not enough space to cache rdd_812_24 in memory! (computed 384.0 B so far)\n",
      "24/04/30 23:59:03 WARN MemoryStore: Failed to reserve initial memory threshold of 1024.0 KiB for computing block rdd_812_27 in memory.\n",
      "24/04/30 23:59:03 WARN MemoryStore: Failed to reserve initial memory threshold of 1024.0 KiB for computing block rdd_812_26 in memory.\n",
      "24/04/30 23:59:03 WARN MemoryStore: Not enough space to cache rdd_812_23 in memory! (computed 1024.6 KiB so far)\n",
      "24/04/30 23:59:03 WARN MemoryStore: Not enough space to cache rdd_812_25 in memory! (computed 384.0 B so far)\n",
      "24/04/30 23:59:03 WARN MemoryStore: Not enough space to cache rdd_812_21 in memory! (computed 384.0 B so far)\n",
      "24/04/30 23:59:03 WARN MemoryStore: Not enough space to cache rdd_812_26 in memory! (computed 384.0 B so far)\n",
      "24/04/30 23:59:03 WARN MemoryStore: Not enough space to cache rdd_812_27 in memory! (computed 384.0 B so far)\n",
      "24/04/30 23:59:03 WARN MemoryStore: Not enough space to cache rdd_812_29 in memory! (computed 1024.6 KiB so far)\n",
      "24/04/30 23:59:03 WARN MemoryStore: Not enough space to cache rdd_812_28 in memory! (computed 8.3 MiB so far)\n",
      "24/04/30 23:59:03 WARN MemoryStore: Failed to reserve initial memory threshold of 1024.0 KiB for computing block rdd_812_31 in memory.\n",
      "24/04/30 23:59:03 WARN MemoryStore: Not enough space to cache rdd_812_30 in memory! (computed 1024.6 KiB so far)\n",
      "24/04/30 23:59:03 WARN MemoryStore: Not enough space to cache rdd_812_31 in memory! (computed 384.0 B so far)\n"
     ]
    },
    {
     "name": "stderr",
     "output_type": "stream",
     "text": [
      "[Stage 136:=======================================>               (44 + 8) / 62]\r"
     ]
    },
    {
     "name": "stdout",
     "output_type": "stream",
     "text": [
      "24/04/30 23:59:03 WARN MemoryStore: Not enough space to cache rdd_812_54 in memory! (computed 1024.6 KiB so far)\n",
      "24/04/30 23:59:03 WARN MemoryStore: Not enough space to cache rdd_812_49 in memory! (computed 17.0 MiB so far)\n"
     ]
    },
    {
     "name": "stderr",
     "output_type": "stream",
     "text": [
      "                                                                                \r"
     ]
    },
    {
     "name": "stdout",
     "output_type": "stream",
     "text": [
      "24/04/30 23:59:04 WARN MemoryStore: Failed to reserve initial memory threshold of 1024.0 KiB for computing block rdd_812_24 in memory.\n",
      "24/04/30 23:59:04 WARN MemoryStore: Failed to reserve initial memory threshold of 1024.0 KiB for computing block rdd_812_21 in memory.\n",
      "24/04/30 23:59:04 WARN MemoryStore: Not enough space to cache rdd_812_24 in memory! (computed 384.0 B so far)\n",
      "24/04/30 23:59:04 WARN MemoryStore: Not enough space to cache rdd_812_21 in memory! (computed 384.0 B so far)\n",
      "24/04/30 23:59:04 WARN MemoryStore: Failed to reserve initial memory threshold of 1024.0 KiB for computing block rdd_812_25 in memory.\n",
      "24/04/30 23:59:04 WARN MemoryStore: Not enough space to cache rdd_812_20 in memory! (computed 1024.6 KiB so far)\n",
      "24/04/30 23:59:04 WARN MemoryStore: Not enough space to cache rdd_812_25 in memory! (computed 384.0 B so far)\n",
      "24/04/30 23:59:04 WARN MemoryStore: Not enough space to cache rdd_812_27 in memory! (computed 1024.6 KiB so far)\n",
      "24/04/30 23:59:04 WARN MemoryStore: Failed to reserve initial memory threshold of 1024.0 KiB for computing block rdd_812_28 in memory.\n",
      "24/04/30 23:59:04 WARN MemoryStore: Not enough space to cache rdd_812_28 in memory! (computed 384.0 B so far)\n",
      "24/04/30 23:59:04 WARN MemoryStore: Not enough space to cache rdd_812_26 in memory! (computed 1024.6 KiB so far)\n",
      "24/04/30 23:59:04 WARN MemoryStore: Failed to reserve initial memory threshold of 1024.0 KiB for computing block rdd_812_29 in memory.\n",
      "24/04/30 23:59:04 WARN MemoryStore: Not enough space to cache rdd_812_29 in memory! (computed 384.0 B so far)\n",
      "24/04/30 23:59:04 WARN MemoryStore: Not enough space to cache rdd_812_23 in memory! (computed 13.2 MiB so far)\n",
      "24/04/30 23:59:04 WARN MemoryStore: Not enough space to cache rdd_812_30 in memory! (computed 1024.6 KiB so far)\n",
      "24/04/30 23:59:04 WARN MemoryStore: Not enough space to cache rdd_812_31 in memory! (computed 1024.6 KiB so far)\n",
      "24/04/30 23:59:04 WARN MemoryStore: Not enough space to cache rdd_812_49 in memory! (computed 17.0 MiB so far)\n",
      "24/04/30 23:59:04 WARN MemoryStore: Not enough space to cache rdd_812_54 in memory! (computed 1024.6 KiB so far)\n"
     ]
    },
    {
     "name": "stderr",
     "output_type": "stream",
     "text": [
      "                                                                                \r"
     ]
    },
    {
     "name": "stdout",
     "output_type": "stream",
     "text": [
      "24/04/30 23:59:04 WARN MemoryStore: Failed to reserve initial memory threshold of 1024.0 KiB for computing block rdd_812_23 in memory.\n",
      "24/04/30 23:59:04 WARN MemoryStore: Not enough space to cache rdd_812_21 in memory! (computed 1024.6 KiB so far)\n",
      "24/04/30 23:59:04 WARN MemoryStore: Not enough space to cache rdd_812_20 in memory! (computed 3.7 MiB so far)\n",
      "24/04/30 23:59:04 WARN MemoryStore: Failed to reserve initial memory threshold of 1024.0 KiB for computing block rdd_812_24 in memory.\n",
      "24/04/30 23:59:04 WARN MemoryStore: Failed to reserve initial memory threshold of 1024.0 KiB for computing block rdd_812_25 in memory.\n",
      "24/04/30 23:59:04 WARN MemoryStore: Failed to reserve initial memory threshold of 1024.0 KiB for computing block rdd_812_26 in memory.\n",
      "24/04/30 23:59:04 WARN MemoryStore: Not enough space to cache rdd_812_24 in memory! (computed 384.0 B so far)\n",
      "24/04/30 23:59:04 WARN MemoryStore: Not enough space to cache rdd_812_26 in memory! (computed 384.0 B so far)\n",
      "24/04/30 23:59:04 WARN MemoryStore: Not enough space to cache rdd_812_25 in memory! (computed 384.0 B so far)\n",
      "24/04/30 23:59:04 WARN MemoryStore: Failed to reserve initial memory threshold of 1024.0 KiB for computing block rdd_812_28 in memory.\n",
      "24/04/30 23:59:04 WARN MemoryStore: Not enough space to cache rdd_812_23 in memory! (computed 384.0 B so far)\n",
      "24/04/30 23:59:04 WARN MemoryStore: Not enough space to cache rdd_812_28 in memory! (computed 384.0 B so far)\n",
      "24/04/30 23:59:04 WARN MemoryStore: Not enough space to cache rdd_812_27 in memory! (computed 1024.6 KiB so far)\n",
      "24/04/30 23:59:05 WARN MemoryStore: Not enough space to cache rdd_812_30 in memory! (computed 1024.6 KiB so far)\n",
      "24/04/30 23:59:05 WARN MemoryStore: Not enough space to cache rdd_812_31 in memory! (computed 1024.6 KiB so far)\n",
      "24/04/30 23:59:05 WARN MemoryStore: Not enough space to cache rdd_812_29 in memory! (computed 12.0 MiB so far)\n",
      "24/04/30 23:59:05 WARN MemoryStore: Not enough space to cache rdd_812_49 in memory! (computed 17.0 MiB so far)\n",
      "24/04/30 23:59:05 WARN MemoryStore: Not enough space to cache rdd_812_54 in memory! (computed 1024.6 KiB so far)\n"
     ]
    },
    {
     "name": "stderr",
     "output_type": "stream",
     "text": [
      "                                                                                \r"
     ]
    },
    {
     "name": "stdout",
     "output_type": "stream",
     "text": [
      "24/04/30 23:59:05 WARN MemoryStore: Failed to reserve initial memory threshold of 1024.0 KiB for computing block rdd_812_23 in memory.\n",
      "24/04/30 23:59:05 WARN MemoryStore: Not enough space to cache rdd_812_20 in memory! (computed 3.7 MiB so far)\n",
      "24/04/30 23:59:05 WARN MemoryStore: Failed to reserve initial memory threshold of 1024.0 KiB for computing block rdd_812_26 in memory.\n",
      "24/04/30 23:59:05 WARN MemoryStore: Not enough space to cache rdd_812_23 in memory! (computed 384.0 B so far)\n",
      "24/04/30 23:59:05 WARN MemoryStore: Not enough space to cache rdd_812_26 in memory! (computed 384.0 B so far)\n",
      "24/04/30 23:59:05 WARN MemoryStore: Failed to reserve initial memory threshold of 1024.0 KiB for computing block rdd_812_25 in memory.\n",
      "24/04/30 23:59:05 WARN MemoryStore: Not enough space to cache rdd_812_25 in memory! (computed 384.0 B so far)\n",
      "24/04/30 23:59:05 WARN MemoryStore: Not enough space to cache rdd_812_21 in memory! (computed 1024.6 KiB so far)\n",
      "24/04/30 23:59:05 WARN MemoryStore: Failed to reserve initial memory threshold of 1024.0 KiB for computing block rdd_812_27 in memory.\n",
      "24/04/30 23:59:05 WARN MemoryStore: Not enough space to cache rdd_812_27 in memory! (computed 384.0 B so far)\n",
      "24/04/30 23:59:05 WARN MemoryStore: Failed to reserve initial memory threshold of 1024.0 KiB for computing block rdd_812_29 in memory.\n",
      "24/04/30 23:59:05 WARN MemoryStore: Failed to reserve initial memory threshold of 1024.0 KiB for computing block rdd_812_30 in memory.\n",
      "24/04/30 23:59:05 WARN MemoryStore: Not enough space to cache rdd_812_29 in memory! (computed 384.0 B so far)\n",
      "24/04/30 23:59:05 WARN MemoryStore: Not enough space to cache rdd_812_30 in memory! (computed 384.0 B so far)\n",
      "24/04/30 23:59:05 WARN MemoryStore: Not enough space to cache rdd_812_28 in memory! (computed 1024.6 KiB so far)\n",
      "24/04/30 23:59:05 WARN MemoryStore: Not enough space to cache rdd_812_24 in memory! (computed 9.7 MiB so far)\n",
      "24/04/30 23:59:05 WARN MemoryStore: Not enough space to cache rdd_812_31 in memory! (computed 1024.6 KiB so far)\n",
      "24/04/30 23:59:06 WARN MemoryStore: Not enough space to cache rdd_812_54 in memory! (computed 1024.6 KiB so far)\n",
      "24/04/30 23:59:06 WARN MemoryStore: Not enough space to cache rdd_812_49 in memory! (computed 17.0 MiB so far)\n"
     ]
    },
    {
     "name": "stderr",
     "output_type": "stream",
     "text": [
      "                                                                                \r"
     ]
    },
    {
     "name": "stdout",
     "output_type": "stream",
     "text": [
      "24/04/30 23:59:06 WARN MemoryStore: Not enough space to cache rdd_812_21 in memory! (computed 3.5 MiB so far)\n",
      "24/04/30 23:59:06 WARN MemoryStore: Not enough space to cache rdd_812_20 in memory! (computed 1024.6 KiB so far)\n",
      "24/04/30 23:59:06 WARN MemoryStore: Failed to reserve initial memory threshold of 1024.0 KiB for computing block rdd_812_23 in memory.\n",
      "24/04/30 23:59:06 WARN MemoryStore: Failed to reserve initial memory threshold of 1024.0 KiB for computing block rdd_812_27 in memory.\n",
      "24/04/30 23:59:06 WARN MemoryStore: Failed to reserve initial memory threshold of 1024.0 KiB for computing block rdd_812_26 in memory.\n",
      "24/04/30 23:59:06 WARN MemoryStore: Not enough space to cache rdd_812_23 in memory! (computed 384.0 B so far)\n",
      "24/04/30 23:59:06 WARN MemoryStore: Not enough space to cache rdd_812_27 in memory! (computed 384.0 B so far)\n",
      "24/04/30 23:59:06 WARN MemoryStore: Not enough space to cache rdd_812_26 in memory! (computed 384.0 B so far)\n",
      "24/04/30 23:59:06 WARN MemoryStore: Not enough space to cache rdd_812_25 in memory! (computed 1024.6 KiB so far)\n",
      "24/04/30 23:59:06 WARN MemoryStore: Failed to reserve initial memory threshold of 1024.0 KiB for computing block rdd_812_28 in memory.\n",
      "24/04/30 23:59:06 WARN MemoryStore: Not enough space to cache rdd_812_28 in memory! (computed 384.0 B so far)\n",
      "24/04/30 23:59:06 WARN MemoryStore: Failed to reserve initial memory threshold of 1024.0 KiB for computing block rdd_812_30 in memory.\n",
      "24/04/30 23:59:06 WARN MemoryStore: Failed to reserve initial memory threshold of 1024.0 KiB for computing block rdd_812_29 in memory.\n",
      "24/04/30 23:59:06 WARN MemoryStore: Not enough space to cache rdd_812_30 in memory! (computed 384.0 B so far)\n",
      "24/04/30 23:59:06 WARN MemoryStore: Not enough space to cache rdd_812_29 in memory! (computed 384.0 B so far)\n",
      "24/04/30 23:59:06 WARN MemoryStore: Not enough space to cache rdd_812_24 in memory! (computed 9.7 MiB so far)\n",
      "24/04/30 23:59:06 WARN MemoryStore: Not enough space to cache rdd_812_31 in memory! (computed 14.3 MiB so far)\n",
      "24/04/30 23:59:06 WARN MemoryStore: Not enough space to cache rdd_812_49 in memory! (computed 17.0 MiB so far)\n"
     ]
    },
    {
     "name": "stderr",
     "output_type": "stream",
     "text": [
      "[Stage 144:=====================================>                 (42 + 8) / 62]\r"
     ]
    },
    {
     "name": "stdout",
     "output_type": "stream",
     "text": [
      "24/04/30 23:59:06 WARN MemoryStore: Not enough space to cache rdd_812_54 in memory! (computed 1024.6 KiB so far)\n"
     ]
    },
    {
     "name": "stderr",
     "output_type": "stream",
     "text": [
      "                                                                                \r"
     ]
    },
    {
     "name": "stdout",
     "output_type": "stream",
     "text": [
      "24/04/30 23:59:07 WARN MemoryStore: Failed to reserve initial memory threshold of 1024.0 KiB for computing block rdd_812_26 in memory.\n",
      "24/04/30 23:59:07 WARN MemoryStore: Not enough space to cache rdd_812_20 in memory! (computed 1024.6 KiB so far)\n",
      "24/04/30 23:59:07 WARN MemoryStore: Not enough space to cache rdd_812_26 in memory! (computed 384.0 B so far)\n",
      "24/04/30 23:59:07 WARN MemoryStore: Failed to reserve initial memory threshold of 1024.0 KiB for computing block rdd_812_25 in memory.\n",
      "24/04/30 23:59:07 WARN MemoryStore: Failed to reserve initial memory threshold of 1024.0 KiB for computing block rdd_812_27 in memory.\n",
      "24/04/30 23:59:07 WARN MemoryStore: Not enough space to cache rdd_812_25 in memory! (computed 384.0 B so far)\n",
      "24/04/30 23:59:07 WARN MemoryStore: Failed to reserve initial memory threshold of 1024.0 KiB for computing block rdd_812_28 in memory.\n",
      "24/04/30 23:59:07 WARN MemoryStore: Not enough space to cache rdd_812_21 in memory! (computed 3.5 MiB so far)\n",
      "24/04/30 23:59:07 WARN MemoryStore: Failed to reserve initial memory threshold of 1024.0 KiB for computing block rdd_812_23 in memory.\n",
      "24/04/30 23:59:07 WARN MemoryStore: Not enough space to cache rdd_812_27 in memory! (computed 384.0 B so far)\n",
      "24/04/30 23:59:07 WARN MemoryStore: Not enough space to cache rdd_812_23 in memory! (computed 384.0 B so far)\n",
      "24/04/30 23:59:07 WARN MemoryStore: Not enough space to cache rdd_812_28 in memory! (computed 384.0 B so far)\n",
      "24/04/30 23:59:07 WARN MemoryStore: Not enough space to cache rdd_812_24 in memory! (computed 1024.6 KiB so far)\n",
      "24/04/30 23:59:07 WARN MemoryStore: Not enough space to cache rdd_812_30 in memory! (computed 1024.6 KiB so far)\n",
      "24/04/30 23:59:07 WARN MemoryStore: Not enough space to cache rdd_812_29 in memory! (computed 12.0 MiB so far)\n",
      "24/04/30 23:59:07 WARN MemoryStore: Not enough space to cache rdd_812_31 in memory! (computed 1024.6 KiB so far)\n",
      "24/04/30 23:59:07 WARN MemoryStore: Not enough space to cache rdd_812_49 in memory! (computed 17.0 MiB so far)\n",
      "24/04/30 23:59:07 WARN MemoryStore: Not enough space to cache rdd_812_54 in memory! (computed 17.0 MiB so far)\n"
     ]
    },
    {
     "name": "stderr",
     "output_type": "stream",
     "text": [
      "                                                                                \r"
     ]
    },
    {
     "name": "stdout",
     "output_type": "stream",
     "text": [
      "24/04/30 23:59:07 WARN MemoryStore: Not enough space to cache rdd_812_21 in memory! (computed 1024.6 KiB so far)\n",
      "24/04/30 23:59:07 WARN MemoryStore: Not enough space to cache rdd_812_20 in memory! (computed 3.7 MiB so far)\n",
      "24/04/30 23:59:07 WARN MemoryStore: Failed to reserve initial memory threshold of 1024.0 KiB for computing block rdd_812_23 in memory.\n",
      "24/04/30 23:59:07 WARN MemoryStore: Not enough space to cache rdd_812_23 in memory! (computed 384.0 B so far)\n",
      "24/04/30 23:59:08 WARN MemoryStore: Failed to reserve initial memory threshold of 1024.0 KiB for computing block rdd_812_27 in memory.\n",
      "24/04/30 23:59:08 WARN MemoryStore: Not enough space to cache rdd_812_27 in memory! (computed 384.0 B so far)\n",
      "24/04/30 23:59:08 WARN MemoryStore: Failed to reserve initial memory threshold of 1024.0 KiB for computing block rdd_812_24 in memory.\n",
      "24/04/30 23:59:08 WARN MemoryStore: Not enough space to cache rdd_812_24 in memory! (computed 384.0 B so far)\n",
      "24/04/30 23:59:08 WARN MemoryStore: Failed to reserve initial memory threshold of 1024.0 KiB for computing block rdd_812_30 in memory.\n",
      "24/04/30 23:59:08 WARN MemoryStore: Not enough space to cache rdd_812_25 in memory! (computed 1024.6 KiB so far)\n",
      "24/04/30 23:59:08 WARN MemoryStore: Not enough space to cache rdd_812_30 in memory! (computed 384.0 B so far)\n",
      "24/04/30 23:59:08 WARN MemoryStore: Failed to reserve initial memory threshold of 1024.0 KiB for computing block rdd_812_28 in memory.\n",
      "24/04/30 23:59:08 WARN MemoryStore: Not enough space to cache rdd_812_28 in memory! (computed 384.0 B so far)\n",
      "24/04/30 23:59:08 WARN MemoryStore: Not enough space to cache rdd_812_29 in memory! (computed 1024.6 KiB so far)\n",
      "24/04/30 23:59:08 WARN MemoryStore: Not enough space to cache rdd_812_26 in memory! (computed 9.7 MiB so far)\n",
      "24/04/30 23:59:08 WARN MemoryStore: Not enough space to cache rdd_812_31 in memory! (computed 1024.6 KiB so far)\n",
      "24/04/30 23:59:08 WARN MemoryStore: Not enough space to cache rdd_812_54 in memory! (computed 1024.6 KiB so far)\n",
      "24/04/30 23:59:08 WARN MemoryStore: Not enough space to cache rdd_812_49 in memory! (computed 17.0 MiB so far)\n"
     ]
    },
    {
     "name": "stderr",
     "output_type": "stream",
     "text": [
      "                                                                                \r"
     ]
    },
    {
     "name": "stdout",
     "output_type": "stream",
     "text": [
      "24/04/30 23:59:08 WARN MemoryStore: Not enough space to cache rdd_812_23 in memory! (computed 1024.6 KiB so far)\n",
      "24/04/30 23:59:08 WARN MemoryStore: Failed to reserve initial memory threshold of 1024.0 KiB for computing block rdd_812_25 in memory.\n",
      "24/04/30 23:59:08 WARN MemoryStore: Failed to reserve initial memory threshold of 1024.0 KiB for computing block rdd_812_26 in memory.\n",
      "24/04/30 23:59:08 WARN MemoryStore: Failed to reserve initial memory threshold of 1024.0 KiB for computing block rdd_812_24 in memory.\n",
      "24/04/30 23:59:08 WARN MemoryStore: Not enough space to cache rdd_812_24 in memory! (computed 384.0 B so far)\n",
      "24/04/30 23:59:08 WARN MemoryStore: Failed to reserve initial memory threshold of 1024.0 KiB for computing block rdd_812_27 in memory.\n",
      "24/04/30 23:59:08 WARN MemoryStore: Not enough space to cache rdd_812_25 in memory! (computed 384.0 B so far)\n",
      "24/04/30 23:59:08 WARN MemoryStore: Failed to reserve initial memory threshold of 1024.0 KiB for computing block rdd_812_28 in memory.\n",
      "24/04/30 23:59:08 WARN MemoryStore: Not enough space to cache rdd_812_27 in memory! (computed 384.0 B so far)\n",
      "24/04/30 23:59:08 WARN MemoryStore: Not enough space to cache rdd_812_28 in memory! (computed 384.0 B so far)\n",
      "24/04/30 23:59:08 WARN MemoryStore: Not enough space to cache rdd_812_21 in memory! (computed 3.5 MiB so far)\n",
      "24/04/30 23:59:08 WARN MemoryStore: Failed to reserve initial memory threshold of 1024.0 KiB for computing block rdd_812_20 in memory.\n",
      "24/04/30 23:59:08 WARN MemoryStore: Not enough space to cache rdd_812_20 in memory! (computed 384.0 B so far)\n",
      "24/04/30 23:59:08 WARN MemoryStore: Not enough space to cache rdd_812_26 in memory! (computed 384.0 B so far)\n",
      "24/04/30 23:59:08 WARN MemoryStore: Not enough space to cache rdd_812_30 in memory! (computed 1024.6 KiB so far)\n",
      "24/04/30 23:59:08 WARN MemoryStore: Not enough space to cache rdd_812_29 in memory! (computed 12.0 MiB so far)\n",
      "24/04/30 23:59:08 WARN MemoryStore: Not enough space to cache rdd_812_31 in memory! (computed 1024.6 KiB so far)\n",
      "24/04/30 23:59:09 WARN MemoryStore: Not enough space to cache rdd_812_49 in memory! (computed 17.0 MiB so far)\n",
      "24/04/30 23:59:09 WARN MemoryStore: Not enough space to cache rdd_812_54 in memory! (computed 1024.6 KiB so far)\n"
     ]
    },
    {
     "name": "stderr",
     "output_type": "stream",
     "text": [
      "                                                                                \r"
     ]
    },
    {
     "name": "stdout",
     "output_type": "stream",
     "text": [
      "24/04/30 23:59:09 WARN MemoryStore: Failed to reserve initial memory threshold of 1024.0 KiB for computing block rdd_812_24 in memory.\n",
      "24/04/30 23:59:09 WARN MemoryStore: Not enough space to cache rdd_812_20 in memory! (computed 1024.6 KiB so far)\n",
      "24/04/30 23:59:09 WARN MemoryStore: Failed to reserve initial memory threshold of 1024.0 KiB for computing block rdd_812_21 in memory.\n",
      "24/04/30 23:59:09 WARN MemoryStore: Failed to reserve initial memory threshold of 1024.0 KiB for computing block rdd_812_26 in memory.\n",
      "24/04/30 23:59:09 WARN MemoryStore: Failed to reserve initial memory threshold of 1024.0 KiB for computing block rdd_812_25 in memory.\n",
      "24/04/30 23:59:09 WARN MemoryStore: Not enough space to cache rdd_812_21 in memory! (computed 384.0 B so far)\n",
      "24/04/30 23:59:09 WARN MemoryStore: Not enough space to cache rdd_812_24 in memory! (computed 384.0 B so far)\n",
      "24/04/30 23:59:09 WARN MemoryStore: Not enough space to cache rdd_812_26 in memory! (computed 384.0 B so far)\n",
      "24/04/30 23:59:09 WARN MemoryStore: Not enough space to cache rdd_812_25 in memory! (computed 384.0 B so far)\n",
      "24/04/30 23:59:09 WARN MemoryStore: Not enough space to cache rdd_812_27 in memory! (computed 1024.6 KiB so far)\n",
      "24/04/30 23:59:09 WARN MemoryStore: Not enough space to cache rdd_812_23 in memory! (computed 13.2 MiB so far)\n",
      "24/04/30 23:59:09 WARN MemoryStore: Not enough space to cache rdd_812_28 in memory! (computed 1024.6 KiB so far)\n",
      "24/04/30 23:59:09 WARN MemoryStore: Failed to reserve initial memory threshold of 1024.0 KiB for computing block rdd_812_29 in memory.\n",
      "24/04/30 23:59:09 WARN MemoryStore: Not enough space to cache rdd_812_29 in memory! (computed 384.0 B so far)\n",
      "24/04/30 23:59:09 WARN MemoryStore: Not enough space to cache rdd_812_30 in memory! (computed 1024.6 KiB so far)\n",
      "24/04/30 23:59:09 WARN MemoryStore: Not enough space to cache rdd_812_31 in memory! (computed 1024.6 KiB so far)\n"
     ]
    },
    {
     "name": "stderr",
     "output_type": "stream",
     "text": [
      "                                                                                \r"
     ]
    },
    {
     "name": "stdout",
     "output_type": "stream",
     "text": [
      "24/04/30 23:59:10 WARN MemoryStore: Not enough space to cache rdd_812_49 in memory! (computed 17.0 MiB so far)\n",
      "24/04/30 23:59:10 WARN MemoryStore: Not enough space to cache rdd_812_54 in memory! (computed 1024.6 KiB so far)\n",
      "24/04/30 23:59:10 WARN MemoryStore: Failed to reserve initial memory threshold of 1024.0 KiB for computing block rdd_812_23 in memory.\n",
      "24/04/30 23:59:10 WARN MemoryStore: Not enough space to cache rdd_812_23 in memory! (computed 384.0 B so far)\n",
      "24/04/30 23:59:10 WARN MemoryStore: Failed to reserve initial memory threshold of 1024.0 KiB for computing block rdd_812_26 in memory.\n",
      "24/04/30 23:59:10 WARN MemoryStore: Not enough space to cache rdd_812_26 in memory! (computed 384.0 B so far)\n",
      "24/04/30 23:59:10 WARN MemoryStore: Failed to reserve initial memory threshold of 1024.0 KiB for computing block rdd_812_20 in memory.\n",
      "24/04/30 23:59:10 WARN MemoryStore: Failed to reserve initial memory threshold of 1024.0 KiB for computing block rdd_812_25 in memory.\n",
      "24/04/30 23:59:10 WARN MemoryStore: Not enough space to cache rdd_812_20 in memory! (computed 384.0 B so far)\n",
      "24/04/30 23:59:10 WARN MemoryStore: Failed to reserve initial memory threshold of 1024.0 KiB for computing block rdd_812_27 in memory.\n",
      "24/04/30 23:59:10 WARN MemoryStore: Not enough space to cache rdd_812_25 in memory! (computed 384.0 B so far)\n",
      "24/04/30 23:59:10 WARN MemoryStore: Not enough space to cache rdd_812_24 in memory! (computed 1024.6 KiB so far)\n",
      "24/04/30 23:59:10 WARN MemoryStore: Not enough space to cache rdd_812_27 in memory! (computed 384.0 B so far)\n",
      "24/04/30 23:59:10 WARN MemoryStore: Not enough space to cache rdd_812_21 in memory! (computed 3.5 MiB so far)\n",
      "24/04/30 23:59:10 WARN MemoryStore: Failed to reserve initial memory threshold of 1024.0 KiB for computing block rdd_812_29 in memory.\n",
      "24/04/30 23:59:10 WARN MemoryStore: Not enough space to cache rdd_812_30 in memory! (computed 1024.6 KiB so far)\n",
      "24/04/30 23:59:10 WARN MemoryStore: Failed to reserve initial memory threshold of 1024.0 KiB for computing block rdd_812_31 in memory.\n",
      "24/04/30 23:59:10 WARN MemoryStore: Not enough space to cache rdd_812_31 in memory! (computed 384.0 B so far)\n",
      "24/04/30 23:59:10 WARN MemoryStore: Not enough space to cache rdd_812_29 in memory! (computed 384.0 B so far)\n",
      "24/04/30 23:59:10 WARN MemoryStore: Not enough space to cache rdd_812_28 in memory! (computed 8.3 MiB so far)\n",
      "24/04/30 23:59:10 WARN MemoryStore: Not enough space to cache rdd_812_54 in memory! (computed 1024.6 KiB so far)\n",
      "24/04/30 23:59:10 WARN MemoryStore: Not enough space to cache rdd_812_49 in memory! (computed 17.0 MiB so far)\n"
     ]
    },
    {
     "name": "stderr",
     "output_type": "stream",
     "text": [
      "                                                                                \r"
     ]
    },
    {
     "name": "stdout",
     "output_type": "stream",
     "text": [
      "24/04/30 23:59:11 WARN MemoryStore: Failed to reserve initial memory threshold of 1024.0 KiB for computing block rdd_812_24 in memory.\n",
      "24/04/30 23:59:11 WARN MemoryStore: Failed to reserve initial memory threshold of 1024.0 KiB for computing block rdd_812_21 in memory.\n",
      "24/04/30 23:59:11 WARN MemoryStore: Failed to reserve initial memory threshold of 1024.0 KiB for computing block rdd_812_25 in memory.\n",
      "24/04/30 23:59:11 WARN MemoryStore: Not enough space to cache rdd_812_21 in memory! (computed 384.0 B so far)\n",
      "24/04/30 23:59:11 WARN MemoryStore: Not enough space to cache rdd_812_24 in memory! (computed 384.0 B so far)\n",
      "24/04/30 23:59:11 WARN MemoryStore: Not enough space to cache rdd_812_23 in memory! (computed 1024.6 KiB so far)\n",
      "24/04/30 23:59:11 WARN MemoryStore: Not enough space to cache rdd_812_25 in memory! (computed 384.0 B so far)\n",
      "24/04/30 23:59:11 WARN MemoryStore: Not enough space to cache rdd_812_20 in memory! (computed 3.7 MiB so far)\n",
      "24/04/30 23:59:11 WARN MemoryStore: Not enough space to cache rdd_812_29 in memory! (computed 1024.6 KiB so far)\n",
      "24/04/30 23:59:11 WARN MemoryStore: Failed to reserve initial memory threshold of 1024.0 KiB for computing block rdd_812_27 in memory.\n",
      "24/04/30 23:59:11 WARN MemoryStore: Not enough space to cache rdd_812_27 in memory! (computed 384.0 B so far)\n",
      "24/04/30 23:59:11 WARN MemoryStore: Not enough space to cache rdd_812_28 in memory! (computed 1024.6 KiB so far)\n",
      "24/04/30 23:59:11 WARN MemoryStore: Not enough space to cache rdd_812_30 in memory! (computed 1024.6 KiB so far)\n",
      "24/04/30 23:59:11 WARN MemoryStore: Not enough space to cache rdd_812_26 in memory! (computed 9.7 MiB so far)\n",
      "24/04/30 23:59:11 WARN MemoryStore: Not enough space to cache rdd_812_31 in memory! (computed 1024.6 KiB so far)\n",
      "24/04/30 23:59:11 WARN MemoryStore: Not enough space to cache rdd_812_54 in memory! (computed 1024.6 KiB so far)\n",
      "24/04/30 23:59:11 WARN MemoryStore: Not enough space to cache rdd_812_49 in memory! (computed 17.0 MiB so far)\n"
     ]
    },
    {
     "name": "stderr",
     "output_type": "stream",
     "text": [
      "                                                                                \r"
     ]
    },
    {
     "name": "stdout",
     "output_type": "stream",
     "text": [
      "24/04/30 23:59:11 WARN MemoryStore: Failed to reserve initial memory threshold of 1024.0 KiB for computing block rdd_812_24 in memory.\n",
      "24/04/30 23:59:11 WARN MemoryStore: Not enough space to cache rdd_812_24 in memory! (computed 384.0 B so far)\n",
      "24/04/30 23:59:11 WARN MemoryStore: Not enough space to cache rdd_812_21 in memory! (computed 3.5 MiB so far)\n",
      "24/04/30 23:59:11 WARN MemoryStore: Failed to reserve initial memory threshold of 1024.0 KiB for computing block rdd_812_26 in memory.\n",
      "24/04/30 23:59:11 WARN MemoryStore: Failed to reserve initial memory threshold of 1024.0 KiB for computing block rdd_812_23 in memory.\n",
      "24/04/30 23:59:11 WARN MemoryStore: Not enough space to cache rdd_812_26 in memory! (computed 384.0 B so far)\n",
      "24/04/30 23:59:11 WARN MemoryStore: Not enough space to cache rdd_812_23 in memory! (computed 384.0 B so far)\n",
      "24/04/30 23:59:11 WARN MemoryStore: Failed to reserve initial memory threshold of 1024.0 KiB for computing block rdd_812_27 in memory.\n",
      "24/04/30 23:59:11 WARN MemoryStore: Not enough space to cache rdd_812_27 in memory! (computed 384.0 B so far)\n",
      "24/04/30 23:59:11 WARN MemoryStore: Not enough space to cache rdd_812_20 in memory! (computed 1024.6 KiB so far)\n",
      "24/04/30 23:59:12 WARN MemoryStore: Failed to reserve initial memory threshold of 1024.0 KiB for computing block rdd_812_28 in memory.\n",
      "24/04/30 23:59:12 WARN MemoryStore: Not enough space to cache rdd_812_28 in memory! (computed 384.0 B so far)\n",
      "24/04/30 23:59:12 WARN MemoryStore: Not enough space to cache rdd_812_29 in memory! (computed 1024.6 KiB so far)\n",
      "24/04/30 23:59:12 WARN MemoryStore: Not enough space to cache rdd_812_31 in memory! (computed 1024.6 KiB so far)\n",
      "24/04/30 23:59:12 WARN MemoryStore: Not enough space to cache rdd_812_25 in memory! (computed 12.7 MiB so far)\n",
      "24/04/30 23:59:12 WARN MemoryStore: Not enough space to cache rdd_812_30 in memory! (computed 1024.6 KiB so far)\n",
      "24/04/30 23:59:12 WARN MemoryStore: Not enough space to cache rdd_812_49 in memory! (computed 17.0 MiB so far)\n",
      "24/04/30 23:59:12 WARN MemoryStore: Not enough space to cache rdd_812_54 in memory! (computed 1024.6 KiB so far)\n"
     ]
    },
    {
     "name": "stderr",
     "output_type": "stream",
     "text": [
      "                                                                                \r"
     ]
    },
    {
     "name": "stdout",
     "output_type": "stream",
     "text": [
      "24/04/30 23:59:12 WARN MemoryStore: Not enough space to cache rdd_812_20 in memory! (computed 3.7 MiB so far)\n",
      "24/04/30 23:59:12 WARN MemoryStore: Not enough space to cache rdd_812_21 in memory! (computed 1024.6 KiB so far)\n",
      "24/04/30 23:59:12 WARN MemoryStore: Failed to reserve initial memory threshold of 1024.0 KiB for computing block rdd_812_26 in memory.\n",
      "24/04/30 23:59:12 WARN MemoryStore: Failed to reserve initial memory threshold of 1024.0 KiB for computing block rdd_812_27 in memory.\n",
      "24/04/30 23:59:12 WARN MemoryStore: Not enough space to cache rdd_812_26 in memory! (computed 384.0 B so far)\n",
      "24/04/30 23:59:12 WARN MemoryStore: Not enough space to cache rdd_812_27 in memory! (computed 384.0 B so far)\n",
      "24/04/30 23:59:12 WARN MemoryStore: Failed to reserve initial memory threshold of 1024.0 KiB for computing block rdd_812_24 in memory.\n",
      "24/04/30 23:59:12 WARN MemoryStore: Not enough space to cache rdd_812_24 in memory! (computed 384.0 B so far)\n",
      "24/04/30 23:59:12 WARN MemoryStore: Failed to reserve initial memory threshold of 1024.0 KiB for computing block rdd_812_23 in memory.\n",
      "24/04/30 23:59:12 WARN MemoryStore: Failed to reserve initial memory threshold of 1024.0 KiB for computing block rdd_812_25 in memory.\n",
      "24/04/30 23:59:12 WARN MemoryStore: Not enough space to cache rdd_812_25 in memory! (computed 384.0 B so far)\n",
      "24/04/30 23:59:12 WARN MemoryStore: Not enough space to cache rdd_812_23 in memory! (computed 384.0 B so far)\n",
      "24/04/30 23:59:12 WARN MemoryStore: Failed to reserve initial memory threshold of 1024.0 KiB for computing block rdd_812_28 in memory.\n",
      "24/04/30 23:59:12 WARN MemoryStore: Not enough space to cache rdd_812_28 in memory! (computed 384.0 B so far)\n",
      "24/04/30 23:59:12 WARN MemoryStore: Not enough space to cache rdd_812_30 in memory! (computed 1024.6 KiB so far)\n",
      "24/04/30 23:59:12 WARN MemoryStore: Not enough space to cache rdd_812_29 in memory! (computed 12.0 MiB so far)\n",
      "24/04/30 23:59:12 WARN MemoryStore: Not enough space to cache rdd_812_31 in memory! (computed 1024.6 KiB so far)\n"
     ]
    },
    {
     "name": "stderr",
     "output_type": "stream",
     "text": [
      "[Stage 160:======================================================>(61 + 1) / 62]\r"
     ]
    },
    {
     "name": "stdout",
     "output_type": "stream",
     "text": [
      "24/04/30 23:59:13 WARN MemoryStore: Not enough space to cache rdd_812_49 in memory! (computed 17.0 MiB so far)\n",
      "24/04/30 23:59:13 WARN MemoryStore: Not enough space to cache rdd_812_54 in memory! (computed 1024.6 KiB so far)\n"
     ]
    },
    {
     "name": "stderr",
     "output_type": "stream",
     "text": [
      "                                                                                \r"
     ]
    },
    {
     "name": "stdout",
     "output_type": "stream",
     "text": [
      "24/04/30 23:59:13 WARN MemoryStore: Failed to reserve initial memory threshold of 1024.0 KiB for computing block rdd_812_24 in memory.\n",
      "24/04/30 23:59:13 WARN MemoryStore: Failed to reserve initial memory threshold of 1024.0 KiB for computing block rdd_812_25 in memory.\n",
      "24/04/30 23:59:13 WARN MemoryStore: Failed to reserve initial memory threshold of 1024.0 KiB for computing block rdd_812_26 in memory.\n",
      "24/04/30 23:59:13 WARN MemoryStore: Not enough space to cache rdd_812_25 in memory! (computed 384.0 B so far)\n",
      "24/04/30 23:59:13 WARN MemoryStore: Not enough space to cache rdd_812_24 in memory! (computed 384.0 B so far)\n",
      "24/04/30 23:59:13 WARN MemoryStore: Not enough space to cache rdd_812_26 in memory! (computed 384.0 B so far)\n",
      "24/04/30 23:59:13 WARN MemoryStore: Failed to reserve initial memory threshold of 1024.0 KiB for computing block rdd_812_20 in memory.\n",
      "24/04/30 23:59:13 WARN MemoryStore: Not enough space to cache rdd_812_20 in memory! (computed 384.0 B so far)\n",
      "24/04/30 23:59:13 WARN MemoryStore: Failed to reserve initial memory threshold of 1024.0 KiB for computing block rdd_812_27 in memory.\n",
      "24/04/30 23:59:13 WARN MemoryStore: Not enough space to cache rdd_812_27 in memory! (computed 384.0 B so far)\n",
      "24/04/30 23:59:13 WARN MemoryStore: Not enough space to cache rdd_812_21 in memory! (computed 1024.6 KiB so far)\n",
      "24/04/30 23:59:13 WARN MemoryStore: Not enough space to cache rdd_812_28 in memory! (computed 1024.6 KiB so far)\n",
      "24/04/30 23:59:13 WARN MemoryStore: Not enough space to cache rdd_812_29 in memory! (computed 1024.6 KiB so far)\n",
      "24/04/30 23:59:13 WARN MemoryStore: Not enough space to cache rdd_812_23 in memory! (computed 13.2 MiB so far)\n",
      "24/04/30 23:59:13 WARN MemoryStore: Failed to reserve initial memory threshold of 1024.0 KiB for computing block rdd_812_31 in memory.\n",
      "24/04/30 23:59:13 WARN MemoryStore: Not enough space to cache rdd_812_30 in memory! (computed 1024.6 KiB so far)\n",
      "24/04/30 23:59:13 WARN MemoryStore: Not enough space to cache rdd_812_31 in memory! (computed 384.0 B so far)\n",
      "24/04/30 23:59:13 WARN MemoryStore: Not enough space to cache rdd_812_54 in memory! (computed 1024.6 KiB so far)\n",
      "24/04/30 23:59:13 WARN MemoryStore: Not enough space to cache rdd_812_49 in memory! (computed 17.0 MiB so far)\n"
     ]
    },
    {
     "name": "stderr",
     "output_type": "stream",
     "text": [
      "                                                                                \r"
     ]
    },
    {
     "name": "stdout",
     "output_type": "stream",
     "text": [
      "24/04/30 23:59:14 WARN MemoryStore: Not enough space to cache rdd_812_20 in memory! (computed 3.7 MiB so far)\n",
      "24/04/30 23:59:14 WARN MemoryStore: Failed to reserve initial memory threshold of 1024.0 KiB for computing block rdd_812_23 in memory.\n",
      "24/04/30 23:59:14 WARN MemoryStore: Not enough space to cache rdd_812_23 in memory! (computed 384.0 B so far)\n",
      "24/04/30 23:59:14 WARN MemoryStore: Failed to reserve initial memory threshold of 1024.0 KiB for computing block rdd_812_24 in memory.\n",
      "24/04/30 23:59:14 WARN MemoryStore: Not enough space to cache rdd_812_24 in memory! (computed 384.0 B so far)\n",
      "24/04/30 23:59:14 WARN MemoryStore: Not enough space to cache rdd_812_21 in memory! (computed 1024.6 KiB so far)\n",
      "24/04/30 23:59:14 WARN MemoryStore: Failed to reserve initial memory threshold of 1024.0 KiB for computing block rdd_812_25 in memory.\n",
      "24/04/30 23:59:14 WARN MemoryStore: Not enough space to cache rdd_812_25 in memory! (computed 384.0 B so far)\n",
      "24/04/30 23:59:14 WARN MemoryStore: Failed to reserve initial memory threshold of 1024.0 KiB for computing block rdd_812_27 in memory.\n",
      "24/04/30 23:59:14 WARN MemoryStore: Failed to reserve initial memory threshold of 1024.0 KiB for computing block rdd_812_29 in memory.\n",
      "24/04/30 23:59:14 WARN MemoryStore: Not enough space to cache rdd_812_27 in memory! (computed 384.0 B so far)\n",
      "24/04/30 23:59:14 WARN MemoryStore: Not enough space to cache rdd_812_29 in memory! (computed 384.0 B so far)\n",
      "24/04/30 23:59:14 WARN MemoryStore: Not enough space to cache rdd_812_28 in memory! (computed 1024.6 KiB so far)\n",
      "24/04/30 23:59:14 WARN MemoryStore: Not enough space to cache rdd_812_30 in memory! (computed 1024.6 KiB so far)\n",
      "24/04/30 23:59:14 WARN MemoryStore: Not enough space to cache rdd_812_26 in memory! (computed 9.7 MiB so far)\n",
      "24/04/30 23:59:14 WARN MemoryStore: Not enough space to cache rdd_812_31 in memory! (computed 14.3 MiB so far)\n",
      "24/04/30 23:59:14 WARN MemoryStore: Not enough space to cache rdd_812_54 in memory! (computed 1024.6 KiB so far)\n",
      "24/04/30 23:59:14 WARN MemoryStore: Not enough space to cache rdd_812_49 in memory! (computed 17.0 MiB so far)\n"
     ]
    },
    {
     "name": "stderr",
     "output_type": "stream",
     "text": [
      "                                                                                \r"
     ]
    },
    {
     "name": "stdout",
     "output_type": "stream",
     "text": [
      "24/04/30 23:59:14 WARN MemoryStore: Failed to reserve initial memory threshold of 1024.0 KiB for computing block rdd_812_25 in memory.\n",
      "24/04/30 23:59:14 WARN MemoryStore: Not enough space to cache rdd_812_25 in memory! (computed 384.0 B so far)\n",
      "24/04/30 23:59:14 WARN MemoryStore: Failed to reserve initial memory threshold of 1024.0 KiB for computing block rdd_812_26 in memory.\n",
      "24/04/30 23:59:14 WARN MemoryStore: Failed to reserve initial memory threshold of 1024.0 KiB for computing block rdd_812_20 in memory.\n",
      "24/04/30 23:59:14 WARN MemoryStore: Not enough space to cache rdd_812_26 in memory! (computed 384.0 B so far)\n",
      "24/04/30 23:59:14 WARN MemoryStore: Not enough space to cache rdd_812_20 in memory! (computed 384.0 B so far)\n",
      "24/04/30 23:59:14 WARN MemoryStore: Not enough space to cache rdd_812_21 in memory! (computed 1024.6 KiB so far)\n",
      "24/04/30 23:59:14 WARN MemoryStore: Not enough space to cache rdd_812_23 in memory! (computed 13.2 MiB so far)\n",
      "24/04/30 23:59:14 WARN MemoryStore: Failed to reserve initial memory threshold of 1024.0 KiB for computing block rdd_812_27 in memory.\n",
      "24/04/30 23:59:14 WARN MemoryStore: Not enough space to cache rdd_812_27 in memory! (computed 384.0 B so far)\n",
      "24/04/30 23:59:14 WARN MemoryStore: Not enough space to cache rdd_812_24 in memory! (computed 1024.6 KiB so far)\n",
      "24/04/30 23:59:15 WARN MemoryStore: Not enough space to cache rdd_812_28 in memory! (computed 1024.6 KiB so far)\n",
      "24/04/30 23:59:15 WARN MemoryStore: Not enough space to cache rdd_812_30 in memory! (computed 1024.6 KiB so far)\n",
      "24/04/30 23:59:15 WARN MemoryStore: Failed to reserve initial memory threshold of 1024.0 KiB for computing block rdd_812_31 in memory.\n",
      "24/04/30 23:59:15 WARN MemoryStore: Not enough space to cache rdd_812_31 in memory! (computed 384.0 B so far)\n",
      "24/04/30 23:59:15 WARN MemoryStore: Not enough space to cache rdd_812_29 in memory! (computed 12.0 MiB so far)\n",
      "24/04/30 23:59:15 WARN MemoryStore: Not enough space to cache rdd_812_54 in memory! (computed 1024.6 KiB so far)\n",
      "24/04/30 23:59:15 WARN MemoryStore: Not enough space to cache rdd_812_49 in memory! (computed 17.0 MiB so far)\n"
     ]
    },
    {
     "name": "stderr",
     "output_type": "stream",
     "text": [
      "                                                                                \r"
     ]
    },
    {
     "name": "stdout",
     "output_type": "stream",
     "text": [
      "24/04/30 23:59:15 WARN MemoryStore: Failed to reserve initial memory threshold of 1024.0 KiB for computing block rdd_812_26 in memory.\n",
      "24/04/30 23:59:15 WARN MemoryStore: Not enough space to cache rdd_812_26 in memory! (computed 384.0 B so far)\n",
      "24/04/30 23:59:15 WARN MemoryStore: Failed to reserve initial memory threshold of 1024.0 KiB for computing block rdd_812_24 in memory.\n",
      "24/04/30 23:59:15 WARN MemoryStore: Failed to reserve initial memory threshold of 1024.0 KiB for computing block rdd_812_21 in memory.\n",
      "24/04/30 23:59:15 WARN MemoryStore: Not enough space to cache rdd_812_24 in memory! (computed 384.0 B so far)\n",
      "24/04/30 23:59:15 WARN MemoryStore: Not enough space to cache rdd_812_21 in memory! (computed 384.0 B so far)\n",
      "24/04/30 23:59:15 WARN MemoryStore: Failed to reserve initial memory threshold of 1024.0 KiB for computing block rdd_812_27 in memory.\n",
      "24/04/30 23:59:15 WARN MemoryStore: Failed to reserve initial memory threshold of 1024.0 KiB for computing block rdd_812_28 in memory.\n",
      "24/04/30 23:59:15 WARN MemoryStore: Not enough space to cache rdd_812_25 in memory! (computed 12.7 MiB so far)\n",
      "24/04/30 23:59:15 WARN MemoryStore: Failed to reserve initial memory threshold of 1024.0 KiB for computing block rdd_812_23 in memory.\n",
      "24/04/30 23:59:15 WARN MemoryStore: Not enough space to cache rdd_812_23 in memory! (computed 384.0 B so far)\n",
      "24/04/30 23:59:15 WARN MemoryStore: Not enough space to cache rdd_812_28 in memory! (computed 384.0 B so far)\n",
      "24/04/30 23:59:15 WARN MemoryStore: Not enough space to cache rdd_812_20 in memory! (computed 1024.6 KiB so far)\n",
      "24/04/30 23:59:15 WARN MemoryStore: Not enough space to cache rdd_812_27 in memory! (computed 384.0 B so far)\n",
      "24/04/30 23:59:15 WARN MemoryStore: Not enough space to cache rdd_812_29 in memory! (computed 1024.6 KiB so far)\n",
      "24/04/30 23:59:15 WARN MemoryStore: Not enough space to cache rdd_812_30 in memory! (computed 1024.6 KiB so far)\n",
      "24/04/30 23:59:15 WARN MemoryStore: Failed to reserve initial memory threshold of 1024.0 KiB for computing block rdd_812_31 in memory.\n",
      "24/04/30 23:59:15 WARN MemoryStore: Not enough space to cache rdd_812_31 in memory! (computed 384.0 B so far)\n",
      "24/04/30 23:59:16 WARN MemoryStore: Not enough space to cache rdd_812_54 in memory! (computed 1024.6 KiB so far)\n",
      "24/04/30 23:59:16 WARN MemoryStore: Not enough space to cache rdd_812_49 in memory! (computed 17.0 MiB so far)\n"
     ]
    },
    {
     "name": "stderr",
     "output_type": "stream",
     "text": [
      "                                                                                \r"
     ]
    },
    {
     "name": "stdout",
     "output_type": "stream",
     "text": [
      "24/04/30 23:59:16 WARN MemoryStore: Failed to reserve initial memory threshold of 1024.0 KiB for computing block rdd_812_24 in memory.\n",
      "24/04/30 23:59:16 WARN MemoryStore: Not enough space to cache rdd_812_20 in memory! (computed 1024.6 KiB so far)\n",
      "24/04/30 23:59:16 WARN MemoryStore: Not enough space to cache rdd_812_24 in memory! (computed 384.0 B so far)\n",
      "24/04/30 23:59:16 WARN MemoryStore: Failed to reserve initial memory threshold of 1024.0 KiB for computing block rdd_812_23 in memory.\n",
      "24/04/30 23:59:16 WARN MemoryStore: Not enough space to cache rdd_812_21 in memory! (computed 3.5 MiB so far)\n",
      "24/04/30 23:59:16 WARN MemoryStore: Not enough space to cache rdd_812_23 in memory! (computed 384.0 B so far)\n",
      "24/04/30 23:59:16 WARN MemoryStore: Failed to reserve initial memory threshold of 1024.0 KiB for computing block rdd_812_26 in memory.\n",
      "24/04/30 23:59:16 WARN MemoryStore: Failed to reserve initial memory threshold of 1024.0 KiB for computing block rdd_812_28 in memory.\n",
      "24/04/30 23:59:16 WARN MemoryStore: Not enough space to cache rdd_812_28 in memory! (computed 384.0 B so far)\n",
      "24/04/30 23:59:16 WARN MemoryStore: Not enough space to cache rdd_812_26 in memory! (computed 384.0 B so far)\n",
      "24/04/30 23:59:16 WARN MemoryStore: Not enough space to cache rdd_812_27 in memory! (computed 1024.6 KiB so far)\n",
      "24/04/30 23:59:16 WARN MemoryStore: Not enough space to cache rdd_812_29 in memory! (computed 1024.6 KiB so far)\n",
      "24/04/30 23:59:16 WARN MemoryStore: Not enough space to cache rdd_812_30 in memory! (computed 1024.6 KiB so far)\n",
      "24/04/30 23:59:16 WARN MemoryStore: Not enough space to cache rdd_812_25 in memory! (computed 12.7 MiB so far)\n",
      "24/04/30 23:59:16 WARN MemoryStore: Not enough space to cache rdd_812_31 in memory! (computed 1024.6 KiB so far)\n",
      "24/04/30 23:59:16 WARN MemoryStore: Not enough space to cache rdd_812_54 in memory! (computed 1024.6 KiB so far)\n",
      "24/04/30 23:59:16 WARN MemoryStore: Not enough space to cache rdd_812_49 in memory! (computed 17.0 MiB so far)\n",
      "24/04/30 23:59:17 WARN MemoryStore: Failed to reserve initial memory threshold of 1024.0 KiB for computing block rdd_812_23 in memory.\n",
      "24/04/30 23:59:17 WARN MemoryStore: Failed to reserve initial memory threshold of 1024.0 KiB for computing block rdd_812_24 in memory.\n",
      "24/04/30 23:59:17 WARN MemoryStore: Not enough space to cache rdd_812_24 in memory! (computed 384.0 B so far)\n",
      "24/04/30 23:59:17 WARN MemoryStore: Not enough space to cache rdd_812_23 in memory! (computed 384.0 B so far)\n",
      "24/04/30 23:59:17 WARN MemoryStore: Not enough space to cache rdd_812_20 in memory! (computed 3.7 MiB so far)\n",
      "24/04/30 23:59:17 WARN MemoryStore: Failed to reserve initial memory threshold of 1024.0 KiB for computing block rdd_812_25 in memory.\n",
      "24/04/30 23:59:17 WARN MemoryStore: Not enough space to cache rdd_812_25 in memory! (computed 384.0 B so far)\n",
      "24/04/30 23:59:17 WARN MemoryStore: Failed to reserve initial memory threshold of 1024.0 KiB for computing block rdd_812_27 in memory.\n",
      "24/04/30 23:59:17 WARN MemoryStore: Not enough space to cache rdd_812_27 in memory! (computed 384.0 B so far)\n",
      "24/04/30 23:59:17 WARN MemoryStore: Failed to reserve initial memory threshold of 1024.0 KiB for computing block rdd_812_26 in memory.\n",
      "24/04/30 23:59:17 WARN MemoryStore: Not enough space to cache rdd_812_26 in memory! (computed 384.0 B so far)\n",
      "24/04/30 23:59:17 WARN MemoryStore: Failed to reserve initial memory threshold of 1024.0 KiB for computing block rdd_812_28 in memory.\n",
      "24/04/30 23:59:17 WARN MemoryStore: Not enough space to cache rdd_812_21 in memory! (computed 1024.6 KiB so far)\n",
      "24/04/30 23:59:17 WARN MemoryStore: Not enough space to cache rdd_812_28 in memory! (computed 384.0 B so far)\n",
      "24/04/30 23:59:17 WARN MemoryStore: Not enough space to cache rdd_812_30 in memory! (computed 1024.6 KiB so far)\n",
      "24/04/30 23:59:17 WARN MemoryStore: Not enough space to cache rdd_812_31 in memory! (computed 1024.6 KiB so far)\n",
      "24/04/30 23:59:17 WARN MemoryStore: Not enough space to cache rdd_812_29 in memory! (computed 12.0 MiB so far)\n",
      "24/04/30 23:59:17 WARN MemoryStore: Not enough space to cache rdd_812_54 in memory! (computed 1024.6 KiB so far)\n",
      "24/04/30 23:59:17 WARN MemoryStore: Not enough space to cache rdd_812_49 in memory! (computed 17.0 MiB so far)\n"
     ]
    },
    {
     "name": "stderr",
     "output_type": "stream",
     "text": [
      "                                                                                \r"
     ]
    },
    {
     "name": "stdout",
     "output_type": "stream",
     "text": [
      "24/04/30 23:59:17 WARN MemoryStore: Failed to reserve initial memory threshold of 1024.0 KiB for computing block rdd_812_27 in memory.\n",
      "24/04/30 23:59:17 WARN MemoryStore: Failed to reserve initial memory threshold of 1024.0 KiB for computing block rdd_812_26 in memory.\n",
      "24/04/30 23:59:17 WARN MemoryStore: Failed to reserve initial memory threshold of 1024.0 KiB for computing block rdd_812_23 in memory.\n",
      "24/04/30 23:59:17 WARN MemoryStore: Failed to reserve initial memory threshold of 1024.0 KiB for computing block rdd_812_20 in memory.\n",
      "24/04/30 23:59:17 WARN MemoryStore: Not enough space to cache rdd_812_27 in memory! (computed 384.0 B so far)\n",
      "24/04/30 23:59:17 WARN MemoryStore: Not enough space to cache rdd_812_23 in memory! (computed 384.0 B so far)\n",
      "24/04/30 23:59:17 WARN MemoryStore: Not enough space to cache rdd_812_26 in memory! (computed 384.0 B so far)\n",
      "24/04/30 23:59:17 WARN MemoryStore: Not enough space to cache rdd_812_20 in memory! (computed 384.0 B so far)\n",
      "24/04/30 23:59:17 WARN MemoryStore: Failed to reserve initial memory threshold of 1024.0 KiB for computing block rdd_812_25 in memory.\n",
      "24/04/30 23:59:17 WARN MemoryStore: Not enough space to cache rdd_812_25 in memory! (computed 384.0 B so far)\n",
      "24/04/30 23:59:17 WARN MemoryStore: Not enough space to cache rdd_812_21 in memory! (computed 1024.6 KiB so far)\n",
      "24/04/30 23:59:17 WARN MemoryStore: Not enough space to cache rdd_812_28 in memory! (computed 1024.6 KiB so far)\n",
      "24/04/30 23:59:17 WARN MemoryStore: Not enough space to cache rdd_812_24 in memory! (computed 9.7 MiB so far)\n",
      "24/04/30 23:59:17 WARN MemoryStore: Failed to reserve initial memory threshold of 1024.0 KiB for computing block rdd_812_30 in memory.\n",
      "24/04/30 23:59:17 WARN MemoryStore: Not enough space to cache rdd_812_29 in memory! (computed 1024.6 KiB so far)\n",
      "24/04/30 23:59:17 WARN MemoryStore: Not enough space to cache rdd_812_30 in memory! (computed 384.0 B so far)\n",
      "24/04/30 23:59:17 WARN MemoryStore: Not enough space to cache rdd_812_31 in memory! (computed 14.3 MiB so far)\n",
      "24/04/30 23:59:18 WARN MemoryStore: Not enough space to cache rdd_812_49 in memory! (computed 17.0 MiB so far)\n",
      "24/04/30 23:59:18 WARN MemoryStore: Not enough space to cache rdd_812_54 in memory! (computed 1024.6 KiB so far)\n"
     ]
    },
    {
     "name": "stderr",
     "output_type": "stream",
     "text": [
      "                                                                                \r"
     ]
    },
    {
     "name": "stdout",
     "output_type": "stream",
     "text": [
      "24/04/30 23:59:18 WARN MemoryStore: Not enough space to cache rdd_812_21 in memory! (computed 3.5 MiB so far)\n",
      "24/04/30 23:59:18 WARN MemoryStore: Failed to reserve initial memory threshold of 1024.0 KiB for computing block rdd_812_23 in memory.\n",
      "24/04/30 23:59:18 WARN MemoryStore: Not enough space to cache rdd_812_20 in memory! (computed 1024.6 KiB so far)\n",
      "24/04/30 23:59:18 WARN MemoryStore: Failed to reserve initial memory threshold of 1024.0 KiB for computing block rdd_812_25 in memory.\n",
      "24/04/30 23:59:18 WARN MemoryStore: Failed to reserve initial memory threshold of 1024.0 KiB for computing block rdd_812_26 in memory.\n",
      "24/04/30 23:59:18 WARN MemoryStore: Failed to reserve initial memory threshold of 1024.0 KiB for computing block rdd_812_27 in memory.\n",
      "24/04/30 23:59:18 WARN MemoryStore: Not enough space to cache rdd_812_25 in memory! (computed 384.0 B so far)\n",
      "24/04/30 23:59:18 WARN MemoryStore: Not enough space to cache rdd_812_27 in memory! (computed 384.0 B so far)\n",
      "24/04/30 23:59:18 WARN MemoryStore: Not enough space to cache rdd_812_23 in memory! (computed 384.0 B so far)\n",
      "24/04/30 23:59:18 WARN MemoryStore: Not enough space to cache rdd_812_26 in memory! (computed 384.0 B so far)\n",
      "24/04/30 23:59:18 WARN MemoryStore: Failed to reserve initial memory threshold of 1024.0 KiB for computing block rdd_812_28 in memory.\n",
      "24/04/30 23:59:18 WARN MemoryStore: Not enough space to cache rdd_812_28 in memory! (computed 384.0 B so far)\n",
      "24/04/30 23:59:18 WARN MemoryStore: Not enough space to cache rdd_812_29 in memory! (computed 1024.6 KiB so far)\n",
      "24/04/30 23:59:18 WARN MemoryStore: Not enough space to cache rdd_812_30 in memory! (computed 1024.6 KiB so far)\n",
      "24/04/30 23:59:18 WARN MemoryStore: Not enough space to cache rdd_812_24 in memory! (computed 9.7 MiB so far)\n",
      "24/04/30 23:59:18 WARN MemoryStore: Not enough space to cache rdd_812_31 in memory! (computed 1024.6 KiB so far)\n"
     ]
    },
    {
     "name": "stderr",
     "output_type": "stream",
     "text": [
      "[Stage 176:=========================================>             (47 + 8) / 62]\r"
     ]
    },
    {
     "name": "stdout",
     "output_type": "stream",
     "text": [
      "24/04/30 23:59:18 WARN MemoryStore: Not enough space to cache rdd_812_54 in memory! (computed 1024.6 KiB so far)\n",
      "24/04/30 23:59:19 WARN MemoryStore: Not enough space to cache rdd_812_49 in memory! (computed 17.0 MiB so far)\n"
     ]
    },
    {
     "name": "stderr",
     "output_type": "stream",
     "text": [
      "                                                                                \r"
     ]
    },
    {
     "name": "stdout",
     "output_type": "stream",
     "text": [
      "24/04/30 23:59:19 WARN MemoryStore: Not enough space to cache rdd_812_20 in memory! (computed 3.7 MiB so far)\n",
      "24/04/30 23:59:19 WARN MemoryStore: Failed to reserve initial memory threshold of 1024.0 KiB for computing block rdd_812_21 in memory.\n",
      "24/04/30 23:59:19 WARN MemoryStore: Not enough space to cache rdd_812_21 in memory! (computed 384.0 B so far)\n",
      "24/04/30 23:59:19 WARN MemoryStore: Failed to reserve initial memory threshold of 1024.0 KiB for computing block rdd_812_27 in memory.\n",
      "24/04/30 23:59:19 WARN MemoryStore: Not enough space to cache rdd_812_23 in memory! (computed 1024.6 KiB so far)\n",
      "24/04/30 23:59:19 WARN MemoryStore: Not enough space to cache rdd_812_27 in memory! (computed 384.0 B so far)\n",
      "24/04/30 23:59:19 WARN MemoryStore: Failed to reserve initial memory threshold of 1024.0 KiB for computing block rdd_812_28 in memory.\n",
      "24/04/30 23:59:19 WARN MemoryStore: Failed to reserve initial memory threshold of 1024.0 KiB for computing block rdd_812_26 in memory.\n",
      "24/04/30 23:59:19 WARN MemoryStore: Not enough space to cache rdd_812_25 in memory! (computed 1024.6 KiB so far)\n",
      "24/04/30 23:59:19 WARN MemoryStore: Not enough space to cache rdd_812_26 in memory! (computed 384.0 B so far)\n",
      "24/04/30 23:59:19 WARN MemoryStore: Failed to reserve initial memory threshold of 1024.0 KiB for computing block rdd_812_29 in memory.\n",
      "24/04/30 23:59:19 WARN MemoryStore: Not enough space to cache rdd_812_28 in memory! (computed 384.0 B so far)\n",
      "24/04/30 23:59:19 WARN MemoryStore: Not enough space to cache rdd_812_24 in memory! (computed 9.7 MiB so far)\n",
      "24/04/30 23:59:19 WARN MemoryStore: Not enough space to cache rdd_812_29 in memory! (computed 384.0 B so far)\n",
      "24/04/30 23:59:19 WARN MemoryStore: Not enough space to cache rdd_812_30 in memory! (computed 1024.6 KiB so far)\n",
      "24/04/30 23:59:19 WARN MemoryStore: Not enough space to cache rdd_812_31 in memory! (computed 14.3 MiB so far)\n",
      "24/04/30 23:59:19 WARN MemoryStore: Not enough space to cache rdd_812_54 in memory! (computed 1024.6 KiB so far)\n",
      "24/04/30 23:59:19 WARN MemoryStore: Not enough space to cache rdd_812_49 in memory! (computed 17.0 MiB so far)\n"
     ]
    },
    {
     "name": "stderr",
     "output_type": "stream",
     "text": [
      "                                                                                \r"
     ]
    },
    {
     "name": "stdout",
     "output_type": "stream",
     "text": [
      "24/04/30 23:59:19 WARN MemoryStore: Failed to reserve initial memory threshold of 1024.0 KiB for computing block rdd_812_23 in memory.\n",
      "24/04/30 23:59:19 WARN MemoryStore: Failed to reserve initial memory threshold of 1024.0 KiB for computing block rdd_812_24 in memory.\n",
      "24/04/30 23:59:19 WARN MemoryStore: Not enough space to cache rdd_812_23 in memory! (computed 384.0 B so far)\n",
      "24/04/30 23:59:19 WARN MemoryStore: Not enough space to cache rdd_812_21 in memory! (computed 3.5 MiB so far)\n",
      "24/04/30 23:59:19 WARN MemoryStore: Not enough space to cache rdd_812_20 in memory! (computed 1024.6 KiB so far)\n",
      "24/04/30 23:59:20 WARN MemoryStore: Not enough space to cache rdd_812_24 in memory! (computed 384.0 B so far)\n",
      "24/04/30 23:59:20 WARN MemoryStore: Not enough space to cache rdd_812_28 in memory! (computed 1024.6 KiB so far)\n",
      "24/04/30 23:59:20 WARN MemoryStore: Failed to reserve initial memory threshold of 1024.0 KiB for computing block rdd_812_27 in memory.\n",
      "24/04/30 23:59:20 WARN MemoryStore: Failed to reserve initial memory threshold of 1024.0 KiB for computing block rdd_812_30 in memory.\n",
      "24/04/30 23:59:20 WARN MemoryStore: Not enough space to cache rdd_812_27 in memory! (computed 384.0 B so far)\n",
      "24/04/30 23:59:20 WARN MemoryStore: Failed to reserve initial memory threshold of 1024.0 KiB for computing block rdd_812_25 in memory.\n",
      "24/04/30 23:59:20 WARN MemoryStore: Not enough space to cache rdd_812_25 in memory! (computed 384.0 B so far)\n",
      "24/04/30 23:59:20 WARN MemoryStore: Not enough space to cache rdd_812_29 in memory! (computed 1024.6 KiB so far)\n",
      "24/04/30 23:59:20 WARN MemoryStore: Not enough space to cache rdd_812_30 in memory! (computed 384.0 B so far)\n",
      "24/04/30 23:59:20 WARN MemoryStore: Not enough space to cache rdd_812_26 in memory! (computed 9.7 MiB so far)\n",
      "24/04/30 23:59:20 WARN MemoryStore: Not enough space to cache rdd_812_31 in memory! (computed 1024.6 KiB so far)\n",
      "24/04/30 23:59:20 WARN MemoryStore: Not enough space to cache rdd_812_49 in memory! (computed 17.0 MiB so far)\n",
      "24/04/30 23:59:20 WARN MemoryStore: Not enough space to cache rdd_812_54 in memory! (computed 1024.6 KiB so far)\n"
     ]
    },
    {
     "name": "stderr",
     "output_type": "stream",
     "text": [
      "[Stage 182:>                                                        (0 + 1) / 1]\r"
     ]
    },
    {
     "name": "stdout",
     "output_type": "stream",
     "text": [
      "+--------+--------------------+--------------------+--------------------+----------+\n",
      "|Severity|            features|       rawPrediction|         probability|prediction|\n",
      "+--------+--------------------+--------------------+--------------------+----------+\n",
      "|       1|[1.0,40.018669,-8...|[-10.067093438968...|[2.79305112923801...|       1.0|\n",
      "|       1|[1.0,41.395805,-8...|[-10.067056006610...|[7.23698203409434...|       1.0|\n",
      "|       2|[2.0,33.293147999...|[-10.067154738848...|[4.13890213494106...|       2.0|\n",
      "|       2|[2.0,33.625645,-1...|[-10.067293628552...|[7.96058156083586...|       2.0|\n",
      "|       2|[2.0,33.729725,-1...|[-10.067274645071...|[1.24733813811372...|       2.0|\n",
      "|       2|[2.0,33.736885,-1...|[-10.067205355280...|[9.14869983834938...|       2.0|\n",
      "|       2|[2.0,33.738293,-1...|[-10.067271319605...|[1.52789055326399...|       2.0|\n",
      "|       2|[2.0,33.738293,-1...|[-10.067273478523...|[1.33199129685503...|       2.0|\n",
      "|       2|[2.0,33.743271,-1...|[-10.067223127613...|[8.84157797591849...|       2.0|\n",
      "|       2|[2.0,33.747803000...|[-10.067198629458...|[4.75472336252124...|       2.0|\n",
      "|       2|[2.0,33.761913,-1...|[-10.067289609265...|[6.47139064183475...|       2.0|\n",
      "|       2|[2.0,33.773834,-1...|[-10.067197390923...|[2.58246520092463...|       2.0|\n",
      "|       2|[2.0,33.82354,-11...|[-10.067238744024...|[4.33366192616643...|       2.0|\n",
      "|       2|[2.0,33.875896000...|[-10.067189698168...|[5.28418705844349...|       2.0|\n",
      "|       2|[2.0,33.877403,-1...|[-10.067332748606...|[1.41074654225754...|       2.0|\n",
      "|       2|[2.0,33.891418,-1...|[-10.067316901799...|[1.84249214939686...|       2.0|\n",
      "|       2|[2.0,33.900024,-1...|[-10.067157492486...|[4.17037737288984...|       2.0|\n",
      "|       2|[2.0,33.903419,-1...|[-10.067179446402...|[3.46581257774727...|       2.0|\n",
      "|       2|[2.0,33.911037,-1...|[-10.067283948615...|[1.64448565558604...|       2.0|\n",
      "|       2|[2.0,33.921524,-1...|[-10.067284791941...|[1.00453225367842...|       2.0|\n",
      "+--------+--------------------+--------------------+--------------------+----------+\n",
      "only showing top 20 rows\n",
      "\n"
     ]
    },
    {
     "name": "stderr",
     "output_type": "stream",
     "text": [
      "                                                                                \r"
     ]
    }
   ],
   "source": [
    "lr = LogisticRegression(labelCol=\"Severity\")\n",
    "lr_model = lr.fit(train)\n",
    "\n",
    "# Model evaluation\n",
    "predictions = lr_model.transform(test)\n",
    "predictions.show()"
   ]
  },
  {
   "cell_type": "code",
   "execution_count": 57,
   "metadata": {},
   "outputs": [
    {
     "name": "stderr",
     "output_type": "stream",
     "text": [
      "[Stage 183:======================================================>(61 + 1) / 62]\r"
     ]
    },
    {
     "name": "stdout",
     "output_type": "stream",
     "text": [
      "+-------+-------------------+-------------------+\n",
      "|summary|           Severity|         prediction|\n",
      "+-------+-------------------+-------------------+\n",
      "|  count|            1696469|            1696469|\n",
      "|   mean| 2.1614123217105647| 2.1614123217105647|\n",
      "| stddev|0.45605204821128736|0.45605204821128736|\n",
      "|    min|                  1|                1.0|\n",
      "|    max|                  4|                4.0|\n",
      "+-------+-------------------+-------------------+\n",
      "\n"
     ]
    },
    {
     "name": "stderr",
     "output_type": "stream",
     "text": [
      "                                                                                \r"
     ]
    }
   ],
   "source": [
    "# Statistical summary of predictions\n",
    "predictions.describe().show()"
   ]
  },
  {
   "cell_type": "code",
   "execution_count": 58,
   "metadata": {},
   "outputs": [
    {
     "name": "stderr",
     "output_type": "stream",
     "text": [
      "                                                                                \r"
     ]
    },
    {
     "name": "stdout",
     "output_type": "stream",
     "text": [
      "Accuracy: 1.0\n"
     ]
    },
    {
     "name": "stderr",
     "output_type": "stream",
     "text": [
      "                                                                                \r"
     ]
    },
    {
     "name": "stdout",
     "output_type": "stream",
     "text": [
      "Precision: 1.0\n",
      "Recall: 1.0\n",
      "F1-score: 1.0\n"
     ]
    },
    {
     "name": "stderr",
     "output_type": "stream",
     "text": [
      "[Stage 194:======================================================>(61 + 1) / 62]\r"
     ]
    },
    {
     "name": "stdout",
     "output_type": "stream",
     "text": [
      "Area under the ROC curve (AUC): 1.0\n"
     ]
    },
    {
     "name": "stderr",
     "output_type": "stream",
     "text": [
      "                                                                                \r"
     ]
    }
   ],
   "source": [
    "from pyspark.ml.evaluation import MulticlassClassificationEvaluator\n",
    "\n",
    "# Define the evaluator\n",
    "evaluator = MulticlassClassificationEvaluator(labelCol=\"Severity\", predictionCol=\"prediction\", metricName=\"accuracy\")\n",
    "\n",
    "# Calculate accuracy\n",
    "accuracy = evaluator.evaluate(predictions)\n",
    "print(\"Accuracy:\", accuracy)\n",
    "\n",
    "# Other metrics: precision, recall, F1-score\n",
    "precision = evaluator.evaluate(predictions, {evaluator.metricName: \"weightedPrecision\"})\n",
    "recall = evaluator.evaluate(predictions, {evaluator.metricName: \"weightedRecall\"})\n",
    "f1_score = evaluator.evaluate(predictions, {evaluator.metricName: \"f1\"})\n",
    "print(\"Precision:\", precision)\n",
    "print(\"Recall:\", recall)\n",
    "print(\"F1-score:\", f1_score)\n",
    "\n",
    "# Area under the ROC curve (AUC)\n",
    "from pyspark.ml.evaluation import BinaryClassificationEvaluator\n",
    "\n",
    "binary_evaluator = BinaryClassificationEvaluator(labelCol=\"Severity\", rawPredictionCol=\"prediction\")\n",
    "auc = binary_evaluator.evaluate(predictions)\n",
    "print(\"Area under the ROC curve (AUC):\", auc)\n"
   ]
  }
 ],
 "metadata": {
  "kernelspec": {
   "display_name": "Python 3",
   "language": "python",
   "name": "python3"
  },
  "language_info": {
   "codemirror_mode": {
    "name": "ipython",
    "version": 3
   },
   "file_extension": ".py",
   "mimetype": "text/x-python",
   "name": "python",
   "nbconvert_exporter": "python",
   "pygments_lexer": "ipython3",
   "version": "3.10.14"
  }
 },
 "nbformat": 4,
 "nbformat_minor": 2
}
