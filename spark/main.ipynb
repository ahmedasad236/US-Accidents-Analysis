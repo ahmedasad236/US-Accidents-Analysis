{
 "cells": [
  {
   "cell_type": "code",
   "execution_count": 1,
   "metadata": {},
   "outputs": [],
   "source": [
    "from pyspark.sql import SparkSession"
   ]
  },
  {
   "cell_type": "code",
   "execution_count": 2,
   "metadata": {},
   "outputs": [],
   "source": [
    "from dotenv import load_dotenv\n",
    "import os\n",
    "load_dotenv()\n",
    "key_filepath = os.getenv(\"GOOGLE_APPLICATION_CREDENTIALS\")\n"
   ]
  },
  {
   "cell_type": "code",
   "execution_count": 3,
   "metadata": {},
   "outputs": [
    {
     "name": "stderr",
     "output_type": "stream",
     "text": [
      "Setting default log level to \"WARN\".\n",
      "To adjust logging level use sc.setLogLevel(newLevel). For SparkR, use setLogLevel(newLevel).\n"
     ]
    },
    {
     "name": "stdout",
     "output_type": "stream",
     "text": [
      "24/04/30 12:16:06 WARN NativeCodeLoader: Unable to load native-hadoop library for your platform... using builtin-java classes where applicable\n"
     ]
    }
   ],
   "source": [
    "spark = SparkSession.builder \\\n",
    "    .master(\"local[8]\") \\\n",
    "    .appName(\"US Accidents\") \\\n",
    "    .config(\"spark.hadoop.fs.gs.impl\", \"com.google.cloud.hadoop.fs.gcs.GoogleHadoopFileSystem\") \\\n",
    "    .config(\"spark.hadoop.google.cloud.auth.service.account.json.keyfile\",key_filepath  ) \\\n",
    "    .config(\"spark.hadoop.google.cloud.auth.service.account.enable\", \"true\") \\\n",
    "    .getOrCreate()"
   ]
  },
  {
   "cell_type": "code",
   "execution_count": 4,
   "metadata": {},
   "outputs": [
    {
     "name": "stderr",
     "output_type": "stream",
     "text": [
      "                                                                                \r"
     ]
    }
   ],
   "source": [
    "\n",
    "# Read Parquet files from GCS\n",
    "parquet_files = [\n",
    "                \"gs://us-accidents-bucket/us_accidents_data/Start_Year=2016/933c14c388864f19a17c514e311a69b1-0.parquet\",\n",
    "                \"gs://us-accidents-bucket/us_accidents_data/Start_Year=2017/933c14c388864f19a17c514e311a69b1-0.parquet\",\n",
    "                \"gs://us-accidents-bucket/us_accidents_data/Start_Year=2018/933c14c388864f19a17c514e311a69b1-0.parquet\",\n",
    "                \"gs://us-accidents-bucket/us_accidents_data/Start_Year=2019/933c14c388864f19a17c514e311a69b1-0.parquet\",\n",
    "                \"gs://us-accidents-bucket/us_accidents_data/Start_Year=2020/933c14c388864f19a17c514e311a69b1-0.parquet\",\n",
    "                \"gs://us-accidents-bucket/us_accidents_data/Start_Year=2021/933c14c388864f19a17c514e311a69b1-0.parquet\",\n",
    "                \"gs://us-accidents-bucket/us_accidents_data/Start_Year=2022/933c14c388864f19a17c514e311a69b1-0.parquet\",\n",
    "                \"gs://us-accidents-bucket/us_accidents_data/Start_Year=2023/933c14c388864f19a17c514e311a69b1-0.parquet\"\n",
    "                ]\n",
    "\n",
    "df_list = [spark.read.option(\"header\", \"true\").option(\"inferSchema\", \"true\").parquet(file) for file in parquet_files]\n",
    "\n",
    "merged_df = df_list[0]\n",
    "for df in df_list[1:]:\n",
    "    merged_df = merged_df.unionAll(df)\n",
    "\n"
   ]
  },
  {
   "cell_type": "code",
   "execution_count": 6,
   "metadata": {},
   "outputs": [
    {
     "name": "stdout",
     "output_type": "stream",
     "text": [
      "24/04/30 11:35:00 WARN package: Truncated the string representation of a plan since it was too large. This behavior can be adjusted by setting 'spark.sql.debug.maxToStringFields'.\n"
     ]
    },
    {
     "name": "stderr",
     "output_type": "stream",
     "text": [
      "[Stage 8:>                                                          (0 + 1) / 1]\r"
     ]
    },
    {
     "name": "stdout",
     "output_type": "stream",
     "text": [
      "+----+-------+--------+-------------------+-------------------+-----------------+------------------+------------+--------------------+--------------------+------------+----------+-----+-------+--------------+-------------+-----------+------------+--------------+--------------+---------------+-----------------+--------+-------+-------+---------------+--------------+--------------+\n",
      "|  ID| Source|Severity|         Start_Time|           End_Time|        Start_Lat|         Start_Lng|Distance(mi)|         Description|              Street|        City|    County|State|Country|Temperature(F)|Wind_Chill(F)|Humidity(%)|Pressure(in)|Visibility(mi)|Wind_Direction|Wind_Speed(mph)|Weather_Condition|Crossing|Railway|Station|Traffic_Calming|Traffic_Signal|Sunrise_Sunset|\n",
      "+----+-------+--------+-------------------+-------------------+-----------------+------------------+------------+--------------------+--------------------+------------+----------+-----+-------+--------------+-------------+-----------+------------+--------------+--------------+---------------+-----------------+--------+-------+-------+---------------+--------------+--------------+\n",
      "| A-1|Source2|       3|2016-02-08 05:46:00|2016-02-08 11:00:00|        39.865147|        -84.058723|        0.01|Right lane blocke...|              I-70 E|      Dayton|Montgomery|   OH|     US|          36.9|         null|       91.0|       29.68|          10.0|          Calm|           null|       Light Rain|   false|  false|  false|          false|         false|         Night|\n",
      "| A-2|Source2|       2|2016-02-08 06:07:59|2016-02-08 06:37:59|39.92805900000001|        -82.831184|        0.01|Accident on Brice...|            Brice Rd|Reynoldsburg|  Franklin|   OH|     US|          37.9|         null|      100.0|       29.65|          10.0|          Calm|           null|       Light Rain|   false|  false|  false|          false|         false|         Night|\n",
      "| A-3|Source2|       2|2016-02-08 06:49:27|2016-02-08 07:19:27|        39.063148|        -84.032608|        0.01|Accident on OH-32...|      State Route 32|Williamsburg|  Clermont|   OH|     US|          36.0|         33.3|      100.0|       29.67|          10.0|            SW|            3.5|         Overcast|   false|  false|  false|          false|          true|         Night|\n",
      "| A-4|Source2|       3|2016-02-08 07:23:34|2016-02-08 07:53:34|        39.747753|-84.20558199999998|        0.01|Accident on I-75 ...|              I-75 S|      Dayton|Montgomery|   OH|     US|          35.1|         31.0|       96.0|       29.64|           9.0|            SW|            4.6|    Mostly Cloudy|   false|  false|  false|          false|         false|         Night|\n",
      "| A-5|Source2|       2|2016-02-08 07:39:07|2016-02-08 08:09:07|        39.627781|        -84.188354|        0.01|Accident on McEwe...|Miamisburg Center...|      Dayton|Montgomery|   OH|     US|          36.0|         33.3|       89.0|       29.65|           6.0|            SW|            3.5|    Mostly Cloudy|   false|  false|  false|          false|          true|           Day|\n",
      "| A-6|Source2|       3|2016-02-08 07:44:26|2016-02-08 08:14:26|         40.10059|-82.92519399999998|        0.01|Accident on I-270...|      Westerville Rd| Westerville|  Franklin|   OH|     US|          37.9|         35.5|       97.0|       29.63|           7.0|           SSW|            3.5|       Light Rain|   false|  false|  false|          false|         false|           Day|\n",
      "| A-7|Source2|       2|2016-02-08 07:59:35|2016-02-08 08:29:35|        39.758274|-84.23050699999997|         0.0|Accident on Oakri...|      N Woodward Ave|      Dayton|Montgomery|   OH|     US|          34.0|         31.0|      100.0|       29.66|           7.0|           WSW|            3.5|         Overcast|   false|  false|  false|          false|         false|           Day|\n",
      "| A-8|Source2|       3|2016-02-08 07:59:58|2016-02-08 08:29:58|        39.770382|        -84.194901|        0.01|Accident on I-75 ...|           N Main St|      Dayton|Montgomery|   OH|     US|          34.0|         31.0|      100.0|       29.66|           7.0|           WSW|            3.5|         Overcast|   false|  false|  false|          false|         false|           Day|\n",
      "| A-9|Source2|       2|2016-02-08 08:00:40|2016-02-08 08:30:40|        39.778061|        -84.172005|         0.0|Accident on Notre...|      Notre Dame Ave|      Dayton|Montgomery|   OH|     US|          33.3|         null|       99.0|       29.67|           5.0|            SW|            1.2|    Mostly Cloudy|   false|  false|  false|          false|         false|           Day|\n",
      "|A-10|Source2|       3|2016-02-08 08:10:04|2016-02-08 08:40:04|         40.10059|-82.92519399999998|        0.01|Right hand should...|      Westerville Rd| Westerville|  Franklin|   OH|     US|          37.4|         33.8|      100.0|       29.62|           3.0|           SSW|            4.6|       Light Rain|   false|  false|  false|          false|         false|           Day|\n",
      "|A-11|Source2|       3|2016-02-08 08:14:42|2016-02-08 08:44:42|        39.952812|        -83.119293|        0.01|Accident on I-270...|         Outerbelt S|    Columbus|  Franklin|   OH|     US|          35.6|         30.7|       93.0|       29.64|           5.0|           WNW|            5.8|             Rain|    true|  false|  false|          false|         false|           Day|\n",
      "|A-12|Source2|       3|2016-02-08 08:21:27|2016-02-08 08:51:27|        39.932709|         -82.83091|        0.01|One lane blocked ...|              I-70 E|Reynoldsburg|  Franklin|   OH|     US|          37.4|         33.8|      100.0|       29.62|           3.0|           SSW|            4.6|       Light Rain|   false|  false|  false|          false|         false|           Day|\n",
      "|A-13|Source2|       2|2016-02-08 08:36:34|2016-02-08 09:06:34|        39.737633|-84.14993299999998|         0.0|Accident on Rever...|      Watervliet Ave|      Dayton|Montgomery|   OH|     US|          33.8|         null|      100.0|       29.63|           3.0|            SW|            2.3|         Overcast|   false|  false|  false|          false|         false|           Day|\n",
      "|A-14|Source2|       2|2016-02-08 08:37:07|2016-02-08 09:07:07|         39.79076|        -84.241547|        0.01|Accident on Salem...|           Salem Ave|      Dayton|Montgomery|   OH|     US|          36.0|         31.1|       89.0|       29.65|          10.0|            NW|            5.8|    Mostly Cloudy|   false|  false|  false|          false|          true|           Day|\n",
      "|A-15|Source2|       2|2016-02-08 08:39:43|2016-02-08 09:09:43|        39.972038|        -82.913521|        0.01|Accident on OH-16...|          E Broad St|    Columbus|  Franklin|   OH|     US|          37.4|         33.8|      100.0|       29.62|           3.0|           SSW|            4.6|       Light Rain|   false|  false|  false|          false|          true|           Day|\n",
      "|A-16|Source2|       2|2016-02-08 08:43:20|2016-02-08 09:13:20|        39.745888|         -84.17041|        0.01|Accident on Wayne...|         Glencoe Ave|      Dayton|Montgomery|   OH|     US|          33.8|         null|      100.0|       29.63|           3.0|            SW|            2.3|         Overcast|   false|  false|  false|          false|         false|           Day|\n",
      "|A-17|Source2|       2|2016-02-08 08:53:17|2016-02-08 09:23:17|        39.748329|        -84.224007|        0.01|Accident on James...|S James H McGee Blvd|      Dayton|Montgomery|   OH|     US|          35.6|         null|       99.0|       29.65|           7.0|           WSW|            2.3|    Mostly Cloudy|   false|  false|  false|          false|         false|           Day|\n",
      "|A-18|Source2|       2|2016-02-08 09:24:37|2016-02-08 09:54:37|        39.752174|        -84.239952|         0.0|Accident on Delph...|         Delphos Ave|      Dayton|Montgomery|   OH|     US|          36.0|         31.1|       89.0|       29.65|          10.0|            NW|            5.8|    Mostly Cloudy|   false|  false|  false|          false|         false|           Day|\n",
      "|A-19|Source2|       2|2016-02-08 09:25:17|2016-02-08 09:55:17|        39.740669|        -84.184135|        0.01|Accident on Stewa...|          Rubicon St|      Dayton|Montgomery|   OH|     US|          37.4|         32.1|       93.0|       29.63|          10.0|           WSW|            6.9|         Overcast|    true|  false|  false|          false|          true|           Day|\n",
      "|A-20|Source2|       2|2016-02-08 09:35:35|2016-02-08 10:05:35|        39.790703|        -84.244461|        0.01|Accident on Hillc...|     W Hillcrest Ave|      Dayton|Montgomery|   OH|     US|          36.0|         30.3|       89.0|       29.65|          10.0|          West|            6.9|    Mostly Cloudy|   false|  false|  false|          false|         false|           Day|\n",
      "+----+-------+--------+-------------------+-------------------+-----------------+------------------+------------+--------------------+--------------------+------------+----------+-----+-------+--------------+-------------+-----------+------------+--------------+--------------+---------------+-----------------+--------+-------+-------+---------------+--------------+--------------+\n",
      "only showing top 20 rows\n",
      "\n"
     ]
    },
    {
     "name": "stderr",
     "output_type": "stream",
     "text": [
      "                                                                                \r"
     ]
    }
   ],
   "source": [
    "merged_df.show()"
   ]
  },
  {
   "cell_type": "markdown",
   "metadata": {},
   "source": [
    "# Cleaning the data\n",
    "\n",
    "### Steps:\n",
    "> Removing unimportnant columns\n",
    "\n",
    "> Renaming the columns\n",
    "\n",
    "> Convert the values of the columns into easy handled values"
   ]
  },
  {
   "cell_type": "code",
   "execution_count": 5,
   "metadata": {},
   "outputs": [
    {
     "name": "stderr",
     "output_type": "stream",
     "text": [
      "                                                                                \r"
     ]
    },
    {
     "name": "stdout",
     "output_type": "stream",
     "text": [
      "Column: ID, has 7728394 distinct values\n"
     ]
    },
    {
     "name": "stderr",
     "output_type": "stream",
     "text": [
      "                                                                                \r"
     ]
    },
    {
     "name": "stdout",
     "output_type": "stream",
     "text": [
      "Column: Source, has 3 distinct values\n"
     ]
    },
    {
     "name": "stderr",
     "output_type": "stream",
     "text": [
      "                                                                                \r"
     ]
    },
    {
     "name": "stdout",
     "output_type": "stream",
     "text": [
      "Column: Severity, has 4 distinct values\n"
     ]
    },
    {
     "name": "stderr",
     "output_type": "stream",
     "text": [
      "                                                                                \r"
     ]
    },
    {
     "name": "stdout",
     "output_type": "stream",
     "text": [
      "Column: Start_Time, has 6131796 distinct values\n"
     ]
    },
    {
     "name": "stderr",
     "output_type": "stream",
     "text": [
      "                                                                                \r"
     ]
    },
    {
     "name": "stdout",
     "output_type": "stream",
     "text": [
      "Column: End_Time, has 6705355 distinct values\n"
     ]
    },
    {
     "name": "stderr",
     "output_type": "stream",
     "text": [
      "                                                                                \r"
     ]
    },
    {
     "name": "stdout",
     "output_type": "stream",
     "text": [
      "Column: Start_Lat, has 2428358 distinct values\n"
     ]
    },
    {
     "name": "stderr",
     "output_type": "stream",
     "text": [
      "                                                                                \r"
     ]
    },
    {
     "name": "stdout",
     "output_type": "stream",
     "text": [
      "Column: Start_Lng, has 2482533 distinct values\n"
     ]
    },
    {
     "name": "stderr",
     "output_type": "stream",
     "text": [
      "                                                                                \r"
     ]
    },
    {
     "name": "stdout",
     "output_type": "stream",
     "text": [
      "Column: Distance(mi), has 22382 distinct values\n"
     ]
    },
    {
     "name": "stderr",
     "output_type": "stream",
     "text": [
      "                                                                                \r"
     ]
    },
    {
     "name": "stdout",
     "output_type": "stream",
     "text": [
      "Column: Description, has 3761579 distinct values\n"
     ]
    },
    {
     "name": "stderr",
     "output_type": "stream",
     "text": [
      "                                                                                \r"
     ]
    },
    {
     "name": "stdout",
     "output_type": "stream",
     "text": [
      "Column: Street, has 336307 distinct values\n"
     ]
    },
    {
     "name": "stderr",
     "output_type": "stream",
     "text": [
      "                                                                                \r"
     ]
    },
    {
     "name": "stdout",
     "output_type": "stream",
     "text": [
      "Column: City, has 13679 distinct values\n"
     ]
    },
    {
     "name": "stderr",
     "output_type": "stream",
     "text": [
      "                                                                                \r"
     ]
    },
    {
     "name": "stdout",
     "output_type": "stream",
     "text": [
      "Column: County, has 1871 distinct values\n"
     ]
    },
    {
     "name": "stderr",
     "output_type": "stream",
     "text": [
      "                                                                                \r"
     ]
    },
    {
     "name": "stdout",
     "output_type": "stream",
     "text": [
      "Column: State, has 49 distinct values\n"
     ]
    },
    {
     "name": "stderr",
     "output_type": "stream",
     "text": [
      "                                                                                \r"
     ]
    },
    {
     "name": "stdout",
     "output_type": "stream",
     "text": [
      "Column: Country, has 1 distinct values\n"
     ]
    },
    {
     "name": "stderr",
     "output_type": "stream",
     "text": [
      "                                                                                \r"
     ]
    },
    {
     "name": "stdout",
     "output_type": "stream",
     "text": [
      "Column: Temperature(F), has 861 distinct values\n"
     ]
    },
    {
     "name": "stderr",
     "output_type": "stream",
     "text": [
      "                                                                                \r"
     ]
    },
    {
     "name": "stdout",
     "output_type": "stream",
     "text": [
      "Column: Wind_Chill(F), has 1002 distinct values\n"
     ]
    },
    {
     "name": "stderr",
     "output_type": "stream",
     "text": [
      "                                                                                \r"
     ]
    },
    {
     "name": "stdout",
     "output_type": "stream",
     "text": [
      "Column: Humidity(%), has 101 distinct values\n"
     ]
    },
    {
     "name": "stderr",
     "output_type": "stream",
     "text": [
      "                                                                                \r"
     ]
    },
    {
     "name": "stdout",
     "output_type": "stream",
     "text": [
      "Column: Pressure(in), has 1145 distinct values\n"
     ]
    },
    {
     "name": "stderr",
     "output_type": "stream",
     "text": [
      "                                                                                \r"
     ]
    },
    {
     "name": "stdout",
     "output_type": "stream",
     "text": [
      "Column: Visibility(mi), has 93 distinct values\n"
     ]
    },
    {
     "name": "stderr",
     "output_type": "stream",
     "text": [
      "                                                                                \r"
     ]
    },
    {
     "name": "stdout",
     "output_type": "stream",
     "text": [
      "Column: Wind_Direction, has 25 distinct values\n"
     ]
    },
    {
     "name": "stderr",
     "output_type": "stream",
     "text": [
      "                                                                                \r"
     ]
    },
    {
     "name": "stdout",
     "output_type": "stream",
     "text": [
      "Column: Wind_Speed(mph), has 185 distinct values\n"
     ]
    },
    {
     "name": "stderr",
     "output_type": "stream",
     "text": [
      "                                                                                \r"
     ]
    },
    {
     "name": "stdout",
     "output_type": "stream",
     "text": [
      "Column: Weather_Condition, has 145 distinct values\n"
     ]
    },
    {
     "name": "stderr",
     "output_type": "stream",
     "text": [
      "                                                                                \r"
     ]
    },
    {
     "name": "stdout",
     "output_type": "stream",
     "text": [
      "Column: Crossing, has 2 distinct values\n"
     ]
    },
    {
     "name": "stderr",
     "output_type": "stream",
     "text": [
      "                                                                                \r"
     ]
    },
    {
     "name": "stdout",
     "output_type": "stream",
     "text": [
      "Column: Railway, has 2 distinct values\n"
     ]
    },
    {
     "name": "stderr",
     "output_type": "stream",
     "text": [
      "                                                                                \r"
     ]
    },
    {
     "name": "stdout",
     "output_type": "stream",
     "text": [
      "Column: Station, has 2 distinct values\n"
     ]
    },
    {
     "name": "stderr",
     "output_type": "stream",
     "text": [
      "                                                                                \r"
     ]
    },
    {
     "name": "stdout",
     "output_type": "stream",
     "text": [
      "Column: Traffic_Calming, has 2 distinct values\n"
     ]
    },
    {
     "name": "stderr",
     "output_type": "stream",
     "text": [
      "                                                                                \r"
     ]
    },
    {
     "name": "stdout",
     "output_type": "stream",
     "text": [
      "Column: Traffic_Signal, has 2 distinct values\n"
     ]
    },
    {
     "name": "stderr",
     "output_type": "stream",
     "text": [
      "[Stage 89:=====================================================>  (59 + 3) / 62]\r"
     ]
    },
    {
     "name": "stdout",
     "output_type": "stream",
     "text": [
      "Column: Sunrise_Sunset, has 3 distinct values\n"
     ]
    },
    {
     "name": "stderr",
     "output_type": "stream",
     "text": [
      "                                                                                \r"
     ]
    }
   ],
   "source": [
    "# Iterate through each column in the DataFrame\n",
    "for col in merged_df.columns:\n",
    "    # Get the unique values for the current column\n",
    "    unique_values = merged_df.select(col).distinct().collect()\n",
    "    \n",
    "    # Print the column name and its unique values\n",
    "    print(f\"Column: {col}, has {len(unique_values)} distinct values\")\n",
    "    # for val in unique_values:\n",
    "    #     print(val[col])\n",
    "    # print()"
   ]
  },
  {
   "cell_type": "code",
   "execution_count": 6,
   "metadata": {},
   "outputs": [],
   "source": [
    "# List of column names to drop\n",
    "columns_to_drop = ['Country']\n",
    "\n",
    "# Drop the unimportant columns\n",
    "cleaned_df = merged_df.drop(*columns_to_drop)\n"
   ]
  },
  {
   "cell_type": "code",
   "execution_count": 7,
   "metadata": {},
   "outputs": [],
   "source": [
    "from pyspark.sql.functions import to_timestamp\n",
    "\n",
    "# Convert \"Start_Time\" and \"End_Time\" columns to datetime format\n",
    "cleaned_df = cleaned_df.withColumn(\"Start_Time\", to_timestamp(cleaned_df[\"Start_Time\"], \"yyyy-MM-dd HH:mm:ss\"))\n",
    "cleaned_df = cleaned_df.withColumn(\"End_Time\", to_timestamp(cleaned_df[\"End_Time\"], \"yyyy-MM-dd HH:mm:ss\"))\n"
   ]
  },
  {
   "cell_type": "code",
   "execution_count": 8,
   "metadata": {},
   "outputs": [],
   "source": [
    "from pyspark.sql.functions import col\n",
    "\n",
    "# Convert \"Distance(mi)\" column from miles to meters\n",
    "cleaned_df = cleaned_df.withColumn(\"Distance(m)\", col(\"Distance(mi)\") * 1609.34)\n",
    "\n",
    "# Drop the original \"Distance(mi)\" column if needed\n",
    "cleaned_df = cleaned_df.drop(\"Distance(mi)\")\n"
   ]
  },
  {
   "cell_type": "code",
   "execution_count": 9,
   "metadata": {},
   "outputs": [],
   "source": [
    "from pyspark.sql.types import IntegerType\n",
    "\n",
    "# Convert \"Severity\" column from string to integer\n",
    "cleaned_df = cleaned_df.withColumn(\"Severity\", cleaned_df[\"Severity\"].cast(IntegerType()))\n"
   ]
  },
  {
   "cell_type": "code",
   "execution_count": 10,
   "metadata": {},
   "outputs": [
    {
     "name": "stdout",
     "output_type": "stream",
     "text": [
      "24/04/30 12:35:44 WARN package: Truncated the string representation of a plan since it was too large. This behavior can be adjusted by setting 'spark.sql.debug.maxToStringFields'.\n"
     ]
    },
    {
     "name": "stderr",
     "output_type": "stream",
     "text": [
      "[Stage 92:>                                                         (0 + 1) / 1]\r"
     ]
    },
    {
     "name": "stdout",
     "output_type": "stream",
     "text": [
      "+----+-------+--------+-------------------+-------------------+-----------------+------------------+--------------------+--------------------+------------+----------+-----+--------------+-------------+-----------+------------+--------------+--------------+---------------+-----------------+--------+-------+-------+---------------+--------------+--------------+-----------+\n",
      "|  ID| Source|Severity|         Start_Time|           End_Time|        Start_Lat|         Start_Lng|         Description|              Street|        City|    County|State|Temperature(F)|Wind_Chill(F)|Humidity(%)|Pressure(in)|Visibility(mi)|Wind_Direction|Wind_Speed(mph)|Weather_Condition|Crossing|Railway|Station|Traffic_Calming|Traffic_Signal|Sunrise_Sunset|Distance(m)|\n",
      "+----+-------+--------+-------------------+-------------------+-----------------+------------------+--------------------+--------------------+------------+----------+-----+--------------+-------------+-----------+------------+--------------+--------------+---------------+-----------------+--------+-------+-------+---------------+--------------+--------------+-----------+\n",
      "| A-1|Source2|       3|2016-02-08 05:46:00|2016-02-08 11:00:00|        39.865147|        -84.058723|Right lane blocke...|              I-70 E|      Dayton|Montgomery|   OH|          36.9|         null|       91.0|       29.68|          10.0|          Calm|           null|       Light Rain|   false|  false|  false|          false|         false|         Night|    16.0934|\n",
      "| A-2|Source2|       2|2016-02-08 06:07:59|2016-02-08 06:37:59|39.92805900000001|        -82.831184|Accident on Brice...|            Brice Rd|Reynoldsburg|  Franklin|   OH|          37.9|         null|      100.0|       29.65|          10.0|          Calm|           null|       Light Rain|   false|  false|  false|          false|         false|         Night|    16.0934|\n",
      "| A-3|Source2|       2|2016-02-08 06:49:27|2016-02-08 07:19:27|        39.063148|        -84.032608|Accident on OH-32...|      State Route 32|Williamsburg|  Clermont|   OH|          36.0|         33.3|      100.0|       29.67|          10.0|            SW|            3.5|         Overcast|   false|  false|  false|          false|          true|         Night|    16.0934|\n",
      "| A-4|Source2|       3|2016-02-08 07:23:34|2016-02-08 07:53:34|        39.747753|-84.20558199999998|Accident on I-75 ...|              I-75 S|      Dayton|Montgomery|   OH|          35.1|         31.0|       96.0|       29.64|           9.0|            SW|            4.6|    Mostly Cloudy|   false|  false|  false|          false|         false|         Night|    16.0934|\n",
      "| A-5|Source2|       2|2016-02-08 07:39:07|2016-02-08 08:09:07|        39.627781|        -84.188354|Accident on McEwe...|Miamisburg Center...|      Dayton|Montgomery|   OH|          36.0|         33.3|       89.0|       29.65|           6.0|            SW|            3.5|    Mostly Cloudy|   false|  false|  false|          false|          true|           Day|    16.0934|\n",
      "| A-6|Source2|       3|2016-02-08 07:44:26|2016-02-08 08:14:26|         40.10059|-82.92519399999998|Accident on I-270...|      Westerville Rd| Westerville|  Franklin|   OH|          37.9|         35.5|       97.0|       29.63|           7.0|           SSW|            3.5|       Light Rain|   false|  false|  false|          false|         false|           Day|    16.0934|\n",
      "| A-7|Source2|       2|2016-02-08 07:59:35|2016-02-08 08:29:35|        39.758274|-84.23050699999997|Accident on Oakri...|      N Woodward Ave|      Dayton|Montgomery|   OH|          34.0|         31.0|      100.0|       29.66|           7.0|           WSW|            3.5|         Overcast|   false|  false|  false|          false|         false|           Day|        0.0|\n",
      "| A-8|Source2|       3|2016-02-08 07:59:58|2016-02-08 08:29:58|        39.770382|        -84.194901|Accident on I-75 ...|           N Main St|      Dayton|Montgomery|   OH|          34.0|         31.0|      100.0|       29.66|           7.0|           WSW|            3.5|         Overcast|   false|  false|  false|          false|         false|           Day|    16.0934|\n",
      "| A-9|Source2|       2|2016-02-08 08:00:40|2016-02-08 08:30:40|        39.778061|        -84.172005|Accident on Notre...|      Notre Dame Ave|      Dayton|Montgomery|   OH|          33.3|         null|       99.0|       29.67|           5.0|            SW|            1.2|    Mostly Cloudy|   false|  false|  false|          false|         false|           Day|        0.0|\n",
      "|A-10|Source2|       3|2016-02-08 08:10:04|2016-02-08 08:40:04|         40.10059|-82.92519399999998|Right hand should...|      Westerville Rd| Westerville|  Franklin|   OH|          37.4|         33.8|      100.0|       29.62|           3.0|           SSW|            4.6|       Light Rain|   false|  false|  false|          false|         false|           Day|    16.0934|\n",
      "|A-11|Source2|       3|2016-02-08 08:14:42|2016-02-08 08:44:42|        39.952812|        -83.119293|Accident on I-270...|         Outerbelt S|    Columbus|  Franklin|   OH|          35.6|         30.7|       93.0|       29.64|           5.0|           WNW|            5.8|             Rain|    true|  false|  false|          false|         false|           Day|    16.0934|\n",
      "|A-12|Source2|       3|2016-02-08 08:21:27|2016-02-08 08:51:27|        39.932709|         -82.83091|One lane blocked ...|              I-70 E|Reynoldsburg|  Franklin|   OH|          37.4|         33.8|      100.0|       29.62|           3.0|           SSW|            4.6|       Light Rain|   false|  false|  false|          false|         false|           Day|    16.0934|\n",
      "|A-13|Source2|       2|2016-02-08 08:36:34|2016-02-08 09:06:34|        39.737633|-84.14993299999998|Accident on Rever...|      Watervliet Ave|      Dayton|Montgomery|   OH|          33.8|         null|      100.0|       29.63|           3.0|            SW|            2.3|         Overcast|   false|  false|  false|          false|         false|           Day|        0.0|\n",
      "|A-14|Source2|       2|2016-02-08 08:37:07|2016-02-08 09:07:07|         39.79076|        -84.241547|Accident on Salem...|           Salem Ave|      Dayton|Montgomery|   OH|          36.0|         31.1|       89.0|       29.65|          10.0|            NW|            5.8|    Mostly Cloudy|   false|  false|  false|          false|          true|           Day|    16.0934|\n",
      "|A-15|Source2|       2|2016-02-08 08:39:43|2016-02-08 09:09:43|        39.972038|        -82.913521|Accident on OH-16...|          E Broad St|    Columbus|  Franklin|   OH|          37.4|         33.8|      100.0|       29.62|           3.0|           SSW|            4.6|       Light Rain|   false|  false|  false|          false|          true|           Day|    16.0934|\n",
      "|A-16|Source2|       2|2016-02-08 08:43:20|2016-02-08 09:13:20|        39.745888|         -84.17041|Accident on Wayne...|         Glencoe Ave|      Dayton|Montgomery|   OH|          33.8|         null|      100.0|       29.63|           3.0|            SW|            2.3|         Overcast|   false|  false|  false|          false|         false|           Day|    16.0934|\n",
      "|A-17|Source2|       2|2016-02-08 08:53:17|2016-02-08 09:23:17|        39.748329|        -84.224007|Accident on James...|S James H McGee Blvd|      Dayton|Montgomery|   OH|          35.6|         null|       99.0|       29.65|           7.0|           WSW|            2.3|    Mostly Cloudy|   false|  false|  false|          false|         false|           Day|    16.0934|\n",
      "|A-18|Source2|       2|2016-02-08 09:24:37|2016-02-08 09:54:37|        39.752174|        -84.239952|Accident on Delph...|         Delphos Ave|      Dayton|Montgomery|   OH|          36.0|         31.1|       89.0|       29.65|          10.0|            NW|            5.8|    Mostly Cloudy|   false|  false|  false|          false|         false|           Day|        0.0|\n",
      "|A-19|Source2|       2|2016-02-08 09:25:17|2016-02-08 09:55:17|        39.740669|        -84.184135|Accident on Stewa...|          Rubicon St|      Dayton|Montgomery|   OH|          37.4|         32.1|       93.0|       29.63|          10.0|           WSW|            6.9|         Overcast|    true|  false|  false|          false|          true|           Day|    16.0934|\n",
      "|A-20|Source2|       2|2016-02-08 09:35:35|2016-02-08 10:05:35|        39.790703|        -84.244461|Accident on Hillc...|     W Hillcrest Ave|      Dayton|Montgomery|   OH|          36.0|         30.3|       89.0|       29.65|          10.0|          West|            6.9|    Mostly Cloudy|   false|  false|  false|          false|         false|           Day|    16.0934|\n",
      "+----+-------+--------+-------------------+-------------------+-----------------+------------------+--------------------+--------------------+------------+----------+-----+--------------+-------------+-----------+------------+--------------+--------------+---------------+-----------------+--------+-------+-------+---------------+--------------+--------------+-----------+\n",
      "only showing top 20 rows\n",
      "\n"
     ]
    },
    {
     "name": "stderr",
     "output_type": "stream",
     "text": [
      "                                                                                \r"
     ]
    }
   ],
   "source": [
    "cleaned_df.show()"
   ]
  }
 ],
 "metadata": {
  "kernelspec": {
   "display_name": "Python 3",
   "language": "python",
   "name": "python3"
  },
  "language_info": {
   "codemirror_mode": {
    "name": "ipython",
    "version": 3
   },
   "file_extension": ".py",
   "mimetype": "text/x-python",
   "name": "python",
   "nbconvert_exporter": "python",
   "pygments_lexer": "ipython3",
   "version": "3.10.14"
  }
 },
 "nbformat": 4,
 "nbformat_minor": 2
}
